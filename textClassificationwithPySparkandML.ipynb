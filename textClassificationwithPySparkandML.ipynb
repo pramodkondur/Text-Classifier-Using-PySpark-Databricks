{
 "cells": [
  {
   "cell_type": "markdown",
   "id": "divided-moldova",
   "metadata": {},
   "source": [
    "# Text Classification with PySpark\n",
    "\n",
    "## MultiClass Text Classification\n",
    "\n",
    "Dataset from Kaggle: https://www.kaggle.com/datasets/andrewmvd/udemy-courses\n",
    "\n",
    "# Uses of Text Classification\n",
    "\n",
    "Below are some key business applications of Text Classification:\n",
    "\n",
    "- **Customer Support Automation**: Automatically classifying customer queries to route them to the appropriate support channels, enhancing response times and reducing costs.\n",
    "\n",
    "- **Sentiment Analysis**: Analyzing customer feedback, reviews, and social media content to gauge public sentiment towards products or services, guiding business decisions.\n",
    "\n",
    "- **Spam Detection**: Filtering spam and phishing messages from communication platforms, improving user experience and security.\n",
    "\n",
    "- **Content Moderation**: Automatically categorizing and moderating user-generated content to maintain community standards and protect brand reputation.\n",
    "\n",
    "- **Document Classification**: Organizing and classifying documents (e.g., legal, research) for easier retrieval and management.\n",
    "\n",
    "- **Personalized Recommendations**: Classifying user behavior and preferences to enhance recommendation systems, increasing engagement and conversion rates.\n",
    "\n",
    "- **Market Research Insights**: Analyzing and categorizing data from surveys and forums to identify customer trends and preferences.\n",
    "\n",
    "- **News Categorization**: Automatically classifying news articles into relevant topics for better user navigation and retention.\n",
    "\n",
    "- **Fraud Detection**: Identifying potentially fraudulent transactions by classifying textual descriptions based on historical data.\n",
    "\n",
    "- **Brand Monitoring**: Classifying online mentions of a brand to assess sentiment and manage reputation proactively.\n",
    "\n",
    "- **Survey Analysis**: Classifying responses from open-ended survey questions to derive actionable insights from qualitative data.\n",
    "\n",
    "# Uses of PySpark\n",
    "\n",
    "PySpark is a powerful tool for handling large-scale data processing and machine learning, making it an ideal choice for busniesses with large amounts of data. Here are several reasons to use PySpark:\n",
    "\n",
    "- **Scalability**: PySpark can efficiently process large datasets that exceed the memory capacity of a single machine by distributing the workload across a cluster of machines.\n",
    "\n",
    "- **Speed**: Leveraging in-memory processing capabilities, PySpark offers faster execution times compared to traditional disk-based data processing frameworks.\n",
    "\n",
    "- **Ease of Use**: PySpark provides a familiar interface for Python users, allowing them to apply their existing Python knowledge to big data tasks with ease.\n",
    "\n",
    "- **Integration with Other Tools**: PySpark can easily integrate with various big data tools, such as Hadoop and Apache Kafka, facilitating seamless data ingestion and processing.\n",
    "\n",
    "- **Built-in Machine Learning Library**: PySpark's MLlib provides a rich set of machine learning algorithms and utilities specifically optimized for big data, simplifying the implementation of text classification models.\n",
    "\n",
    "- **Support for Streaming Data**: PySpark can handle real-time data streams, making it suitable for applications that require immediate processing of incoming text data (e.g., social media sentiment analysis).\n",
    "\n",
    "- **Rich DataFrame API**: PySpark’s DataFrame API allows for efficient data manipulation and transformation, enabling users to preprocess and clean text data before classification.\n",
    "\n"
   ]
  },
  {
   "cell_type": "code",
   "execution_count": 1,
   "id": "random-cemetery",
   "metadata": {},
   "outputs": [],
   "source": [
    "# Load Pkgs\n",
    "from pyspark import SparkContext"
   ]
  },
  {
   "cell_type": "code",
   "execution_count": 2,
   "id": "working-louis",
   "metadata": {},
   "outputs": [
    {
     "name": "stderr",
     "output_type": "stream",
     "text": [
      "Setting default log level to \"WARN\".\n",
      "To adjust logging level use sc.setLogLevel(newLevel). For SparkR, use setLogLevel(newLevel).\n",
      "24/10/02 17:54:24 WARN NativeCodeLoader: Unable to load native-hadoop library for your platform... using builtin-java classes where applicable\n",
      "24/10/02 17:54:24 WARN Utils: Service 'SparkUI' could not bind on port 4040. Attempting port 4041.\n"
     ]
    }
   ],
   "source": [
    "sc = SparkContext(master=\"local[2]\")"
   ]
  },
  {
   "cell_type": "code",
   "execution_count": 3,
   "id": "burning-surgeon",
   "metadata": {},
   "outputs": [
    {
     "data": {
      "text/html": [
       "\n",
       "        <div>\n",
       "            <p><b>SparkContext</b></p>\n",
       "\n",
       "            <p><a href=\"http://192.168.29.224:4041\">Spark UI</a></p>\n",
       "\n",
       "            <dl>\n",
       "              <dt>Version</dt>\n",
       "                <dd><code>v3.5.3</code></dd>\n",
       "              <dt>Master</dt>\n",
       "                <dd><code>local[2]</code></dd>\n",
       "              <dt>AppName</dt>\n",
       "                <dd><code>pyspark-shell</code></dd>\n",
       "            </dl>\n",
       "        </div>\n",
       "        "
      ],
      "text/plain": [
       "<SparkContext master=local[2] appName=pyspark-shell>"
      ]
     },
     "execution_count": 3,
     "metadata": {},
     "output_type": "execute_result"
    }
   ],
   "source": [
    "# Launch UI\n",
    "sc"
   ]
  },
  {
   "cell_type": "code",
   "execution_count": 4,
   "id": "critical-reducing",
   "metadata": {},
   "outputs": [],
   "source": [
    "# Create A Spark Session\n",
    "from pyspark.sql import SparkSession"
   ]
  },
  {
   "cell_type": "code",
   "execution_count": 5,
   "id": "crucial-container",
   "metadata": {},
   "outputs": [],
   "source": [
    "spark = SparkSession.builder.appName(\"TextClassifierwithPySpark\").getOrCreate()"
   ]
  },
  {
   "cell_type": "code",
   "execution_count": 6,
   "id": "communist-preserve",
   "metadata": {},
   "outputs": [],
   "source": [
    "# Load Our Dataset\n",
    "df = spark.read.csv(\"data/udemy_courses_clean.csv\",header=True,inferSchema=True)"
   ]
  },
  {
   "cell_type": "code",
   "execution_count": 7,
   "id": "specific-attraction",
   "metadata": {
    "tags": []
   },
   "outputs": [
    {
     "name": "stdout",
     "output_type": "stream",
     "text": [
      "+---+---------+--------------------+--------------------+-------+-----+---------------+-----------+------------+------------------+----------------+--------------------+----------------+--------------------+\n",
      "|_c0|course_id|        course_title|                 url|is_paid|price|num_subscribers|num_reviews|num_lectures|             level|content_duration| published_timestamp|         subject|  clean_course_title|\n",
      "+---+---------+--------------------+--------------------+-------+-----+---------------+-----------+------------+------------------+----------------+--------------------+----------------+--------------------+\n",
      "|  0|  1070968|Ultimate Investme...|https://www.udemy...|   True|  200|           2147|         23|          51|        All Levels|       1.5 hours|2017-01-18T20:58:58Z|Business Finance|Ultimate Investme...|\n",
      "|  1|  1113822|Complete GST Cour...|https://www.udemy...|   True|   75|           2792|        923|         274|        All Levels|        39 hours|2017-03-09T16:34:20Z|Business Finance|Complete GST Cour...|\n",
      "|  2|  1006314|Financial Modelin...|https://www.udemy...|   True|   45|           2174|         74|          51|Intermediate Level|       2.5 hours|2016-12-19T19:26:30Z|Business Finance|Financial Modelin...|\n",
      "|  3|  1210588|Beginner to Pro -...|https://www.udemy...|   True|   95|           2451|         11|          36|        All Levels|         3 hours|2017-05-30T20:07:24Z|Business Finance|Beginner Pro  Fin...|\n",
      "|  4|  1011058|How To Maximize Y...|https://www.udemy...|   True|  200|           1276|         45|          26|Intermediate Level|         2 hours|2016-12-13T14:57:18Z|Business Finance|Maximize Profits ...|\n",
      "|  5|   192870|Trading Penny Sto...|https://www.udemy...|   True|  150|           9221|        138|          25|        All Levels|         3 hours|2014-05-02T15:13:30Z|Business Finance|Trading Penny Sto...|\n",
      "|  6|   739964|Investing And Tra...|https://www.udemy...|   True|   65|           1540|        178|          26|    Beginner Level|          1 hour|2016-02-21T18:23:12Z|Business Finance|Investing Trading...|\n",
      "|  7|   403100|Trading Stock Cha...|https://www.udemy...|   True|   95|           2917|        148|          23|        All Levels|       2.5 hours|2015-01-30T22:13:03Z|Business Finance|Trading Stock Cha...|\n",
      "|  8|   476268|Options Trading 3...|https://www.udemy...|   True|  195|           5172|         34|          38|      Expert Level|       2.5 hours|2015-05-28T00:14:03Z|Business Finance|Options Trading 3...|\n",
      "|  9|  1167710|The Only Investme...|https://www.udemy...|   True|  200|            827|         14|          15|        All Levels|          1 hour|2017-04-18T18:13:32Z|Business Finance|Investment Strate...|\n",
      "| 10|   592338|Forex Trading Sec...|https://www.udemy...|   True|  200|           4284|         93|          76|        All Levels|         5 hours|2015-09-11T16:47:02Z|Business Finance|Forex Trading Sec...|\n",
      "| 11|   975046|Trading Options W...|https://www.udemy...|   True|  200|           1380|         42|          17|        All Levels|          1 hour|2016-10-18T22:52:31Z|Business Finance|Trading Options M...|\n",
      "| 12|   742602|Financial Managem...|https://www.udemy...|   True|   30|           3607|         21|          19|        All Levels|       1.5 hours|2016-02-03T18:04:01Z|Business Finance|Financial Managem...|\n",
      "| 13|   794151|Forex Trading Cou...|https://www.udemy...|   True|  195|           4061|         52|          16|        All Levels|         2 hours|2016-03-16T15:40:19Z|Business Finance|Forex Trading Cou...|\n",
      "| 14|  1196544|Python Algo Tradi...|https://www.udemy...|   True|  200|            294|         19|          42|        All Levels|         7 hours|2017-04-28T16:41:44Z|Business Finance|Python Algo Tradi...|\n",
      "| 15|   504036|Short Selling: Le...|https://www.udemy...|   True|   75|           2276|        106|          19|Intermediate Level|       1.5 hours|2015-06-22T21:18:35Z|Business Finance|Short Selling Lea...|\n",
      "| 16|   719698|Basic Technical A...|https://www.udemy...|   True|   20|           4919|         79|          16|    Beginner Level|       1.5 hours|2016-01-08T17:21:26Z|Business Finance|Basic Technical A...|\n",
      "| 17|   564966|The Complete Char...|https://www.udemy...|   True|  200|           2666|        115|          52|        All Levels|         4 hours|2015-08-10T21:07:35Z|Business Finance|Complete Chart Pa...|\n",
      "| 18|   606928|7 Deadly Mistakes...|https://www.udemy...|   True|   50|           5354|         24|          23|        All Levels|       1.5 hours|2015-09-21T18:10:34Z|Business Finance|7 Deadly Mistakes...|\n",
      "| 19|    58977|Financial Stateme...|https://www.udemy...|   True|   95|           8095|        249|          12|    Beginner Level|         35 mins|2013-06-09T00:21:26Z|Business Finance|Financial Stateme...|\n",
      "+---+---------+--------------------+--------------------+-------+-----+---------------+-----------+------------+------------------+----------------+--------------------+----------------+--------------------+\n",
      "only showing top 20 rows\n",
      "\n"
     ]
    },
    {
     "name": "stderr",
     "output_type": "stream",
     "text": [
      "24/10/02 17:54:28 WARN CSVHeaderChecker: CSV header does not conform to the schema.\n",
      " Header: , course_id, course_title, url, is_paid, price, num_subscribers, num_reviews, num_lectures, level, content_duration, published_timestamp, subject, clean_course_title\n",
      " Schema: _c0, course_id, course_title, url, is_paid, price, num_subscribers, num_reviews, num_lectures, level, content_duration, published_timestamp, subject, clean_course_title\n",
      "Expected: _c0 but found: \n",
      "CSV file: file:///Users/pramodkondur/Desktop/pysparktutorial/data/udemy_courses_clean.csv\n"
     ]
    }
   ],
   "source": [
    "df.show()"
   ]
  },
  {
   "cell_type": "code",
   "execution_count": 8,
   "id": "unusual-paper",
   "metadata": {},
   "outputs": [
    {
     "data": {
      "text/plain": [
       "['_c0',\n",
       " 'course_id',\n",
       " 'course_title',\n",
       " 'url',\n",
       " 'is_paid',\n",
       " 'price',\n",
       " 'num_subscribers',\n",
       " 'num_reviews',\n",
       " 'num_lectures',\n",
       " 'level',\n",
       " 'content_duration',\n",
       " 'published_timestamp',\n",
       " 'subject',\n",
       " 'clean_course_title']"
      ]
     },
     "execution_count": 8,
     "metadata": {},
     "output_type": "execute_result"
    }
   ],
   "source": [
    "# Columns\n",
    "df.columns"
   ]
  },
  {
   "cell_type": "code",
   "execution_count": 9,
   "id": "classical-uniform",
   "metadata": {
    "tags": []
   },
   "outputs": [
    {
     "name": "stdout",
     "output_type": "stream",
     "text": [
      "+--------------------+----------------+\n",
      "|        course_title|         subject|\n",
      "+--------------------+----------------+\n",
      "|Ultimate Investme...|Business Finance|\n",
      "|Complete GST Cour...|Business Finance|\n",
      "|Financial Modelin...|Business Finance|\n",
      "|Beginner to Pro -...|Business Finance|\n",
      "|How To Maximize Y...|Business Finance|\n",
      "|Trading Penny Sto...|Business Finance|\n",
      "|Investing And Tra...|Business Finance|\n",
      "|Trading Stock Cha...|Business Finance|\n",
      "|Options Trading 3...|Business Finance|\n",
      "|The Only Investme...|Business Finance|\n",
      "|Forex Trading Sec...|Business Finance|\n",
      "|Trading Options W...|Business Finance|\n",
      "|Financial Managem...|Business Finance|\n",
      "|Forex Trading Cou...|Business Finance|\n",
      "|Python Algo Tradi...|Business Finance|\n",
      "|Short Selling: Le...|Business Finance|\n",
      "|Basic Technical A...|Business Finance|\n",
      "|The Complete Char...|Business Finance|\n",
      "|7 Deadly Mistakes...|Business Finance|\n",
      "|Financial Stateme...|Business Finance|\n",
      "+--------------------+----------------+\n",
      "only showing top 20 rows\n",
      "\n"
     ]
    }
   ],
   "source": [
    "# Select Columns\n",
    "df.select('course_title','subject').show()"
   ]
  },
  {
   "cell_type": "code",
   "execution_count": 10,
   "id": "announced-picking",
   "metadata": {},
   "outputs": [],
   "source": [
    "df = df.select('course_title','subject')"
   ]
  },
  {
   "cell_type": "code",
   "execution_count": 11,
   "id": "dimensional-bridges",
   "metadata": {},
   "outputs": [
    {
     "name": "stdout",
     "output_type": "stream",
     "text": [
      "+--------------------+----------------+\n",
      "|        course_title|         subject|\n",
      "+--------------------+----------------+\n",
      "|Ultimate Investme...|Business Finance|\n",
      "|Complete GST Cour...|Business Finance|\n",
      "|Financial Modelin...|Business Finance|\n",
      "|Beginner to Pro -...|Business Finance|\n",
      "|How To Maximize Y...|Business Finance|\n",
      "+--------------------+----------------+\n",
      "only showing top 5 rows\n",
      "\n"
     ]
    }
   ],
   "source": [
    "df.show(5)"
   ]
  },
  {
   "cell_type": "code",
   "execution_count": 12,
   "id": "concerned-reggae",
   "metadata": {
    "tags": []
   },
   "outputs": [
    {
     "name": "stdout",
     "output_type": "stream",
     "text": [
      "+--------------------+-----+\n",
      "|             subject|count|\n",
      "+--------------------+-----+\n",
      "|play Electric Gui...|    1|\n",
      "|Multiply returns ...|    1|\n",
      "|                NULL|    6|\n",
      "|    Business Finance| 1198|\n",
      "|Introduction Guit...|    1|\n",
      "|Learn Play Fernan...|    1|\n",
      "|      Graphic Design|  603|\n",
      "|Aprende tocar el ...|    1|\n",
      "|     Web Development| 1200|\n",
      "|Learn Classical G...|    1|\n",
      "| Musical Instruments|  676|\n",
      "+--------------------+-----+\n",
      "\n"
     ]
    }
   ],
   "source": [
    "# Value Counts\n",
    "df.groupBy('subject').count().show()"
   ]
  },
  {
   "cell_type": "code",
   "execution_count": 13,
   "id": "romance-holiday",
   "metadata": {
    "scrolled": true,
    "tags": []
   },
   "outputs": [
    {
     "data": {
      "text/plain": [
       "subject\n",
       "Web Development                                                                                                                                                                                              1200\n",
       "Business Finance                                                                                                                                                                                             1198\n",
       "Musical Instruments                                                                                                                                                                                           676\n",
       "Graphic Design                                                                                                                                                                                                603\n",
       "Multiply returns Value Investinghttpswwwudemycommultiplyyourreturnsusingvalueinvestingtrue2019421963All Levels45 hours20150723T000833Z 874284Weekly Forex Analysis Baraq FX                                     1\n",
       "Learn Play Fernando Sors Study B minorhttpswwwudemycomstudyinbminortrue115140359Intermediate Level43 mins20140127T205816Z 398746Piano Chord Based System  Learn Play Pros Do                                    1\n",
       "play Electric Guitarhttpswwwudemycomelectricguitarbeginnersmethodtrue501105520Beginner Level2 hours20161229T002406Z 42038Learn Piano Today Play Piano Course Quick Lessons                                      1\n",
       "Learn Classical Guitar Technique play Spanish Romancehttpswwwudemycomguitartechniquestrue19513164643All Levels5 hours20131118T175959Z 265888Learn Guitar Worship Learn 4 Songs unlock 1                         1\n",
       "Introduction Guitar A Course Beginnershttpswwwudemycomintroductiontoguitartrue251631156Beginner Level25 hours20141030T155939Z 650804Guitar Master Class Learning Play Guitar Z                                  1\n",
       "Aprende tocar el Acorden de odo con tcnicahttpswwwudemycomaprendeatocarelacordeondeoidoycontecnicatrue25932134Beginner Level4 hours20140916T195145Z 263432Aprende los Secretos de la Armnica con HARPSOUL       1\n",
       "Name: count, dtype: int64"
      ]
     },
     "execution_count": 13,
     "metadata": {},
     "output_type": "execute_result"
    }
   ],
   "source": [
    "# Value Counts via pandas\n",
    "df.toPandas()['subject'].value_counts()"
   ]
  },
  {
   "cell_type": "code",
   "execution_count": 14,
   "id": "01fe7184-1835-4bfe-9008-5f8ae406d91d",
   "metadata": {},
   "outputs": [
    {
     "data": {
      "text/plain": [
       "subject\n",
       "Web Development        1200\n",
       "Business Finance       1198\n",
       "Musical Instruments     676\n",
       "Graphic Design          603\n",
       "Name: count, dtype: int64"
      ]
     },
     "execution_count": 14,
     "metadata": {},
     "output_type": "execute_result"
    }
   ],
   "source": [
    "# Removing the subjects where value counts is 1\n",
    "\n",
    "df = df.where(df.subject.isin(df.groupBy('subject').count().filter('count > 1').select('subject').rdd.flatMap(lambda x: x).collect()))\n",
    "df.toPandas()['subject'].value_counts()"
   ]
  },
  {
   "cell_type": "code",
   "execution_count": 15,
   "id": "authorized-royal",
   "metadata": {},
   "outputs": [
    {
     "data": {
      "text/plain": [
       "np.int64(0)"
      ]
     },
     "execution_count": 15,
     "metadata": {},
     "output_type": "execute_result"
    }
   ],
   "source": [
    "# Check For Missing Values\n",
    "df.toPandas()['subject'].isnull().sum()"
   ]
  },
  {
   "cell_type": "code",
   "execution_count": 16,
   "id": "statistical-saturday",
   "metadata": {},
   "outputs": [
    {
     "name": "stdout",
     "output_type": "stream",
     "text": [
      "+--------------------+----------------+\n",
      "|        course_title|         subject|\n",
      "+--------------------+----------------+\n",
      "|Ultimate Investme...|Business Finance|\n",
      "|Complete GST Cour...|Business Finance|\n",
      "|Financial Modelin...|Business Finance|\n",
      "|Beginner to Pro -...|Business Finance|\n",
      "|How To Maximize Y...|Business Finance|\n",
      "+--------------------+----------------+\n",
      "only showing top 5 rows\n",
      "\n"
     ]
    }
   ],
   "source": [
    "df.show(5)"
   ]
  },
  {
   "cell_type": "markdown",
   "id": "beautiful-scoop",
   "metadata": {},
   "source": [
    "### Feature Extraction\n",
    "#### Build Features From Text\n",
    "+ CountVectorizer\n",
    "+ TFIDF\n",
    "+ WordEmbedding\n",
    "+ HashingTF\n",
    "+ etc"
   ]
  },
  {
   "cell_type": "code",
   "execution_count": 17,
   "id": "reduced-defendant",
   "metadata": {},
   "outputs": [],
   "source": [
    "# Load Our Pkgs\n",
    "import pyspark.ml.feature"
   ]
  },
  {
   "cell_type": "code",
   "execution_count": 18,
   "id": "worthy-norwegian",
   "metadata": {
    "scrolled": true,
    "tags": []
   },
   "outputs": [
    {
     "data": {
      "text/plain": [
       "['Any',\n",
       " 'Binarizer',\n",
       " 'BucketedRandomProjectionLSH',\n",
       " 'BucketedRandomProjectionLSHModel',\n",
       " 'Bucketizer',\n",
       " 'ChiSqSelector',\n",
       " 'ChiSqSelectorModel',\n",
       " 'CountVectorizer',\n",
       " 'CountVectorizerModel',\n",
       " 'DCT',\n",
       " 'DataFrame',\n",
       " 'DenseMatrix',\n",
       " 'DenseVector',\n",
       " 'Dict',\n",
       " 'ElementwiseProduct',\n",
       " 'FeatureHasher',\n",
       " 'Generic',\n",
       " 'HasFeaturesCol',\n",
       " 'HasHandleInvalid',\n",
       " 'HasInputCol',\n",
       " 'HasInputCols',\n",
       " 'HasLabelCol',\n",
       " 'HasMaxIter',\n",
       " 'HasNumFeatures',\n",
       " 'HasOutputCol',\n",
       " 'HasOutputCols',\n",
       " 'HasRelativeError',\n",
       " 'HasSeed',\n",
       " 'HasStepSize',\n",
       " 'HasThreshold',\n",
       " 'HasThresholds',\n",
       " 'HashingTF',\n",
       " 'IDF',\n",
       " 'IDFModel',\n",
       " 'Imputer',\n",
       " 'ImputerModel',\n",
       " 'IndexToString',\n",
       " 'Interaction',\n",
       " 'JM',\n",
       " 'JavaEstimator',\n",
       " 'JavaMLReadable',\n",
       " 'JavaMLWritable',\n",
       " 'JavaModel',\n",
       " 'JavaParams',\n",
       " 'JavaTransformer',\n",
       " 'List',\n",
       " 'MaxAbsScaler',\n",
       " 'MaxAbsScalerModel',\n",
       " 'MinHashLSH',\n",
       " 'MinHashLSHModel',\n",
       " 'MinMaxScaler',\n",
       " 'MinMaxScalerModel',\n",
       " 'NGram',\n",
       " 'Normalizer',\n",
       " 'OneHotEncoder',\n",
       " 'OneHotEncoderModel',\n",
       " 'Optional',\n",
       " 'P',\n",
       " 'PCA',\n",
       " 'PCAModel',\n",
       " 'Param',\n",
       " 'Params',\n",
       " 'PolynomialExpansion',\n",
       " 'QuantileDiscretizer',\n",
       " 'RFormula',\n",
       " 'RFormulaModel',\n",
       " 'RegexTokenizer',\n",
       " 'RobustScaler',\n",
       " 'RobustScalerModel',\n",
       " 'SQLTransformer',\n",
       " 'SparkContext',\n",
       " 'StandardScaler',\n",
       " 'StandardScalerModel',\n",
       " 'StopWordsRemover',\n",
       " 'StringIndexer',\n",
       " 'StringIndexerModel',\n",
       " 'TYPE_CHECKING',\n",
       " 'Tokenizer',\n",
       " 'Tuple',\n",
       " 'TypeConverters',\n",
       " 'TypeVar',\n",
       " 'Union',\n",
       " 'UnivariateFeatureSelector',\n",
       " 'UnivariateFeatureSelectorModel',\n",
       " 'VarianceThresholdSelector',\n",
       " 'VarianceThresholdSelectorModel',\n",
       " 'Vector',\n",
       " 'VectorAssembler',\n",
       " 'VectorIndexer',\n",
       " 'VectorIndexerModel',\n",
       " 'VectorSizeHint',\n",
       " 'VectorSlicer',\n",
       " 'Word2Vec',\n",
       " 'Word2VecModel',\n",
       " '_BucketedRandomProjectionLSHParams',\n",
       " '_CountVectorizerParams',\n",
       " '_IDFParams',\n",
       " '_ImputerParams',\n",
       " '_LSH',\n",
       " '_LSHModel',\n",
       " '_LSHParams',\n",
       " '_MaxAbsScalerParams',\n",
       " '_MinMaxScalerParams',\n",
       " '_OneHotEncoderParams',\n",
       " '_PCAParams',\n",
       " '_RFormulaParams',\n",
       " '_RobustScalerParams',\n",
       " '_Selector',\n",
       " '_SelectorModel',\n",
       " '_SelectorParams',\n",
       " '_StandardScalerParams',\n",
       " '_StringIndexerParams',\n",
       " '_UnivariateFeatureSelectorParams',\n",
       " '_VarianceThresholdSelectorParams',\n",
       " '_VectorIndexerParams',\n",
       " '_Word2VecParams',\n",
       " '__all__',\n",
       " '__builtins__',\n",
       " '__cached__',\n",
       " '__doc__',\n",
       " '__file__',\n",
       " '__loader__',\n",
       " '__name__',\n",
       " '__package__',\n",
       " '__spec__',\n",
       " '_convert_to_vector',\n",
       " '_jvm',\n",
       " 'cast',\n",
       " 'inherit_doc',\n",
       " 'keyword_only',\n",
       " 'overload',\n",
       " 'since']"
      ]
     },
     "execution_count": 18,
     "metadata": {},
     "output_type": "execute_result"
    }
   ],
   "source": [
    "dir(pyspark.ml.feature)"
   ]
  },
  {
   "cell_type": "code",
   "execution_count": 19,
   "id": "involved-accessory",
   "metadata": {},
   "outputs": [],
   "source": [
    "# Load Our Transformer & Extractor Pkgs\n",
    "from pyspark.ml.feature import Tokenizer,StopWordsRemover,CountVectorizer,IDF\n",
    "from pyspark.ml.feature import StringIndexer"
   ]
  },
  {
   "cell_type": "code",
   "execution_count": 20,
   "id": "challenging-alcohol",
   "metadata": {},
   "outputs": [
    {
     "name": "stdout",
     "output_type": "stream",
     "text": [
      "+--------------------+----------------+\n",
      "|        course_title|         subject|\n",
      "+--------------------+----------------+\n",
      "|Ultimate Investme...|Business Finance|\n",
      "|Complete GST Cour...|Business Finance|\n",
      "|Financial Modelin...|Business Finance|\n",
      "|Beginner to Pro -...|Business Finance|\n",
      "|How To Maximize Y...|Business Finance|\n",
      "+--------------------+----------------+\n",
      "only showing top 5 rows\n",
      "\n"
     ]
    }
   ],
   "source": [
    "df.show(5)"
   ]
  },
  {
   "cell_type": "code",
   "execution_count": 21,
   "id": "qualified-shaft",
   "metadata": {},
   "outputs": [],
   "source": [
    "# Stages For the Pipeline\n",
    "tokenizer = Tokenizer(inputCol='course_title',outputCol='mytokens')\n",
    "stopwords_remover = StopWordsRemover(inputCol='mytokens',outputCol='filtered_tokens')\n",
    "vectorizer = CountVectorizer(inputCol='filtered_tokens',outputCol='rawFeatures')\n",
    "idf = IDF(inputCol='rawFeatures',outputCol='vectorizedFeatures')\n"
   ]
  },
  {
   "cell_type": "code",
   "execution_count": 22,
   "id": "cosmetic-korea",
   "metadata": {},
   "outputs": [],
   "source": [
    "# LabelEncoding/LabelIndexing\n",
    "labelEncoder = StringIndexer(inputCol='subject',outputCol='label').fit(df)"
   ]
  },
  {
   "cell_type": "code",
   "execution_count": 23,
   "id": "collective-speed",
   "metadata": {},
   "outputs": [
    {
     "name": "stdout",
     "output_type": "stream",
     "text": [
      "+--------------------+----------------+-----+\n",
      "|        course_title|         subject|label|\n",
      "+--------------------+----------------+-----+\n",
      "|Ultimate Investme...|Business Finance|  1.0|\n",
      "|Complete GST Cour...|Business Finance|  1.0|\n",
      "|Financial Modelin...|Business Finance|  1.0|\n",
      "|Beginner to Pro -...|Business Finance|  1.0|\n",
      "|How To Maximize Y...|Business Finance|  1.0|\n",
      "+--------------------+----------------+-----+\n",
      "only showing top 5 rows\n",
      "\n"
     ]
    }
   ],
   "source": [
    "labelEncoder.transform(df).show(5)"
   ]
  },
  {
   "cell_type": "code",
   "execution_count": 24,
   "id": "stone-ethernet",
   "metadata": {},
   "outputs": [
    {
     "data": {
      "text/plain": [
       "['Web Development',\n",
       " 'Business Finance',\n",
       " 'Musical Instruments',\n",
       " 'Graphic Design']"
      ]
     },
     "execution_count": 24,
     "metadata": {},
     "output_type": "execute_result"
    }
   ],
   "source": [
    "labelEncoder.labels"
   ]
  },
  {
   "cell_type": "code",
   "execution_count": 25,
   "id": "exempt-contemporary",
   "metadata": {},
   "outputs": [],
   "source": [
    "# Dict of Labels\n",
    "label_dict = {'Web Development':0.0,\n",
    " 'Business Finance':1.0,\n",
    " 'Musical Instruments':2.0,\n",
    " 'Graphic Design':3.0}"
   ]
  },
  {
   "cell_type": "code",
   "execution_count": 26,
   "id": "qualified-facial",
   "metadata": {
    "tags": []
   },
   "outputs": [
    {
     "name": "stdout",
     "output_type": "stream",
     "text": [
      "+--------------------+----------------+\n",
      "|        course_title|         subject|\n",
      "+--------------------+----------------+\n",
      "|Ultimate Investme...|Business Finance|\n",
      "|Complete GST Cour...|Business Finance|\n",
      "|Financial Modelin...|Business Finance|\n",
      "|Beginner to Pro -...|Business Finance|\n",
      "|How To Maximize Y...|Business Finance|\n",
      "|Trading Penny Sto...|Business Finance|\n",
      "|Investing And Tra...|Business Finance|\n",
      "|Trading Stock Cha...|Business Finance|\n",
      "|Options Trading 3...|Business Finance|\n",
      "|The Only Investme...|Business Finance|\n",
      "|Forex Trading Sec...|Business Finance|\n",
      "|Trading Options W...|Business Finance|\n",
      "|Financial Managem...|Business Finance|\n",
      "|Forex Trading Cou...|Business Finance|\n",
      "|Python Algo Tradi...|Business Finance|\n",
      "|Short Selling: Le...|Business Finance|\n",
      "|Basic Technical A...|Business Finance|\n",
      "|The Complete Char...|Business Finance|\n",
      "|7 Deadly Mistakes...|Business Finance|\n",
      "|Financial Stateme...|Business Finance|\n",
      "+--------------------+----------------+\n",
      "only showing top 20 rows\n",
      "\n"
     ]
    }
   ],
   "source": [
    "df.show()"
   ]
  },
  {
   "cell_type": "code",
   "execution_count": 27,
   "id": "healthy-reserve",
   "metadata": {},
   "outputs": [],
   "source": [
    "df = labelEncoder.transform(df)"
   ]
  },
  {
   "cell_type": "code",
   "execution_count": 28,
   "id": "charitable-ambassador",
   "metadata": {},
   "outputs": [
    {
     "name": "stdout",
     "output_type": "stream",
     "text": [
      "+--------------------+----------------+-----+\n",
      "|        course_title|         subject|label|\n",
      "+--------------------+----------------+-----+\n",
      "|Ultimate Investme...|Business Finance|  1.0|\n",
      "|Complete GST Cour...|Business Finance|  1.0|\n",
      "|Financial Modelin...|Business Finance|  1.0|\n",
      "|Beginner to Pro -...|Business Finance|  1.0|\n",
      "|How To Maximize Y...|Business Finance|  1.0|\n",
      "+--------------------+----------------+-----+\n",
      "only showing top 5 rows\n",
      "\n"
     ]
    }
   ],
   "source": [
    "df.show(5)"
   ]
  },
  {
   "cell_type": "code",
   "execution_count": 29,
   "id": "frozen-width",
   "metadata": {},
   "outputs": [],
   "source": [
    "### Split Dataset\n",
    "(trainDF,testDF) = df.randomSplit((0.7,0.3),seed=42)"
   ]
  },
  {
   "cell_type": "code",
   "execution_count": 30,
   "id": "challenging-algebra",
   "metadata": {},
   "outputs": [
    {
     "name": "stdout",
     "output_type": "stream",
     "text": [
      "+--------------------+-------------------+-----+\n",
      "|        course_title|            subject|label|\n",
      "+--------------------+-------------------+-----+\n",
      "|#1 Piano Hand Coo...|Musical Instruments|  2.0|\n",
      "|#10 Hand Coordina...|Musical Instruments|  2.0|\n",
      "|#4 Piano Hand Coo...|Musical Instruments|  2.0|\n",
      "|#5  Piano Hand Co...|Musical Instruments|  2.0|\n",
      "|#6 Piano Hand Coo...|Musical Instruments|  2.0|\n",
      "|'Geometry Of Chan...|   Business Finance|  1.0|\n",
      "|1 - Concepts of S...|   Business Finance|  1.0|\n",
      "|          1 Hour CSS|    Web Development|  0.0|\n",
      "|         1 Hour HTML|    Web Development|  0.0|\n",
      "|10 Numbers Every ...|   Business Finance|  1.0|\n",
      "|10.  Bonds and Bo...|   Business Finance|  1.0|\n",
      "|101 Awesome Rocka...|Musical Instruments|  2.0|\n",
      "|15  Motion Graphi...|     Graphic Design|  3.0|\n",
      "|150 Rock Guitar L...|Musical Instruments|  2.0|\n",
      "|188% Profit in 1Y...|   Business Finance|  1.0|\n",
      "|2 Easy Steps To I...|   Business Finance|  1.0|\n",
      "|2. Principles of ...|   Business Finance|  1.0|\n",
      "|3. Compound Inter...|   Business Finance|  1.0|\n",
      "|31 Day Guitar Cha...|Musical Instruments|  2.0|\n",
      "|4 Easy Daily Fore...|   Business Finance|  1.0|\n",
      "+--------------------+-------------------+-----+\n",
      "only showing top 20 rows\n",
      "\n"
     ]
    }
   ],
   "source": [
    "trainDF.show()"
   ]
  },
  {
   "cell_type": "code",
   "execution_count": 31,
   "id": "voluntary-mirror",
   "metadata": {},
   "outputs": [],
   "source": [
    "### Estimator\n",
    "from pyspark.ml.classification import LogisticRegression"
   ]
  },
  {
   "cell_type": "code",
   "execution_count": 32,
   "id": "neither-creativity",
   "metadata": {},
   "outputs": [],
   "source": [
    "lr = LogisticRegression(featuresCol='vectorizedFeatures',labelCol='label')"
   ]
  },
  {
   "cell_type": "markdown",
   "id": "complete-stanford",
   "metadata": {},
   "source": [
    "#### Building the Pipeline"
   ]
  },
  {
   "cell_type": "code",
   "execution_count": 33,
   "id": "european-definition",
   "metadata": {},
   "outputs": [],
   "source": [
    "from pyspark.ml import Pipeline"
   ]
  },
  {
   "cell_type": "code",
   "execution_count": 34,
   "id": "tired-assembly",
   "metadata": {},
   "outputs": [],
   "source": [
    "pipeline = Pipeline(stages=[tokenizer,stopwords_remover,vectorizer,idf,lr])"
   ]
  },
  {
   "cell_type": "code",
   "execution_count": 35,
   "id": "proof-aquarium",
   "metadata": {},
   "outputs": [
    {
     "data": {
      "text/plain": [
       "Pipeline_3b60d21f7918"
      ]
     },
     "execution_count": 35,
     "metadata": {},
     "output_type": "execute_result"
    }
   ],
   "source": [
    "pipeline"
   ]
  },
  {
   "cell_type": "code",
   "execution_count": 36,
   "id": "korean-charm",
   "metadata": {},
   "outputs": [
    {
     "data": {
      "text/plain": [
       "Param(parent='Pipeline_3b60d21f7918', name='stages', doc='a list of pipeline stages')"
      ]
     },
     "execution_count": 36,
     "metadata": {},
     "output_type": "execute_result"
    }
   ],
   "source": [
    "pipeline.stages"
   ]
  },
  {
   "cell_type": "code",
   "execution_count": 37,
   "id": "revolutionary-personal",
   "metadata": {},
   "outputs": [
    {
     "name": "stderr",
     "output_type": "stream",
     "text": [
      "24/10/02 17:54:35 WARN InstanceBuilder: Failed to load implementation from:dev.ludovic.netlib.blas.JNIBLAS\n",
      "24/10/02 17:54:35 WARN InstanceBuilder: Failed to load implementation from:dev.ludovic.netlib.blas.VectorBLAS\n"
     ]
    }
   ],
   "source": [
    "# Building MOdel\n",
    "lr_model = pipeline.fit(trainDF)"
   ]
  },
  {
   "cell_type": "code",
   "execution_count": 38,
   "id": "revolutionary-transport",
   "metadata": {},
   "outputs": [
    {
     "data": {
      "text/plain": [
       "PipelineModel_6a8724b002bc"
      ]
     },
     "execution_count": 38,
     "metadata": {},
     "output_type": "execute_result"
    }
   ],
   "source": [
    "lr_model"
   ]
  },
  {
   "cell_type": "code",
   "execution_count": 39,
   "id": "found-victory",
   "metadata": {},
   "outputs": [],
   "source": [
    "# Predictions on our Test Dataset\n",
    "predictions = lr_model.transform(testDF)"
   ]
  },
  {
   "cell_type": "code",
   "execution_count": 40,
   "id": "velvet-carpet",
   "metadata": {
    "scrolled": true,
    "tags": []
   },
   "outputs": [
    {
     "name": "stdout",
     "output_type": "stream",
     "text": [
      "+--------------------+-------------------+-----+--------------------+--------------------+--------------------+--------------------+--------------------+--------------------+----------+\n",
      "|        course_title|            subject|label|            mytokens|     filtered_tokens|         rawFeatures|  vectorizedFeatures|       rawPrediction|         probability|prediction|\n",
      "+--------------------+-------------------+-----+--------------------+--------------------+--------------------+--------------------+--------------------+--------------------+----------+\n",
      "|#12 Hand Coordina...|Musical Instruments|  2.0|[#12, hand, coord...|[#12, hand, coord...|(3678,[343,436,60...|(3678,[343,436,60...|[1.16788884186142...|[0.01177597171269...|       2.0|\n",
      "|#7 Piano Hand Coo...|Musical Instruments|  2.0|[#7, piano, hand,...|[#7, piano, hand,...|(3678,[11,14,67,3...|(3678,[11,14,67,3...|[-7.7823174672125...|[4.11260421244438...|       2.0|\n",
      "|'Greensleeves' Cr...|Musical Instruments|  2.0|['greensleeves', ...|['greensleeves', ...|(3678,[7,11,46,43...|(3678,[7,11,46,43...|[-4.4469063634455...|[1.58098475538369...|       2.0|\n",
      "|* An Integrated A...|   Business Finance|  1.0|[*, an, integrate...|[*, integrated, a...|(3678,[22,74,466]...|(3678,[22,74,466]...|[-5.3155910059987...|[2.93792436713131...|       1.0|\n",
      "|   1 Hour JavaScript|    Web Development|  0.0|[1, hour, javascr...|[1, hour, javascr...|(3678,[17,45,111]...|(3678,[17,45,111]...|[16.1945922425321...|[0.99999999162671...|       0.0|\n",
      "|       1 hour jQuery|    Web Development|  0.0|   [1, hour, jquery]|   [1, hour, jquery]|(3678,[45,55,111]...|(3678,[45,55,111]...|[14.0742277379161...|[0.99999986007479...|       0.0|\n",
      "|1. Principles of ...|   Business Finance|  1.0|[1., principles, ...|[1., principles, ...|(3678,[97,449,691...|(3678,[97,449,691...|[-2.8532251648916...|[2.17130199457991...|       1.0|\n",
      "|101 Blues riffs -...|Musical Instruments|  2.0|[101, blues, riff...|[101, blues, riff...|(3678,[0,1,49,77,...|(3678,[0,1,49,77,...|[-5.2745611287237...|[3.10932089774678...|       2.0|\n",
      "|15 Mandamientos p...|   Business Finance|  1.0|[15, mandamientos...|[15, mandamientos...|(3678,[84,92,401,...|(3678,[84,92,401,...|[-5.4065920978637...|[2.54461337786652...|       1.0|\n",
      "|16 Guitar Chords ...|Musical Instruments|  2.0|[16, guitar, chor...|[16, guitar, chor...|(3678,[0,6,141,31...|(3678,[0,6,141,31...|[-14.392026909903...|[5.66408289666201...|       2.0|\n",
      "|17 Complete JavaS...|    Web Development|  0.0|[17, complete, ja...|[17, complete, ja...|(3678,[9,17,37,65...|(3678,[9,17,37,65...|[16.9041939041872...|[0.99999995564547...|       0.0|\n",
      "|3 Little Pigs: A ...|   Business Finance|  1.0|[3, little, pigs:...|[3, little, pigs:...|(3678,[2,13,67,12...|(3678,[2,13,67,12...|[-8.4859375858492...|[8.42171726822550...|       1.0|\n",
      "|3 documentos clav...|   Business Finance|  1.0|[3, documentos, c...|[3, documentos, c...|(3678,[67,84,166,...|(3678,[67,84,166,...|[0.40116660162390...|[0.13119750187514...|       1.0|\n",
      "|3 step formula fo...|Musical Instruments|  2.0|[3, step, formula...|[3, step, formula...|(3678,[6,67,69,15...|(3678,[6,67,69,15...|[-5.1983297727370...|[2.82064202539461...|       2.0|\n",
      "|30 Day Guitar Jum...|Musical Instruments|  2.0|[30, day, guitar,...|[30, day, guitar,...|(3678,[6,76,119,1...|(3678,[6,76,119,1...|[-6.6179358436795...|[2.66449353643944...|       2.0|\n",
      "|3D Programming wi...|    Web Development|  0.0|[3d, programming,...|[3d, programming,...|(3678,[4,83,255],...|(3678,[4,83,255],...|[7.85116457172455...|[0.99649979027484...|       0.0|\n",
      "|3DS MAX - Learn 3...|     Graphic Design|  3.0|[3ds, max, -, lea...|[3ds, max, -, lea...|(3678,[0,1,4,101,...|(3678,[0,1,4,101,...|[1.93603848037986...|[2.48029405234167...|       3.0|\n",
      "|48 Logo Designs a...|     Graphic Design|  3.0|[48, logo, design...|[48, logo, design...|(3678,[51,148,311...|(3678,[51,148,311...|[-9.5301730440134...|[8.96051540666962...|       3.0|\n",
      "|6 Must Know Trick...|Musical Instruments|  2.0|[6, must, know, t...|[6, must, know, t...|(3678,[126,265,27...|(3678,[126,265,27...|[6.25080887547750...|[0.94082703229202...|       0.0|\n",
      "|6. Annuities Due ...|   Business Finance|  1.0|[6., annuities, d...|[6., annuities, d...|        (3678,[],[])|        (3678,[],[])|[3.57594603906246...|[0.89447332565891...|       0.0|\n",
      "+--------------------+-------------------+-----+--------------------+--------------------+--------------------+--------------------+--------------------+--------------------+----------+\n",
      "only showing top 20 rows\n",
      "\n"
     ]
    }
   ],
   "source": [
    "predictions.show()"
   ]
  },
  {
   "cell_type": "code",
   "execution_count": 41,
   "id": "iraqi-advocate",
   "metadata": {},
   "outputs": [
    {
     "data": {
      "text/plain": [
       "['course_title',\n",
       " 'subject',\n",
       " 'label',\n",
       " 'mytokens',\n",
       " 'filtered_tokens',\n",
       " 'rawFeatures',\n",
       " 'vectorizedFeatures',\n",
       " 'rawPrediction',\n",
       " 'probability',\n",
       " 'prediction']"
      ]
     },
     "execution_count": 41,
     "metadata": {},
     "output_type": "execute_result"
    }
   ],
   "source": [
    "# Select Columns\n",
    "predictions.columns"
   ]
  },
  {
   "cell_type": "code",
   "execution_count": 42,
   "id": "impressive-defeat",
   "metadata": {},
   "outputs": [
    {
     "name": "stdout",
     "output_type": "stream",
     "text": [
      "+--------------------+--------------------+-------------------+-----+----------+\n",
      "|       rawPrediction|         probability|            subject|label|prediction|\n",
      "+--------------------+--------------------+-------------------+-----+----------+\n",
      "|[1.16788884186142...|[0.01177597171269...|Musical Instruments|  2.0|       2.0|\n",
      "|[-7.7823174672125...|[4.11260421244438...|Musical Instruments|  2.0|       2.0|\n",
      "|[-4.4469063634455...|[1.58098475538369...|Musical Instruments|  2.0|       2.0|\n",
      "|[-5.3155910059987...|[2.93792436713131...|   Business Finance|  1.0|       1.0|\n",
      "|[16.1945922425321...|[0.99999999162671...|    Web Development|  0.0|       0.0|\n",
      "|[14.0742277379161...|[0.99999986007479...|    Web Development|  0.0|       0.0|\n",
      "|[-2.8532251648916...|[2.17130199457991...|   Business Finance|  1.0|       1.0|\n",
      "|[-5.2745611287237...|[3.10932089774678...|Musical Instruments|  2.0|       2.0|\n",
      "|[-5.4065920978637...|[2.54461337786652...|   Business Finance|  1.0|       1.0|\n",
      "|[-14.392026909903...|[5.66408289666201...|Musical Instruments|  2.0|       2.0|\n",
      "+--------------------+--------------------+-------------------+-----+----------+\n",
      "only showing top 10 rows\n",
      "\n"
     ]
    }
   ],
   "source": [
    "predictions.select('rawPrediction','probability','subject','label','prediction').show(10)"
   ]
  },
  {
   "cell_type": "markdown",
   "id": "5872c5cb-b695-40d1-aeda-110ab5279594",
   "metadata": {},
   "source": [
    "### Model Evaluation\n",
    "+ Accuracy\n",
    "+ Precision\n",
    "+ F1score\n",
    "+ etc\n"
   ]
  },
  {
   "cell_type": "code",
   "execution_count": 43,
   "id": "american-skill",
   "metadata": {},
   "outputs": [],
   "source": [
    "from pyspark.ml.evaluation import MulticlassClassificationEvaluator"
   ]
  },
  {
   "cell_type": "code",
   "execution_count": 44,
   "id": "tough-population",
   "metadata": {},
   "outputs": [],
   "source": [
    "evaluator = MulticlassClassificationEvaluator(labelCol='label',predictionCol='prediction',metricName='accuracy')"
   ]
  },
  {
   "cell_type": "code",
   "execution_count": 45,
   "id": "fossil-launch",
   "metadata": {},
   "outputs": [],
   "source": [
    "accuracy = evaluator.evaluate(predictions)"
   ]
  },
  {
   "cell_type": "code",
   "execution_count": 46,
   "id": "express-extraction",
   "metadata": {},
   "outputs": [
    {
     "data": {
      "text/plain": [
       "0.909437559580553"
      ]
     },
     "execution_count": 46,
     "metadata": {},
     "output_type": "execute_result"
    }
   ],
   "source": [
    "accuracy"
   ]
  },
  {
   "cell_type": "code",
   "execution_count": 47,
   "id": "confused-welcome",
   "metadata": {},
   "outputs": [],
   "source": [
    "#### Method 2: Precision. F1Score (Classification Report)\n",
    "from pyspark.mllib.evaluation import MulticlassMetrics"
   ]
  },
  {
   "cell_type": "code",
   "execution_count": 48,
   "id": "comic-music",
   "metadata": {},
   "outputs": [
    {
     "name": "stderr",
     "output_type": "stream",
     "text": [
      "/Users/pramodkondur/Desktop/pysparktutorial/.pyspark-env/lib/python3.9/site-packages/pyspark/sql/context.py:158: FutureWarning: Deprecated in 3.0.0. Use SparkSession.builder.getOrCreate() instead.\n",
      "  warnings.warn(\n"
     ]
    }
   ],
   "source": [
    "lr_metric = MulticlassMetrics(predictions['label','prediction'].rdd)"
   ]
  },
  {
   "cell_type": "code",
   "execution_count": 49,
   "id": "thousand-assault",
   "metadata": {},
   "outputs": [
    {
     "name": "stdout",
     "output_type": "stream",
     "text": [
      "Accuracy: 0.909437559580553\n",
      "Precision: 0.8980169971671388\n",
      "Recall: 0.9548192771084337\n",
      "F1Score: 0.9255474452554745\n"
     ]
    }
   ],
   "source": [
    "print(\"Accuracy:\",lr_metric.accuracy)\n",
    "print(\"Precision:\",lr_metric.precision(1.0))\n",
    "print(\"Recall:\",lr_metric.recall(1.0))\n",
    "print(\"F1Score:\",lr_metric.fMeasure(1.0))"
   ]
  },
  {
   "cell_type": "markdown",
   "id": "welsh-publisher",
   "metadata": {},
   "source": [
    "### Confusion Matrix\n",
    "+ convert to pandas\n",
    "+ sklearn"
   ]
  },
  {
   "cell_type": "code",
   "execution_count": 50,
   "id": "changed-consciousness",
   "metadata": {},
   "outputs": [],
   "source": [
    "y_true = predictions.select('label')\n",
    "y_true = y_true.toPandas()\n",
    "y_pred = predictions.select('prediction')\n",
    "y_pred = y_pred.toPandas()"
   ]
  },
  {
   "cell_type": "code",
   "execution_count": 51,
   "id": "valid-brazil",
   "metadata": {},
   "outputs": [],
   "source": [
    "from sklearn.metrics import confusion_matrix,classification_report"
   ]
  },
  {
   "cell_type": "code",
   "execution_count": 52,
   "id": "attached-facility",
   "metadata": {},
   "outputs": [],
   "source": [
    "cm = confusion_matrix(y_true,y_pred)"
   ]
  },
  {
   "cell_type": "code",
   "execution_count": 53,
   "id": "dutch-memphis",
   "metadata": {},
   "outputs": [
    {
     "data": {
      "text/plain": [
       "array([[332,   3,   1,   8],\n",
       "       [ 30, 317,   2,   4],\n",
       "       [  9,   3, 170,   1],\n",
       "       [ 21,   9,   4, 135]])"
      ]
     },
     "execution_count": 53,
     "metadata": {},
     "output_type": "execute_result"
    }
   ],
   "source": [
    "cm"
   ]
  },
  {
   "cell_type": "code",
   "execution_count": 54,
   "id": "corporate-office",
   "metadata": {},
   "outputs": [],
   "source": [
    "import matplotlib.pyplot as plt\n",
    "import numpy as np\n",
    "import itertools\n",
    "\n",
    "def plot_confusion_matrix(cm, classes,\n",
    "                          normalize=False,\n",
    "                          title='Confusion matrix',\n",
    "                          cmap=plt.cm.Blues):\n",
    "    \"\"\"\n",
    "    This function prints and plots the confusion matrix.\n",
    "    Normalization can be applied by setting `normalize=True`.\n",
    "    \"\"\"\n",
    "    if normalize:\n",
    "        cm = cm.astype('float') / cm.sum(axis=1)[:, np.newaxis]\n",
    "        print(\"Normalized confusion matrix\")\n",
    "    else:\n",
    "        print('Confusion matrix, without normalization')\n",
    "\n",
    "    print(cm)\n",
    "\n",
    "    plt.imshow(cm, interpolation='nearest', cmap=cmap)\n",
    "    plt.title(title)\n",
    "    plt.colorbar()\n",
    "    tick_marks = np.arange(len(classes))\n",
    "    plt.xticks(tick_marks, classes, rotation=45)\n",
    "    plt.yticks(tick_marks, classes)\n",
    "\n",
    "    fmt = '.2f' if normalize else 'd'\n",
    "    thresh = cm.max() / 2.\n",
    "    for i, j in itertools.product(range(cm.shape[0]), range(cm.shape[1])):\n",
    "        plt.text(j, i, format(cm[i, j], fmt),\n",
    "                 horizontalalignment=\"center\",\n",
    "                 color=\"white\" if cm[i, j] > thresh else \"black\")\n",
    "\n",
    "    plt.tight_layout()\n",
    "    plt.ylabel('True label')\n",
    "    plt.xlabel('Predicted label')\n"
   ]
  },
  {
   "cell_type": "code",
   "execution_count": 55,
   "id": "natural-official",
   "metadata": {},
   "outputs": [
    {
     "data": {
      "text/plain": [
       "dict_keys(['Web Development', 'Business Finance', 'Musical Instruments', 'Graphic Design'])"
      ]
     },
     "execution_count": 55,
     "metadata": {},
     "output_type": "execute_result"
    }
   ],
   "source": [
    "label_dict.keys()"
   ]
  },
  {
   "cell_type": "code",
   "execution_count": 56,
   "id": "broad-election",
   "metadata": {},
   "outputs": [],
   "source": [
    "class_names = ['Web Development', 'Business Finance', 'Musical Instruments', 'Graphic Design']"
   ]
  },
  {
   "cell_type": "code",
   "execution_count": 57,
   "id": "automatic-booth",
   "metadata": {},
   "outputs": [
    {
     "name": "stdout",
     "output_type": "stream",
     "text": [
      "Confusion matrix, without normalization\n",
      "[[332   3   1   8]\n",
      " [ 30 317   2   4]\n",
      " [  9   3 170   1]\n",
      " [ 21   9   4 135]]\n"
     ]
    },
    {
     "data": {
      "image/png": "[encoded data removed]",
      "text/plain": [
       "<Figure size 640x480 with 2 Axes>"
      ]
     },
     "metadata": {},
     "output_type": "display_data"
    }
   ],
   "source": [
    "plot_confusion_matrix(cm,class_names)"
   ]
  },
  {
   "cell_type": "code",
   "execution_count": 58,
   "id": "recognized-courage",
   "metadata": {},
   "outputs": [],
   "source": [
    "import warnings\n",
    "warnings.filterwarnings('ignore')"
   ]
  },
  {
   "cell_type": "code",
   "execution_count": 59,
   "id": "designed-climate",
   "metadata": {
    "tags": []
   },
   "outputs": [
    {
     "name": "stdout",
     "output_type": "stream",
     "text": [
      "              precision    recall  f1-score   support\n",
      "\n",
      "         0.0       0.85      0.97      0.90       344\n",
      "         1.0       0.95      0.90      0.93       353\n",
      "         2.0       0.96      0.93      0.94       183\n",
      "         3.0       0.91      0.80      0.85       169\n",
      "\n",
      "    accuracy                           0.91      1049\n",
      "   macro avg       0.92      0.90      0.91      1049\n",
      "weighted avg       0.91      0.91      0.91      1049\n",
      "\n"
     ]
    }
   ],
   "source": [
    "# Classication Report\n",
    "print(classification_report(y_true,y_pred))"
   ]
  },
  {
   "cell_type": "code",
   "execution_count": 60,
   "id": "greatest-doctrine",
   "metadata": {},
   "outputs": [
    {
     "name": "stdout",
     "output_type": "stream",
     "text": [
      "                     precision    recall  f1-score   support\n",
      "\n",
      "    Web Development       0.85      0.97      0.90       344\n",
      "   Business Finance       0.95      0.90      0.93       353\n",
      "Musical Instruments       0.96      0.93      0.94       183\n",
      "     Graphic Design       0.91      0.80      0.85       169\n",
      "\n",
      "           accuracy                           0.91      1049\n",
      "          macro avg       0.92      0.90      0.91      1049\n",
      "       weighted avg       0.91      0.91      0.91      1049\n",
      "\n"
     ]
    }
   ],
   "source": [
    "# Classication Report\n",
    "print(classification_report(y_true,y_pred,target_names=class_names))"
   ]
  },
  {
   "cell_type": "code",
   "execution_count": 61,
   "id": "mathematical-bleeding",
   "metadata": {
    "jupyter": {
     "source_hidden": true
    },
    "tags": []
   },
   "outputs": [
    {
     "data": {
      "text/plain": [
       "<map at 0x17ed87bb0>"
      ]
     },
     "execution_count": 61,
     "metadata": {},
     "output_type": "execute_result"
    }
   ],
   "source": [
    "class_temp = predictions.select(\"label\").groupBy(\"label\")\\\n",
    "                        .count().sort('count', ascending=False).toPandas()\n",
    "class_temp = class_temp[\"label\"].values.tolist()\n",
    "class_names = map(str, class_temp)\n",
    "# # # print(class_name)\n",
    "class_names"
   ]
  },
  {
   "cell_type": "markdown",
   "id": "accurate-piano",
   "metadata": {},
   "source": [
    "### Making Single Prediction\n",
    "+ sample as DF\n",
    "+ apply pipeline"
   ]
  },
  {
   "cell_type": "code",
   "execution_count": 62,
   "id": "compact-stock",
   "metadata": {},
   "outputs": [],
   "source": [
    "from pyspark.sql.types import StringType"
   ]
  },
  {
   "cell_type": "code",
   "execution_count": 63,
   "id": "affecting-transmission",
   "metadata": {},
   "outputs": [],
   "source": [
    "ex1 = spark.createDataFrame([\n",
    "    (\"Building Machine Learning Apps with Python and PySpark\",StringType())\n",
    "],\n",
    "# Column Name\n",
    "[\"course_title\"]\n",
    "\n",
    ")"
   ]
  },
  {
   "cell_type": "code",
   "execution_count": 64,
   "id": "earlier-gibraltar",
   "metadata": {},
   "outputs": [
    {
     "name": "stdout",
     "output_type": "stream",
     "text": [
      "+--------------------+---+\n",
      "|        course_title| _2|\n",
      "+--------------------+---+\n",
      "|Building Machine ...| {}|\n",
      "+--------------------+---+\n",
      "\n"
     ]
    }
   ],
   "source": [
    "ex1.show()"
   ]
  },
  {
   "cell_type": "code",
   "execution_count": 65,
   "id": "known-pickup",
   "metadata": {},
   "outputs": [
    {
     "name": "stdout",
     "output_type": "stream",
     "text": [
      "+------------------------------------------------------+---+\n",
      "|course_title                                          |_2 |\n",
      "+------------------------------------------------------+---+\n",
      "|Building Machine Learning Apps with Python and PySpark|{} |\n",
      "+------------------------------------------------------+---+\n",
      "\n"
     ]
    }
   ],
   "source": [
    "# Show Full \n",
    "ex1.show(truncate=False)"
   ]
  },
  {
   "cell_type": "code",
   "execution_count": 66,
   "id": "white-disney",
   "metadata": {},
   "outputs": [],
   "source": [
    "# Predict\n",
    "pred_ex1 = lr_model.transform(ex1)"
   ]
  },
  {
   "cell_type": "code",
   "execution_count": 67,
   "id": "simplified-cincinnati",
   "metadata": {},
   "outputs": [
    {
     "name": "stdout",
     "output_type": "stream",
     "text": [
      "+--------------------+---+--------------------+--------------------+--------------------+--------------------+--------------------+--------------------+----------+\n",
      "|        course_title| _2|            mytokens|     filtered_tokens|         rawFeatures|  vectorizedFeatures|       rawPrediction|         probability|prediction|\n",
      "+--------------------+---+--------------------+--------------------+--------------------+--------------------+--------------------+--------------------+----------+\n",
      "|Building Machine ...| {}|[building, machin...|[building, machin...|(3678,[57,81,90,1...|(3678,[57,81,90,1...|[11.9345470701168...|[0.99999945445355...|       0.0|\n",
      "+--------------------+---+--------------------+--------------------+--------------------+--------------------+--------------------+--------------------+----------+\n",
      "\n"
     ]
    }
   ],
   "source": [
    "pred_ex1.show()"
   ]
  },
  {
   "cell_type": "code",
   "execution_count": 68,
   "id": "american-failing",
   "metadata": {},
   "outputs": [
    {
     "data": {
      "text/plain": [
       "['course_title',\n",
       " '_2',\n",
       " 'mytokens',\n",
       " 'filtered_tokens',\n",
       " 'rawFeatures',\n",
       " 'vectorizedFeatures',\n",
       " 'rawPrediction',\n",
       " 'probability',\n",
       " 'prediction']"
      ]
     },
     "execution_count": 68,
     "metadata": {},
     "output_type": "execute_result"
    }
   ],
   "source": [
    "pred_ex1.columns"
   ]
  },
  {
   "cell_type": "code",
   "execution_count": 69,
   "id": "conservative-stage",
   "metadata": {},
   "outputs": [
    {
     "name": "stdout",
     "output_type": "stream",
     "text": [
      "+--------------------+--------------------+--------------------+----------+\n",
      "|        course_title|       rawPrediction|         probability|prediction|\n",
      "+--------------------+--------------------+--------------------+----------+\n",
      "|Building Machine ...|[11.9345470701168...|[0.99999945445355...|       0.0|\n",
      "+--------------------+--------------------+--------------------+----------+\n",
      "\n"
     ]
    }
   ],
   "source": [
    "pred_ex1.select('course_title','rawPrediction','probability','prediction').show()"
   ]
  },
  {
   "cell_type": "code",
   "execution_count": 70,
   "id": "prepared-appeal",
   "metadata": {},
   "outputs": [
    {
     "data": {
      "text/plain": [
       "{'Web Development': 0.0,\n",
       " 'Business Finance': 1.0,\n",
       " 'Musical Instruments': 2.0,\n",
       " 'Graphic Design': 3.0}"
      ]
     },
     "execution_count": 70,
     "metadata": {},
     "output_type": "execute_result"
    }
   ],
   "source": [
    "label_dict"
   ]
  },
  {
   "cell_type": "code",
   "execution_count": 71,
   "id": "matched-might",
   "metadata": {},
   "outputs": [],
   "source": [
    "### Save and Load Model"
   ]
  },
  {
   "cell_type": "code",
   "execution_count": null,
   "id": "conservative-quantum",
   "metadata": {},
   "outputs": [],
   "source": [
    "# Saving Model\n",
    "modelPath = \"models/pyspark_lr_model\"\n",
    "lr_model.save(modelPath)"
   ]
  },
  {
   "cell_type": "code",
   "execution_count": null,
   "id": "indonesian-contents",
   "metadata": {},
   "outputs": [],
   "source": [
    "# Loading pickled model via pipeline api\n",
    "from pyspark.ml.pipeline import PipelineModel\n",
    "persistedModel = PipelineModel.load(modelPath)"
   ]
  },
  {
   "cell_type": "markdown",
   "id": "3ae8e613-2b16-4ba9-ad67-5e29091c30bc",
   "metadata": {},
   "source": [
    "### This was a learning experience for using PySpark, further we can look into integrating Databricks with it"
   ]
  },
  {
   "cell_type": "markdown",
   "id": "0d3b1a30-dc22-4d72-b45e-62923eaa193c",
   "metadata": {},
   "source": [
    "### Finally some key Differences Between PySpark and Regular Python (Scikit-Learn)\n",
    "\n",
    "- Data Structures:\n",
    "\n",
    "PySpark: Uses DataFrames and RDDs (Resilient Distributed Datasets) for data manipulation, which are optimized for distributed computing. It can handle large-scale data that may not fit in memory.\n",
    "\n",
    "Scikit-Learn: Uses Pandas DataFrames and NumPy arrays, which are suitable for in-memory operations and smaller datasets.\n",
    "\n",
    "- Machine Learning Pipeline:\n",
    "\n",
    "PySpark: Supports the Pipeline API, which allows you to chain multiple transformations and models together in a structured way.\n",
    "\n",
    "Scikit-Learn: Also supports pipelines, but the syntax and functionality differ.\n",
    "\n",
    "- Model Training:\n",
    "\n",
    "PySpark: Models are trained using the .fit() method on DataFrames, and transformations are performed on DataFrames as well.\n",
    "\n",
    "Scikit-Learn: Models are trained using .fit() on NumPy arrays or Pandas DataFrames, and predictions are made with the .predict() method.\n",
    "\n",
    "- Data Splitting:\n",
    "\n",
    "PySpark: Uses randomSplit() on DataFrames to split the data, which does not require the target variable to be separate from the features.\n",
    "\n",
    "Scikit-Learn: Uses train_test_split() from sklearn.model_selection, which requires separate input features (X) and target labels (y).\n",
    "\n",
    "- Evaluation Metrics:\n",
    "\n",
    "PySpark: Provides evaluators in pyspark.ml.evaluation for various metrics like accuracy, precision, recall, etc.\n",
    "\n",
    "- Scikit-Learn: Uses various scoring functions directly, such as accuracy_score, f1_score, etc.\n",
    "\n",
    "- Performance:\n",
    "\n",
    "PySpark: Designed for distributed and parallel processing, making it suitable for large datasets and big data applications.\n",
    "\n",
    "Scikit-Learn: Optimized for speed on smaller datasets, typically running on a single machine."
   ]
  },
  {
   "cell_type": "code",
   "execution_count": null,
   "id": "81dc4eae-6900-450b-b5a1-343b1dfa126e",
   "metadata": {},
   "outputs": [],
   "source": []
  }
 ],
 "metadata": {
  "kernelspec": {
   "display_name": "PySpark Env",
   "language": "python",
   "name": "pyspark-env"
  },
  "language_info": {
   "codemirror_mode": {
    "name": "ipython",
    "version": 3
   },
   "file_extension": ".py",
   "mimetype": "text/x-python",
   "name": "python",
   "nbconvert_exporter": "python",
   "pygments_lexer": "ipython3",
   "version": "3.9.13"
  }
 },
 "nbformat": 4,
 "nbformat_minor": 5
}
