{
 "cells": [
  {
   "cell_type": "markdown",
   "metadata": {
    "application/vnd.databricks.v1+cell": {
     "cellMetadata": {},
     "inputWidgets": {},
     "nuid": "96816ed7-b08a-4ca3-abb9-f99880c3535d",
     "showTitle": false,
     "title": ""
    }
   },
   "source": [
    "\n",
    "## Overview\n",
    "\n",
    "This notebook will show you how to create and query a table or DataFrame that you uploaded to DBFS. [DBFS](https://docs.databricks.com/user-guide/dbfs-databricks-file-system.html) is a Databricks File System that allows you to store data for querying inside of Databricks. This notebook assumes that you have a file already inside of DBFS that you would like to read from.\n",
    "\n",
    "This notebook is written in **Python** so the default cell type is Python. However, you can use different languages by using the `%LANGUAGE` syntax. Python, Scala, SQL, and R are all supported."
   ]
  },
  {
   "cell_type": "code",
   "execution_count": 0,
   "metadata": {
    "application/vnd.databricks.v1+cell": {
     "cellMetadata": {
      "byteLimit": 2048000,
      "rowLimit": 10000
     },
     "inputWidgets": {},
     "nuid": "6482be4c-f067-47c9-b0ac-35c938b94601",
     "showTitle": false,
     "title": ""
    }
   },
   "outputs": [],
   "source": [
    "# File location and type\n",
    "file_location = \"/FileStore/tables/udemy_courses_clean.csv\"\n",
    "file_type = \"csv\"\n",
    "\n",
    "# Let's read the data\n",
    "\n",
    "df = spark.read.csv(file_location,header=True,inferSchema=True)\n",
    "\n"
   ]
  },
  {
   "cell_type": "code",
   "execution_count": 0,
   "metadata": {
    "application/vnd.databricks.v1+cell": {
     "cellMetadata": {
      "byteLimit": 2048000,
      "rowLimit": 10000
     },
     "inputWidgets": {},
     "nuid": "672252dc-5b55-4eb7-b709-e164cfab466f",
     "showTitle": false,
     "title": ""
    }
   },
   "outputs": [
    {
     "output_type": "stream",
     "name": "stdout",
     "output_type": "stream",
     "text": [
      "root\n |-- _c0: integer (nullable = true)\n |-- course_id: string (nullable = true)\n |-- course_title: string (nullable = true)\n |-- url: string (nullable = true)\n |-- is_paid: string (nullable = true)\n |-- price: string (nullable = true)\n |-- num_subscribers: integer (nullable = true)\n |-- num_reviews: integer (nullable = true)\n |-- num_lectures: string (nullable = true)\n |-- level: string (nullable = true)\n |-- content_duration: string (nullable = true)\n |-- published_timestamp: string (nullable = true)\n |-- subject: string (nullable = true)\n |-- clean_course_title: string (nullable = true)\n\n"
     ]
    }
   ],
   "source": [
    "df.printSchema()"
   ]
  },
  {
   "cell_type": "code",
   "execution_count": 0,
   "metadata": {
    "application/vnd.databricks.v1+cell": {
     "cellMetadata": {
      "byteLimit": 2048000,
      "rowLimit": 10000
     },
     "inputWidgets": {},
     "nuid": "8f4e48cc-9d53-4e3d-9bc9-e5c4a72b9d2c",
     "showTitle": false,
     "title": ""
    }
   },
   "outputs": [
    {
     "output_type": "stream",
     "name": "stdout",
     "output_type": "stream",
     "text": [
      "+---+---------+--------------------+--------------------+-------+-----+---------------+-----------+------------+------------------+----------------+--------------------+----------------+--------------------+\n|_c0|course_id|        course_title|                 url|is_paid|price|num_subscribers|num_reviews|num_lectures|             level|content_duration| published_timestamp|         subject|  clean_course_title|\n+---+---------+--------------------+--------------------+-------+-----+---------------+-----------+------------+------------------+----------------+--------------------+----------------+--------------------+\n|  0|  1070968|Ultimate Investme...|https://www.udemy...|   True|  200|           2147|         23|          51|        All Levels|       1.5 hours|2017-01-18T20:58:58Z|Business Finance|Ultimate Investme...|\n|  1|  1113822|Complete GST Cour...|https://www.udemy...|   True|   75|           2792|        923|         274|        All Levels|        39 hours|2017-03-09T16:34:20Z|Business Finance|Complete GST Cour...|\n|  2|  1006314|Financial Modelin...|https://www.udemy...|   True|   45|           2174|         74|          51|Intermediate Level|       2.5 hours|2016-12-19T19:26:30Z|Business Finance|Financial Modelin...|\n|  3|  1210588|Beginner to Pro -...|https://www.udemy...|   True|   95|           2451|         11|          36|        All Levels|         3 hours|2017-05-30T20:07:24Z|Business Finance|Beginner Pro  Fin...|\n|  4|  1011058|How To Maximize Y...|https://www.udemy...|   True|  200|           1276|         45|          26|Intermediate Level|         2 hours|2016-12-13T14:57:18Z|Business Finance|Maximize Profits ...|\n|  5|   192870|Trading Penny Sto...|https://www.udemy...|   True|  150|           9221|        138|          25|        All Levels|         3 hours|2014-05-02T15:13:30Z|Business Finance|Trading Penny Sto...|\n|  6|   739964|Investing And Tra...|https://www.udemy...|   True|   65|           1540|        178|          26|    Beginner Level|          1 hour|2016-02-21T18:23:12Z|Business Finance|Investing Trading...|\n|  7|   403100|Trading Stock Cha...|https://www.udemy...|   True|   95|           2917|        148|          23|        All Levels|       2.5 hours|2015-01-30T22:13:03Z|Business Finance|Trading Stock Cha...|\n|  8|   476268|Options Trading 3...|https://www.udemy...|   True|  195|           5172|         34|          38|      Expert Level|       2.5 hours|2015-05-28T00:14:03Z|Business Finance|Options Trading 3...|\n|  9|  1167710|The Only Investme...|https://www.udemy...|   True|  200|            827|         14|          15|        All Levels|          1 hour|2017-04-18T18:13:32Z|Business Finance|Investment Strate...|\n| 10|   592338|Forex Trading Sec...|https://www.udemy...|   True|  200|           4284|         93|          76|        All Levels|         5 hours|2015-09-11T16:47:02Z|Business Finance|Forex Trading Sec...|\n| 11|   975046|Trading Options W...|https://www.udemy...|   True|  200|           1380|         42|          17|        All Levels|          1 hour|2016-10-18T22:52:31Z|Business Finance|Trading Options M...|\n| 12|   742602|Financial Managem...|https://www.udemy...|   True|   30|           3607|         21|          19|        All Levels|       1.5 hours|2016-02-03T18:04:01Z|Business Finance|Financial Managem...|\n| 13|   794151|Forex Trading Cou...|https://www.udemy...|   True|  195|           4061|         52|          16|        All Levels|         2 hours|2016-03-16T15:40:19Z|Business Finance|Forex Trading Cou...|\n| 14|  1196544|Python Algo Tradi...|https://www.udemy...|   True|  200|            294|         19|          42|        All Levels|         7 hours|2017-04-28T16:41:44Z|Business Finance|Python Algo Tradi...|\n| 15|   504036|Short Selling: Le...|https://www.udemy...|   True|   75|           2276|        106|          19|Intermediate Level|       1.5 hours|2015-06-22T21:18:35Z|Business Finance|Short Selling Lea...|\n| 16|   719698|Basic Technical A...|https://www.udemy...|   True|   20|           4919|         79|          16|    Beginner Level|       1.5 hours|2016-01-08T17:21:26Z|Business Finance|Basic Technical A...|\n| 17|   564966|The Complete Char...|https://www.udemy...|   True|  200|           2666|        115|          52|        All Levels|         4 hours|2015-08-10T21:07:35Z|Business Finance|Complete Chart Pa...|\n| 18|   606928|7 Deadly Mistakes...|https://www.udemy...|   True|   50|           5354|         24|          23|        All Levels|       1.5 hours|2015-09-21T18:10:34Z|Business Finance|7 Deadly Mistakes...|\n| 19|    58977|Financial Stateme...|https://www.udemy...|   True|   95|           8095|        249|          12|    Beginner Level|         35 mins|2013-06-09T00:21:26Z|Business Finance|Financial Stateme...|\n+---+---------+--------------------+--------------------+-------+-----+---------------+-----------+------------+------------------+----------------+--------------------+----------------+--------------------+\nonly showing top 20 rows\n\n"
     ]
    }
   ],
   "source": [
    "df.show()"
   ]
  },
  {
   "cell_type": "code",
   "execution_count": 0,
   "metadata": {
    "application/vnd.databricks.v1+cell": {
     "cellMetadata": {
      "byteLimit": 2048000,
      "rowLimit": 10000
     },
     "inputWidgets": {},
     "nuid": "1c417ab3-cf0f-43a4-b947-7cf04205e260",
     "showTitle": false,
     "title": ""
    }
   },
   "outputs": [
    {
     "output_type": "stream",
     "name": "stdout",
     "output_type": "stream",
     "text": [
      "Out[5]: Web Development                                                                                                                                                                                              1200\nBusiness Finance                                                                                                                                                                                             1198\nMusical Instruments                                                                                                                                                                                           676\nGraphic Design                                                                                                                                                                                                603\nMultiply returns Value Investinghttpswwwudemycommultiplyyourreturnsusingvalueinvestingtrue2019421963All Levels45 hours20150723T000833Z 874284Weekly Forex Analysis Baraq FX                                     1\nLearn Play Fernando Sors Study B minorhttpswwwudemycomstudyinbminortrue115140359Intermediate Level43 mins20140127T205816Z 398746Piano Chord Based System  Learn Play Pros Do                                    1\nplay Electric Guitarhttpswwwudemycomelectricguitarbeginnersmethodtrue501105520Beginner Level2 hours20161229T002406Z 42038Learn Piano Today Play Piano Course Quick Lessons                                      1\nLearn Classical Guitar Technique play Spanish Romancehttpswwwudemycomguitartechniquestrue19513164643All Levels5 hours20131118T175959Z 265888Learn Guitar Worship Learn 4 Songs unlock 1                         1\nIntroduction Guitar A Course Beginnershttpswwwudemycomintroductiontoguitartrue251631156Beginner Level25 hours20141030T155939Z 650804Guitar Master Class Learning Play Guitar Z                                  1\nAprende tocar el Acorden de odo con tcnicahttpswwwudemycomaprendeatocarelacordeondeoidoycontecnicatrue25932134Beginner Level4 hours20140916T195145Z 263432Aprende los Secretos de la Armnica con HARPSOUL       1\nName: subject, dtype: int64"
     ]
    }
   ],
   "source": [
    "# Value Counts via pandas\n",
    "df.toPandas()['subject'].value_counts()"
   ]
  },
  {
   "cell_type": "code",
   "execution_count": 0,
   "metadata": {
    "application/vnd.databricks.v1+cell": {
     "cellMetadata": {
      "byteLimit": 2048000,
      "rowLimit": 10000
     },
     "inputWidgets": {},
     "nuid": "f395925f-c557-4a47-90bc-10cd62beb9ee",
     "showTitle": false,
     "title": ""
    }
   },
   "outputs": [
    {
     "output_type": "stream",
     "name": "stdout",
     "output_type": "stream",
     "text": [
      "Out[6]: Web Development        1200\nBusiness Finance       1198\nMusical Instruments     676\nGraphic Design          603\nName: subject, dtype: int64"
     ]
    }
   ],
   "source": [
    "# Removing the subjects where value counts is 1\n",
    "\n",
    "df = df.where(df.subject.isin(df.groupBy('subject').count().filter('count > 1').select('subject').rdd.flatMap(lambda x: x).collect()))\n",
    "df.toPandas()['subject'].value_counts()"
   ]
  },
  {
   "cell_type": "code",
   "execution_count": 0,
   "metadata": {
    "application/vnd.databricks.v1+cell": {
     "cellMetadata": {
      "byteLimit": 2048000,
      "rowLimit": 10000
     },
     "inputWidgets": {},
     "nuid": "c32e41c3-6fab-4185-898a-d5f979a6d32d",
     "showTitle": false,
     "title": ""
    }
   },
   "outputs": [
    {
     "output_type": "stream",
     "name": "stdout",
     "output_type": "stream",
     "text": [
      "Out[7]: 0"
     ]
    }
   ],
   "source": [
    "# Check For Missing Values\n",
    "df.toPandas()['subject'].isnull().sum()"
   ]
  },
  {
   "cell_type": "code",
   "execution_count": 0,
   "metadata": {
    "application/vnd.databricks.v1+cell": {
     "cellMetadata": {
      "byteLimit": 2048000,
      "rowLimit": 10000
     },
     "inputWidgets": {},
     "nuid": "55c1ce4e-a63b-4edb-a7f8-273bc0540b81",
     "showTitle": false,
     "title": ""
    }
   },
   "outputs": [
    {
     "output_type": "stream",
     "name": "stdout",
     "output_type": "stream",
     "text": [
      "+---+---------+--------------------+--------------------+-------+-----+---------------+-----------+------------+------------------+----------------+--------------------+----------------+--------------------+\n|_c0|course_id|        course_title|                 url|is_paid|price|num_subscribers|num_reviews|num_lectures|             level|content_duration| published_timestamp|         subject|  clean_course_title|\n+---+---------+--------------------+--------------------+-------+-----+---------------+-----------+------------+------------------+----------------+--------------------+----------------+--------------------+\n|  0|  1070968|Ultimate Investme...|https://www.udemy...|   True|  200|           2147|         23|          51|        All Levels|       1.5 hours|2017-01-18T20:58:58Z|Business Finance|Ultimate Investme...|\n|  1|  1113822|Complete GST Cour...|https://www.udemy...|   True|   75|           2792|        923|         274|        All Levels|        39 hours|2017-03-09T16:34:20Z|Business Finance|Complete GST Cour...|\n|  2|  1006314|Financial Modelin...|https://www.udemy...|   True|   45|           2174|         74|          51|Intermediate Level|       2.5 hours|2016-12-19T19:26:30Z|Business Finance|Financial Modelin...|\n|  3|  1210588|Beginner to Pro -...|https://www.udemy...|   True|   95|           2451|         11|          36|        All Levels|         3 hours|2017-05-30T20:07:24Z|Business Finance|Beginner Pro  Fin...|\n|  4|  1011058|How To Maximize Y...|https://www.udemy...|   True|  200|           1276|         45|          26|Intermediate Level|         2 hours|2016-12-13T14:57:18Z|Business Finance|Maximize Profits ...|\n+---+---------+--------------------+--------------------+-------+-----+---------------+-----------+------------+------------------+----------------+--------------------+----------------+--------------------+\nonly showing top 5 rows\n\n"
     ]
    }
   ],
   "source": [
    "df.show(5)"
   ]
  },
  {
   "cell_type": "markdown",
   "metadata": {
    "application/vnd.databricks.v1+cell": {
     "cellMetadata": {},
     "inputWidgets": {},
     "nuid": "12a73dbf-6af6-47fb-afd7-dacff761e719",
     "showTitle": false,
     "title": ""
    }
   },
   "source": [
    "### Feature Extraction\n",
    "#### Build Features From Text\n",
    "+ CountVectorizer\n",
    "+ TFIDF\n",
    "+ WordEmbedding\n",
    "+ HashingTF\n",
    "+ etc"
   ]
  },
  {
   "cell_type": "code",
   "execution_count": 0,
   "metadata": {
    "application/vnd.databricks.v1+cell": {
     "cellMetadata": {
      "byteLimit": 2048000,
      "rowLimit": 10000
     },
     "inputWidgets": {},
     "nuid": "e8c7b22c-0929-490e-98b7-fc5d4a2accd2",
     "showTitle": false,
     "title": ""
    }
   },
   "outputs": [],
   "source": [
    "# Load Our Pkgs\n",
    "import pyspark.ml.feature"
   ]
  },
  {
   "cell_type": "code",
   "execution_count": 0,
   "metadata": {
    "application/vnd.databricks.v1+cell": {
     "cellMetadata": {
      "byteLimit": 2048000,
      "rowLimit": 10000
     },
     "inputWidgets": {},
     "nuid": "77c03121-3101-4007-a887-2490d90fec90",
     "showTitle": false,
     "title": ""
    }
   },
   "outputs": [
    {
     "output_type": "stream",
     "name": "stdout",
     "output_type": "stream",
     "text": [
      "Out[10]: ['Any',\n 'Binarizer',\n 'BucketedRandomProjectionLSH',\n 'BucketedRandomProjectionLSHModel',\n 'Bucketizer',\n 'ChiSqSelector',\n 'ChiSqSelectorModel',\n 'CountVectorizer',\n 'CountVectorizerModel',\n 'DCT',\n 'DataFrame',\n 'DenseMatrix',\n 'DenseVector',\n 'Dict',\n 'ElementwiseProduct',\n 'FeatureHasher',\n 'Generic',\n 'HasFeaturesCol',\n 'HasHandleInvalid',\n 'HasInputCol',\n 'HasInputCols',\n 'HasLabelCol',\n 'HasMaxIter',\n 'HasNumFeatures',\n 'HasOutputCol',\n 'HasOutputCols',\n 'HasRelativeError',\n 'HasSeed',\n 'HasStepSize',\n 'HasThreshold',\n 'HasThresholds',\n 'HashingTF',\n 'IDF',\n 'IDFModel',\n 'Imputer',\n 'ImputerModel',\n 'IndexToString',\n 'Interaction',\n 'JM',\n 'JavaEstimator',\n 'JavaMLReadable',\n 'JavaMLWritable',\n 'JavaModel',\n 'JavaParams',\n 'JavaTransformer',\n 'List',\n 'MaxAbsScaler',\n 'MaxAbsScalerModel',\n 'MinHashLSH',\n 'MinHashLSHModel',\n 'MinMaxScaler',\n 'MinMaxScalerModel',\n 'NGram',\n 'Normalizer',\n 'OneHotEncoder',\n 'OneHotEncoderModel',\n 'Optional',\n 'P',\n 'PCA',\n 'PCAModel',\n 'Param',\n 'Params',\n 'PolynomialExpansion',\n 'QuantileDiscretizer',\n 'RFormula',\n 'RFormulaModel',\n 'RegexTokenizer',\n 'RobustScaler',\n 'RobustScalerModel',\n 'SQLTransformer',\n 'SparkContext',\n 'StandardScaler',\n 'StandardScalerModel',\n 'StopWordsRemover',\n 'StringIndexer',\n 'StringIndexerModel',\n 'TYPE_CHECKING',\n 'Tokenizer',\n 'Tuple',\n 'TypeConverters',\n 'TypeVar',\n 'Union',\n 'UnivariateFeatureSelector',\n 'UnivariateFeatureSelectorModel',\n 'VarianceThresholdSelector',\n 'VarianceThresholdSelectorModel',\n 'Vector',\n 'VectorAssembler',\n 'VectorIndexer',\n 'VectorIndexerModel',\n 'VectorSizeHint',\n 'VectorSlicer',\n 'Word2Vec',\n 'Word2VecModel',\n '_BucketedRandomProjectionLSHParams',\n '_CountVectorizerParams',\n '_IDFParams',\n '_ImputerParams',\n '_LSH',\n '_LSHModel',\n '_LSHParams',\n '_MaxAbsScalerParams',\n '_MinMaxScalerParams',\n '_OneHotEncoderParams',\n '_PCAParams',\n '_RFormulaParams',\n '_RobustScalerParams',\n '_Selector',\n '_SelectorModel',\n '_SelectorParams',\n '_StandardScalerParams',\n '_StringIndexerParams',\n '_UnivariateFeatureSelectorParams',\n '_VarianceThresholdSelectorParams',\n '_VectorIndexerParams',\n '_Word2VecParams',\n '__all__',\n '__builtins__',\n '__cached__',\n '__doc__',\n '__file__',\n '__loader__',\n '__name__',\n '__package__',\n '__spec__',\n '_convert_to_vector',\n '_jvm',\n 'cast',\n 'inherit_doc',\n 'keyword_only',\n 'overload',\n 'since']"
     ]
    }
   ],
   "source": [
    "dir(pyspark.ml.feature)"
   ]
  },
  {
   "cell_type": "code",
   "execution_count": 0,
   "metadata": {
    "application/vnd.databricks.v1+cell": {
     "cellMetadata": {
      "byteLimit": 2048000,
      "rowLimit": 10000
     },
     "inputWidgets": {},
     "nuid": "4be2281e-74c7-4d28-bbe1-edba8fe6d675",
     "showTitle": false,
     "title": ""
    }
   },
   "outputs": [],
   "source": [
    "# Load Our Transformer & Extractor Pkgs\n",
    "from pyspark.ml.feature import Tokenizer,StopWordsRemover,CountVectorizer,IDF\n",
    "from pyspark.ml.feature import StringIndexer"
   ]
  },
  {
   "cell_type": "code",
   "execution_count": 0,
   "metadata": {
    "application/vnd.databricks.v1+cell": {
     "cellMetadata": {
      "byteLimit": 2048000,
      "rowLimit": 10000
     },
     "inputWidgets": {},
     "nuid": "3e620d57-24cf-4928-abc9-8bf5a9e4ef07",
     "showTitle": false,
     "title": ""
    }
   },
   "outputs": [
    {
     "output_type": "stream",
     "name": "stdout",
     "output_type": "stream",
     "text": [
      "+---+---------+--------------------+--------------------+-------+-----+---------------+-----------+------------+------------------+----------------+--------------------+----------------+--------------------+\n|_c0|course_id|        course_title|                 url|is_paid|price|num_subscribers|num_reviews|num_lectures|             level|content_duration| published_timestamp|         subject|  clean_course_title|\n+---+---------+--------------------+--------------------+-------+-----+---------------+-----------+------------+------------------+----------------+--------------------+----------------+--------------------+\n|  0|  1070968|Ultimate Investme...|https://www.udemy...|   True|  200|           2147|         23|          51|        All Levels|       1.5 hours|2017-01-18T20:58:58Z|Business Finance|Ultimate Investme...|\n|  1|  1113822|Complete GST Cour...|https://www.udemy...|   True|   75|           2792|        923|         274|        All Levels|        39 hours|2017-03-09T16:34:20Z|Business Finance|Complete GST Cour...|\n|  2|  1006314|Financial Modelin...|https://www.udemy...|   True|   45|           2174|         74|          51|Intermediate Level|       2.5 hours|2016-12-19T19:26:30Z|Business Finance|Financial Modelin...|\n|  3|  1210588|Beginner to Pro -...|https://www.udemy...|   True|   95|           2451|         11|          36|        All Levels|         3 hours|2017-05-30T20:07:24Z|Business Finance|Beginner Pro  Fin...|\n|  4|  1011058|How To Maximize Y...|https://www.udemy...|   True|  200|           1276|         45|          26|Intermediate Level|         2 hours|2016-12-13T14:57:18Z|Business Finance|Maximize Profits ...|\n+---+---------+--------------------+--------------------+-------+-----+---------------+-----------+------------+------------------+----------------+--------------------+----------------+--------------------+\nonly showing top 5 rows\n\n"
     ]
    }
   ],
   "source": [
    "df.show(5)"
   ]
  },
  {
   "cell_type": "code",
   "execution_count": 0,
   "metadata": {
    "application/vnd.databricks.v1+cell": {
     "cellMetadata": {
      "byteLimit": 2048000,
      "rowLimit": 10000
     },
     "inputWidgets": {},
     "nuid": "93763b43-4720-41f7-a060-df234189cfc7",
     "showTitle": false,
     "title": ""
    }
   },
   "outputs": [],
   "source": [
    "# Stages For the Pipeline\n",
    "tokenizer = Tokenizer(inputCol='course_title',outputCol='mytokens')\n",
    "stopwords_remover = StopWordsRemover(inputCol='mytokens',outputCol='filtered_tokens')\n",
    "vectorizer = CountVectorizer(inputCol='filtered_tokens',outputCol='rawFeatures')\n",
    "idf = IDF(inputCol='rawFeatures',outputCol='vectorizedFeatures')\n"
   ]
  },
  {
   "cell_type": "code",
   "execution_count": 0,
   "metadata": {
    "application/vnd.databricks.v1+cell": {
     "cellMetadata": {
      "byteLimit": 2048000,
      "rowLimit": 10000
     },
     "inputWidgets": {},
     "nuid": "8f611a58-73ef-463d-b341-60caf591d611",
     "showTitle": false,
     "title": ""
    }
   },
   "outputs": [],
   "source": [
    "# LabelEncoding/LabelIndexing\n",
    "labelEncoder = StringIndexer(inputCol='subject',outputCol='label').fit(df)"
   ]
  },
  {
   "cell_type": "code",
   "execution_count": 0,
   "metadata": {
    "application/vnd.databricks.v1+cell": {
     "cellMetadata": {
      "byteLimit": 2048000,
      "rowLimit": 10000
     },
     "inputWidgets": {},
     "nuid": "9912df5a-b7ef-4381-8d15-e3584b559e38",
     "showTitle": false,
     "title": ""
    }
   },
   "outputs": [
    {
     "output_type": "stream",
     "name": "stdout",
     "output_type": "stream",
     "text": [
      "+---+---------+--------------------+--------------------+-------+-----+---------------+-----------+------------+------------------+----------------+--------------------+----------------+--------------------+-----+\n|_c0|course_id|        course_title|                 url|is_paid|price|num_subscribers|num_reviews|num_lectures|             level|content_duration| published_timestamp|         subject|  clean_course_title|label|\n+---+---------+--------------------+--------------------+-------+-----+---------------+-----------+------------+------------------+----------------+--------------------+----------------+--------------------+-----+\n|  0|  1070968|Ultimate Investme...|https://www.udemy...|   True|  200|           2147|         23|          51|        All Levels|       1.5 hours|2017-01-18T20:58:58Z|Business Finance|Ultimate Investme...|  1.0|\n|  1|  1113822|Complete GST Cour...|https://www.udemy...|   True|   75|           2792|        923|         274|        All Levels|        39 hours|2017-03-09T16:34:20Z|Business Finance|Complete GST Cour...|  1.0|\n|  2|  1006314|Financial Modelin...|https://www.udemy...|   True|   45|           2174|         74|          51|Intermediate Level|       2.5 hours|2016-12-19T19:26:30Z|Business Finance|Financial Modelin...|  1.0|\n|  3|  1210588|Beginner to Pro -...|https://www.udemy...|   True|   95|           2451|         11|          36|        All Levels|         3 hours|2017-05-30T20:07:24Z|Business Finance|Beginner Pro  Fin...|  1.0|\n|  4|  1011058|How To Maximize Y...|https://www.udemy...|   True|  200|           1276|         45|          26|Intermediate Level|         2 hours|2016-12-13T14:57:18Z|Business Finance|Maximize Profits ...|  1.0|\n+---+---------+--------------------+--------------------+-------+-----+---------------+-----------+------------+------------------+----------------+--------------------+----------------+--------------------+-----+\nonly showing top 5 rows\n\n"
     ]
    }
   ],
   "source": [
    "labelEncoder.transform(df).show(5)"
   ]
  },
  {
   "cell_type": "code",
   "execution_count": 0,
   "metadata": {
    "application/vnd.databricks.v1+cell": {
     "cellMetadata": {
      "byteLimit": 2048000,
      "rowLimit": 10000
     },
     "inputWidgets": {},
     "nuid": "4e369302-c3c3-4b23-9229-7e3e21e9013b",
     "showTitle": false,
     "title": ""
    }
   },
   "outputs": [
    {
     "output_type": "stream",
     "name": "stdout",
     "output_type": "stream",
     "text": [
      "Out[16]: ['Web Development',\n 'Business Finance',\n 'Musical Instruments',\n 'Graphic Design']"
     ]
    }
   ],
   "source": [
    "labelEncoder.labels"
   ]
  },
  {
   "cell_type": "code",
   "execution_count": 0,
   "metadata": {
    "application/vnd.databricks.v1+cell": {
     "cellMetadata": {
      "byteLimit": 2048000,
      "rowLimit": 10000
     },
     "inputWidgets": {},
     "nuid": "633f390f-1f5c-40e0-8daa-25536901a538",
     "showTitle": false,
     "title": ""
    }
   },
   "outputs": [],
   "source": [
    "# Dict of Labels\n",
    "label_dict = {'Web Development':0.0,\n",
    " 'Business Finance':1.0,\n",
    " 'Musical Instruments':2.0,\n",
    " 'Graphic Design':3.0}"
   ]
  },
  {
   "cell_type": "code",
   "execution_count": 0,
   "metadata": {
    "application/vnd.databricks.v1+cell": {
     "cellMetadata": {
      "byteLimit": 2048000,
      "rowLimit": 10000
     },
     "inputWidgets": {},
     "nuid": "b7cd1209-abec-4b9f-9cc2-29d06e81beb9",
     "showTitle": false,
     "title": ""
    }
   },
   "outputs": [
    {
     "output_type": "stream",
     "name": "stdout",
     "output_type": "stream",
     "text": [
      "+---+---------+--------------------+--------------------+-------+-----+---------------+-----------+------------+------------------+----------------+--------------------+----------------+--------------------+\n|_c0|course_id|        course_title|                 url|is_paid|price|num_subscribers|num_reviews|num_lectures|             level|content_duration| published_timestamp|         subject|  clean_course_title|\n+---+---------+--------------------+--------------------+-------+-----+---------------+-----------+------------+------------------+----------------+--------------------+----------------+--------------------+\n|  0|  1070968|Ultimate Investme...|https://www.udemy...|   True|  200|           2147|         23|          51|        All Levels|       1.5 hours|2017-01-18T20:58:58Z|Business Finance|Ultimate Investme...|\n|  1|  1113822|Complete GST Cour...|https://www.udemy...|   True|   75|           2792|        923|         274|        All Levels|        39 hours|2017-03-09T16:34:20Z|Business Finance|Complete GST Cour...|\n|  2|  1006314|Financial Modelin...|https://www.udemy...|   True|   45|           2174|         74|          51|Intermediate Level|       2.5 hours|2016-12-19T19:26:30Z|Business Finance|Financial Modelin...|\n|  3|  1210588|Beginner to Pro -...|https://www.udemy...|   True|   95|           2451|         11|          36|        All Levels|         3 hours|2017-05-30T20:07:24Z|Business Finance|Beginner Pro  Fin...|\n|  4|  1011058|How To Maximize Y...|https://www.udemy...|   True|  200|           1276|         45|          26|Intermediate Level|         2 hours|2016-12-13T14:57:18Z|Business Finance|Maximize Profits ...|\n|  5|   192870|Trading Penny Sto...|https://www.udemy...|   True|  150|           9221|        138|          25|        All Levels|         3 hours|2014-05-02T15:13:30Z|Business Finance|Trading Penny Sto...|\n|  6|   739964|Investing And Tra...|https://www.udemy...|   True|   65|           1540|        178|          26|    Beginner Level|          1 hour|2016-02-21T18:23:12Z|Business Finance|Investing Trading...|\n|  7|   403100|Trading Stock Cha...|https://www.udemy...|   True|   95|           2917|        148|          23|        All Levels|       2.5 hours|2015-01-30T22:13:03Z|Business Finance|Trading Stock Cha...|\n|  8|   476268|Options Trading 3...|https://www.udemy...|   True|  195|           5172|         34|          38|      Expert Level|       2.5 hours|2015-05-28T00:14:03Z|Business Finance|Options Trading 3...|\n|  9|  1167710|The Only Investme...|https://www.udemy...|   True|  200|            827|         14|          15|        All Levels|          1 hour|2017-04-18T18:13:32Z|Business Finance|Investment Strate...|\n| 10|   592338|Forex Trading Sec...|https://www.udemy...|   True|  200|           4284|         93|          76|        All Levels|         5 hours|2015-09-11T16:47:02Z|Business Finance|Forex Trading Sec...|\n| 11|   975046|Trading Options W...|https://www.udemy...|   True|  200|           1380|         42|          17|        All Levels|          1 hour|2016-10-18T22:52:31Z|Business Finance|Trading Options M...|\n| 12|   742602|Financial Managem...|https://www.udemy...|   True|   30|           3607|         21|          19|        All Levels|       1.5 hours|2016-02-03T18:04:01Z|Business Finance|Financial Managem...|\n| 13|   794151|Forex Trading Cou...|https://www.udemy...|   True|  195|           4061|         52|          16|        All Levels|         2 hours|2016-03-16T15:40:19Z|Business Finance|Forex Trading Cou...|\n| 14|  1196544|Python Algo Tradi...|https://www.udemy...|   True|  200|            294|         19|          42|        All Levels|         7 hours|2017-04-28T16:41:44Z|Business Finance|Python Algo Tradi...|\n| 15|   504036|Short Selling: Le...|https://www.udemy...|   True|   75|           2276|        106|          19|Intermediate Level|       1.5 hours|2015-06-22T21:18:35Z|Business Finance|Short Selling Lea...|\n| 16|   719698|Basic Technical A...|https://www.udemy...|   True|   20|           4919|         79|          16|    Beginner Level|       1.5 hours|2016-01-08T17:21:26Z|Business Finance|Basic Technical A...|\n| 17|   564966|The Complete Char...|https://www.udemy...|   True|  200|           2666|        115|          52|        All Levels|         4 hours|2015-08-10T21:07:35Z|Business Finance|Complete Chart Pa...|\n| 18|   606928|7 Deadly Mistakes...|https://www.udemy...|   True|   50|           5354|         24|          23|        All Levels|       1.5 hours|2015-09-21T18:10:34Z|Business Finance|7 Deadly Mistakes...|\n| 19|    58977|Financial Stateme...|https://www.udemy...|   True|   95|           8095|        249|          12|    Beginner Level|         35 mins|2013-06-09T00:21:26Z|Business Finance|Financial Stateme...|\n+---+---------+--------------------+--------------------+-------+-----+---------------+-----------+------------+------------------+----------------+--------------------+----------------+--------------------+\nonly showing top 20 rows\n\n"
     ]
    }
   ],
   "source": [
    "df.show()"
   ]
  },
  {
   "cell_type": "code",
   "execution_count": 0,
   "metadata": {
    "application/vnd.databricks.v1+cell": {
     "cellMetadata": {
      "byteLimit": 2048000,
      "rowLimit": 10000
     },
     "inputWidgets": {},
     "nuid": "76278ea6-9f8e-42de-8554-fcbe829bcf4d",
     "showTitle": false,
     "title": ""
    }
   },
   "outputs": [],
   "source": [
    "df = labelEncoder.transform(df)"
   ]
  },
  {
   "cell_type": "code",
   "execution_count": 0,
   "metadata": {
    "application/vnd.databricks.v1+cell": {
     "cellMetadata": {
      "byteLimit": 2048000,
      "rowLimit": 10000
     },
     "inputWidgets": {},
     "nuid": "3f238236-adf0-45e9-8526-be44b17fb28a",
     "showTitle": false,
     "title": ""
    }
   },
   "outputs": [
    {
     "output_type": "stream",
     "name": "stdout",
     "output_type": "stream",
     "text": [
      "+---+---------+--------------------+--------------------+-------+-----+---------------+-----------+------------+------------------+----------------+--------------------+----------------+--------------------+-----+\n|_c0|course_id|        course_title|                 url|is_paid|price|num_subscribers|num_reviews|num_lectures|             level|content_duration| published_timestamp|         subject|  clean_course_title|label|\n+---+---------+--------------------+--------------------+-------+-----+---------------+-----------+------------+------------------+----------------+--------------------+----------------+--------------------+-----+\n|  0|  1070968|Ultimate Investme...|https://www.udemy...|   True|  200|           2147|         23|          51|        All Levels|       1.5 hours|2017-01-18T20:58:58Z|Business Finance|Ultimate Investme...|  1.0|\n|  1|  1113822|Complete GST Cour...|https://www.udemy...|   True|   75|           2792|        923|         274|        All Levels|        39 hours|2017-03-09T16:34:20Z|Business Finance|Complete GST Cour...|  1.0|\n|  2|  1006314|Financial Modelin...|https://www.udemy...|   True|   45|           2174|         74|          51|Intermediate Level|       2.5 hours|2016-12-19T19:26:30Z|Business Finance|Financial Modelin...|  1.0|\n|  3|  1210588|Beginner to Pro -...|https://www.udemy...|   True|   95|           2451|         11|          36|        All Levels|         3 hours|2017-05-30T20:07:24Z|Business Finance|Beginner Pro  Fin...|  1.0|\n|  4|  1011058|How To Maximize Y...|https://www.udemy...|   True|  200|           1276|         45|          26|Intermediate Level|         2 hours|2016-12-13T14:57:18Z|Business Finance|Maximize Profits ...|  1.0|\n+---+---------+--------------------+--------------------+-------+-----+---------------+-----------+------------+------------------+----------------+--------------------+----------------+--------------------+-----+\nonly showing top 5 rows\n\n"
     ]
    }
   ],
   "source": [
    "df.show(5)"
   ]
  },
  {
   "cell_type": "code",
   "execution_count": 0,
   "metadata": {
    "application/vnd.databricks.v1+cell": {
     "cellMetadata": {
      "byteLimit": 2048000,
      "rowLimit": 10000
     },
     "inputWidgets": {},
     "nuid": "6cb2cafb-8577-4b30-9fea-d05c2b261345",
     "showTitle": false,
     "title": ""
    }
   },
   "outputs": [],
   "source": [
    "### Split Dataset\n",
    "(trainDF,testDF) = df.randomSplit((0.7,0.3),seed=42)"
   ]
  },
  {
   "cell_type": "code",
   "execution_count": 0,
   "metadata": {
    "application/vnd.databricks.v1+cell": {
     "cellMetadata": {
      "byteLimit": 2048000,
      "rowLimit": 10000
     },
     "inputWidgets": {},
     "nuid": "3be6a7ef-0bfb-4f1b-a3b7-3ae9517792cb",
     "showTitle": false,
     "title": ""
    }
   },
   "outputs": [
    {
     "output_type": "stream",
     "name": "stdout",
     "output_type": "stream",
     "text": [
      "+---+---------+--------------------+--------------------+-------+-----+---------------+-----------+------------+------------------+----------------+--------------------+----------------+--------------------+-----+\n|_c0|course_id|        course_title|                 url|is_paid|price|num_subscribers|num_reviews|num_lectures|             level|content_duration| published_timestamp|         subject|  clean_course_title|label|\n+---+---------+--------------------+--------------------+-------+-----+---------------+-----------+------------+------------------+----------------+--------------------+----------------+--------------------+-----+\n|  0|  1070968|Ultimate Investme...|https://www.udemy...|   True|  200|           2147|         23|          51|        All Levels|       1.5 hours|2017-01-18T20:58:58Z|Business Finance|Ultimate Investme...|  1.0|\n|  1|  1113822|Complete GST Cour...|https://www.udemy...|   True|   75|           2792|        923|         274|        All Levels|        39 hours|2017-03-09T16:34:20Z|Business Finance|Complete GST Cour...|  1.0|\n|  3|  1210588|Beginner to Pro -...|https://www.udemy...|   True|   95|           2451|         11|          36|        All Levels|         3 hours|2017-05-30T20:07:24Z|Business Finance|Beginner Pro  Fin...|  1.0|\n|  4|  1011058|How To Maximize Y...|https://www.udemy...|   True|  200|           1276|         45|          26|Intermediate Level|         2 hours|2016-12-13T14:57:18Z|Business Finance|Maximize Profits ...|  1.0|\n|  5|   192870|Trading Penny Sto...|https://www.udemy...|   True|  150|           9221|        138|          25|        All Levels|         3 hours|2014-05-02T15:13:30Z|Business Finance|Trading Penny Sto...|  1.0|\n|  7|   403100|Trading Stock Cha...|https://www.udemy...|   True|   95|           2917|        148|          23|        All Levels|       2.5 hours|2015-01-30T22:13:03Z|Business Finance|Trading Stock Cha...|  1.0|\n| 10|   592338|Forex Trading Sec...|https://www.udemy...|   True|  200|           4284|         93|          76|        All Levels|         5 hours|2015-09-11T16:47:02Z|Business Finance|Forex Trading Sec...|  1.0|\n| 11|   975046|Trading Options W...|https://www.udemy...|   True|  200|           1380|         42|          17|        All Levels|          1 hour|2016-10-18T22:52:31Z|Business Finance|Trading Options M...|  1.0|\n| 12|   742602|Financial Managem...|https://www.udemy...|   True|   30|           3607|         21|          19|        All Levels|       1.5 hours|2016-02-03T18:04:01Z|Business Finance|Financial Managem...|  1.0|\n| 16|   719698|Basic Technical A...|https://www.udemy...|   True|   20|           4919|         79|          16|    Beginner Level|       1.5 hours|2016-01-08T17:21:26Z|Business Finance|Basic Technical A...|  1.0|\n| 17|   564966|The Complete Char...|https://www.udemy...|   True|  200|           2666|        115|          52|        All Levels|         4 hours|2015-08-10T21:07:35Z|Business Finance|Complete Chart Pa...|  1.0|\n| 18|   606928|7 Deadly Mistakes...|https://www.udemy...|   True|   50|           5354|         24|          23|        All Levels|       1.5 hours|2015-09-21T18:10:34Z|Business Finance|7 Deadly Mistakes...|  1.0|\n| 20|  1242604|Winning Forex Tra...|https://www.udemy...|   True|  200|            809|          3|          25|        All Levels|         2 hours|2017-06-06T02:54:04Z|Business Finance|Winning Forex Tra...|  1.0|\n| 22|   506568|Create A Business...|https://www.udemy...|   True|   75|          10149|         83|          16|        All Levels|         2 hours|2015-05-26T17:25:46Z|Business Finance|Create Business H...|  1.0|\n| 25|   383414|Beginner to Pro i...|https://www.udemy...|   True|  150|           5786|        518|          50|        All Levels|         5 hours|2015-01-31T15:34:05Z|Business Finance|Beginner Pro Powe...|  1.0|\n| 26|   353044|Investing 101: Th...|https://www.udemy...|   True|  200|           5334|        373|          42|        All Levels|       4.5 hours|2014-11-28T17:49:03Z|Business Finance|Investing 101 Com...|  1.0|\n| 27|   447362|Create Your Own H...|https://www.udemy...|   True|  175|           4005|        237|          25|Intermediate Level|         2 hours|2015-04-12T20:13:47Z|Business Finance|Create Hedge Fund...|  1.0|\n| 31|   948974|THE Forex Robot: ...|https://www.udemy...|   True|  200|           1843|        171|          35|        All Levels|       1.5 hours|2016-10-04T15:20:57Z|Business Finance|Forex Robot Incre...|  1.0|\n| 33|  1217778|Mastering High Pr...|https://www.udemy...|   True|  200|           1030|         11|          22|        All Levels|         2 hours|2017-06-01T05:22:08Z|Business Finance|Mastering High Pr...|  1.0|\n| 36|   308690|Forex Trading A-Z...|https://www.udemy...|   True|  195|          16900|       2476|          52|    Beginner Level|       5.5 hours|2014-12-12T23:58:39Z|Business Finance|Forex Trading AZ ...|  1.0|\n+---+---------+--------------------+--------------------+-------+-----+---------------+-----------+------------+------------------+----------------+--------------------+----------------+--------------------+-----+\nonly showing top 20 rows\n\n"
     ]
    }
   ],
   "source": [
    "trainDF.show()"
   ]
  },
  {
   "cell_type": "code",
   "execution_count": 0,
   "metadata": {
    "application/vnd.databricks.v1+cell": {
     "cellMetadata": {
      "byteLimit": 2048000,
      "rowLimit": 10000
     },
     "inputWidgets": {},
     "nuid": "a458cef8-cc13-43b3-9439-24f885401568",
     "showTitle": false,
     "title": ""
    }
   },
   "outputs": [],
   "source": [
    "### Estimator\n",
    "from pyspark.ml.classification import LogisticRegression"
   ]
  },
  {
   "cell_type": "code",
   "execution_count": 0,
   "metadata": {
    "application/vnd.databricks.v1+cell": {
     "cellMetadata": {
      "byteLimit": 2048000,
      "rowLimit": 10000
     },
     "inputWidgets": {},
     "nuid": "c36a7c17-fd72-424b-ba24-2565e183e3bb",
     "showTitle": false,
     "title": ""
    }
   },
   "outputs": [],
   "source": [
    "lr = LogisticRegression(featuresCol='vectorizedFeatures',labelCol='label')"
   ]
  },
  {
   "cell_type": "markdown",
   "metadata": {
    "application/vnd.databricks.v1+cell": {
     "cellMetadata": {},
     "inputWidgets": {},
     "nuid": "f0124389-25e8-45c7-a7ff-e110d377c9fa",
     "showTitle": false,
     "title": ""
    }
   },
   "source": [
    "#### Building the Pipeline"
   ]
  },
  {
   "cell_type": "code",
   "execution_count": 0,
   "metadata": {
    "application/vnd.databricks.v1+cell": {
     "cellMetadata": {
      "byteLimit": 2048000,
      "rowLimit": 10000
     },
     "inputWidgets": {},
     "nuid": "5067b801-a981-4faa-ab02-8994b7bff01c",
     "showTitle": false,
     "title": ""
    }
   },
   "outputs": [],
   "source": [
    "from pyspark.ml import Pipeline"
   ]
  },
  {
   "cell_type": "code",
   "execution_count": 0,
   "metadata": {
    "application/vnd.databricks.v1+cell": {
     "cellMetadata": {
      "byteLimit": 2048000,
      "rowLimit": 10000
     },
     "inputWidgets": {},
     "nuid": "1976c2ae-9ec3-4506-8e37-418de0483a76",
     "showTitle": false,
     "title": ""
    }
   },
   "outputs": [],
   "source": [
    "pipeline = Pipeline(stages=[tokenizer,stopwords_remover,vectorizer,idf,lr])"
   ]
  },
  {
   "cell_type": "code",
   "execution_count": 0,
   "metadata": {
    "application/vnd.databricks.v1+cell": {
     "cellMetadata": {
      "byteLimit": 2048000,
      "rowLimit": 10000
     },
     "inputWidgets": {},
     "nuid": "1ac31597-fdd4-4d83-8fb7-1619e504dbfd",
     "showTitle": false,
     "title": ""
    }
   },
   "outputs": [
    {
     "output_type": "stream",
     "name": "stdout",
     "output_type": "stream",
     "text": [
      "Out[27]: Pipeline_9dd37bd3b129"
     ]
    }
   ],
   "source": [
    "pipeline"
   ]
  },
  {
   "cell_type": "code",
   "execution_count": 0,
   "metadata": {
    "application/vnd.databricks.v1+cell": {
     "cellMetadata": {
      "byteLimit": 2048000,
      "rowLimit": 10000
     },
     "inputWidgets": {},
     "nuid": "2412dfad-ee22-47bd-850d-c3b8b8cb873b",
     "showTitle": false,
     "title": ""
    }
   },
   "outputs": [
    {
     "output_type": "stream",
     "name": "stdout",
     "output_type": "stream",
     "text": [
      "Out[28]: Param(parent='Pipeline_9dd37bd3b129', name='stages', doc='a list of pipeline stages')"
     ]
    }
   ],
   "source": [
    "pipeline.stages"
   ]
  },
  {
   "cell_type": "code",
   "execution_count": 0,
   "metadata": {
    "application/vnd.databricks.v1+cell": {
     "cellMetadata": {
      "byteLimit": 2048000,
      "rowLimit": 10000
     },
     "inputWidgets": {},
     "nuid": "de0eb1d1-5f27-4352-9f8b-f4acde692b62",
     "showTitle": false,
     "title": ""
    }
   },
   "outputs": [],
   "source": [
    "# Building MOdel\n",
    "lr_model = pipeline.fit(trainDF)"
   ]
  },
  {
   "cell_type": "code",
   "execution_count": 0,
   "metadata": {
    "application/vnd.databricks.v1+cell": {
     "cellMetadata": {
      "byteLimit": 2048000,
      "rowLimit": 10000
     },
     "inputWidgets": {},
     "nuid": "08322c0c-4233-45e6-bdd8-c5789e32b10e",
     "showTitle": false,
     "title": ""
    }
   },
   "outputs": [
    {
     "output_type": "stream",
     "name": "stdout",
     "output_type": "stream",
     "text": [
      "Out[30]: PipelineModel_35d3191a037f"
     ]
    }
   ],
   "source": [
    "lr_model"
   ]
  },
  {
   "cell_type": "code",
   "execution_count": 0,
   "metadata": {
    "application/vnd.databricks.v1+cell": {
     "cellMetadata": {
      "byteLimit": 2048000,
      "rowLimit": 10000
     },
     "inputWidgets": {},
     "nuid": "e2cdd159-1752-4b1c-82f0-b984b0293ba3",
     "showTitle": false,
     "title": ""
    }
   },
   "outputs": [],
   "source": [
    "# Predictions on our Test Dataset\n",
    "predictions = lr_model.transform(testDF)"
   ]
  },
  {
   "cell_type": "code",
   "execution_count": 0,
   "metadata": {
    "application/vnd.databricks.v1+cell": {
     "cellMetadata": {
      "byteLimit": 2048000,
      "rowLimit": 10000
     },
     "inputWidgets": {},
     "nuid": "aa3c2637-b0f6-4a58-a3c5-51e961ec981b",
     "showTitle": false,
     "title": ""
    }
   },
   "outputs": [
    {
     "output_type": "stream",
     "name": "stdout",
     "output_type": "stream",
     "text": [
      "+---+---------+--------------------+--------------------+-------+-----+---------------+-----------+------------+------------------+----------------+--------------------+----------------+--------------------+-----+--------------------+--------------------+--------------------+--------------------+--------------------+--------------------+----------+\n|_c0|course_id|        course_title|                 url|is_paid|price|num_subscribers|num_reviews|num_lectures|             level|content_duration| published_timestamp|         subject|  clean_course_title|label|            mytokens|     filtered_tokens|         rawFeatures|  vectorizedFeatures|       rawPrediction|         probability|prediction|\n+---+---------+--------------------+--------------------+-------+-----+---------------+-----------+------------+------------------+----------------+--------------------+----------------+--------------------+-----+--------------------+--------------------+--------------------+--------------------+--------------------+--------------------+----------+\n|  2|  1006314|Financial Modelin...|https://www.udemy...|   True|   45|           2174|         74|          51|Intermediate Level|       2.5 hours|2016-12-19T19:26:30Z|Business Finance|Financial Modelin...|  1.0|[financial, model...|[financial, model...|(3646,[13,48,156,...|(3646,[13,48,156,...|[-9.9845923594106...|[3.87286496530790...|       1.0|\n|  6|   739964|Investing And Tra...|https://www.udemy...|   True|   65|           1540|        178|          26|    Beginner Level|          1 hour|2016-02-21T18:23:12Z|Business Finance|Investing Trading...|  1.0|[investing, and, ...|[investing, tradi...|(3646,[2,59,65,11...|(3646,[2,59,65,11...|[-1.7142493553573...|[1.70245438750334...|       1.0|\n|  8|   476268|Options Trading 3...|https://www.udemy...|   True|  195|           5172|         34|          38|      Expert Level|       2.5 hours|2015-05-28T00:14:03Z|Business Finance|Options Trading 3...|  1.0|[options, trading...|[options, trading...|(3646,[2,26,36,37...|(3646,[2,26,36,37...|[-10.002346844648...|[2.49300696150881...|       1.0|\n|  9|  1167710|The Only Investme...|https://www.udemy...|   True|  200|            827|         14|          15|        All Levels|          1 hour|2017-04-18T18:13:32Z|Business Finance|Investment Strate...|  1.0|[the, only, inves...|[investment, stra...|(3646,[123,134,41...|(3646,[123,134,41...|[-7.7426349008405...|[1.21836186984019...|       1.0|\n| 13|   794151|Forex Trading Cou...|https://www.udemy...|   True|  195|           4061|         52|          16|        All Levels|         2 hours|2016-03-16T15:40:19Z|Business Finance|Forex Trading Cou...|  1.0|[forex, trading, ...|[forex, trading, ...|(3646,[2,15,91,43...|(3646,[2,15,91,43...|[-6.0189609499583...|[5.53315134062156...|       1.0|\n| 14|  1196544|Python Algo Tradi...|https://www.udemy...|   True|  200|            294|         19|          42|        All Levels|         7 hours|2017-04-28T16:41:44Z|Business Finance|Python Algo Tradi...|  1.0|[python, algo, tr...|[python, algo, tr...|(3646,[2,130,193,...|(3646,[2,130,193,...|[-7.5152871791802...|[1.06995589061127...|       1.0|\n| 15|   504036|Short Selling: Le...|https://www.udemy...|   True|   75|           2276|        106|          19|Intermediate Level|       1.5 hours|2015-06-22T21:18:35Z|Business Finance|Short Selling Lea...|  1.0|[short, selling:,...|[short, selling:,...|(3646,[1,72,407,9...|(3646,[1,72,407,9...|[-6.5000978586735...|[8.04169376792544...|       1.0|\n| 19|    58977|Financial Stateme...|https://www.udemy...|   True|   95|           8095|        249|          12|    Beginner Level|         35 mins|2013-06-09T00:21:26Z|Business Finance|Financial Stateme...|  1.0|[financial, state...|[financial, state...|(3646,[13,41,62,1...|(3646,[13,41,62,1...|[-7.5038435300226...|[1.49848868712117...|       1.0|\n| 21|   798740|Forex Traders - C...|https://www.udemy...|   True|  200|           2295|         84|          39|        All Levels|         4 hours|2016-05-02T19:26:48Z|Business Finance|Forex Traders  Cr...|  1.0|[forex, traders, ...|[forex, traders, ...|(3646,[0,2,14,15,...|(3646,[0,2,14,15,...|[-1.8900968806876...|[3.27924411340737...|       1.0|\n| 23|  1020760|Introduction to A...|https://www.udemy...|   True|   50|           1916|         38|          23|    Beginner Level|          1 hour|2016-12-05T22:14:17Z|Business Finance|Introduction Acco...|  1.0|[introduction, to...|[introduction, ac...|(3646,[13,24,29,3...|(3646,[13,24,29,3...|[-6.6161495293550...|[4.61374986523477...|       1.0|\n| 24|   859742|The Complete Ethe...|https://www.udemy...|   True|   45|           2507|        333|          40|        All Levels|         2 hours|2016-05-30T18:53:46Z|Business Finance|Complete Ethereum...|  1.0|[the, complete, e...|[complete, ethere...|(3646,[8,91,135,8...|(3646,[8,91,135,8...|[-2.2356776648381...|[3.44915936657697...|       1.0|\n| 28|   831066|Learn MQL5: Build...|https://www.udemy...|   True|  150|           2877|        103|          81|        All Levels|       4.5 hours|2016-04-26T22:41:46Z|Business Finance|Learn MQL5 Build ...|  1.0|[learn, mql5:, bu...|[learn, mql5:, bu...|(3646,[1,12,214,1...|(3646,[1,12,214,1...|[-3.5423206965114...|[1.99219851726931...|       1.0|\n| 29|  1266306|Forex Trading: Yo...|https://www.udemy...|   True|  140|           1026|         25|          37|    Beginner Level|         3 hours|2017-06-27T22:21:31Z|Business Finance|Forex Trading Com...|  1.0|[forex, trading:,...|[forex, trading:,...|(3646,[8,15,21,71...|(3646,[8,15,21,71...|[-7.9565587315495...|[4.53151404134426...|       1.0|\n| 30|  1170894|Python Algo Stock...|https://www.udemy...|   True|   95|           1165|         21|          41|    Beginner Level|       2.5 hours|2017-05-28T23:41:03Z|Business Finance|Python Algo Stock...|  1.0|[python, algo, st...|[python, algo, st...|(3646,[46,130,193...|(3646,[46,130,193...|[-5.1356977218359...|[2.46279355276289...|       1.0|\n| 32|   380970|The Complete Bitc...|https://www.udemy...|   True|   45|           8797|        449|          80|        All Levels|       6.5 hours|2015-01-09T03:55:15Z|Business Finance|Complete Bitcoin ...|  1.0|[the, complete, b...|[complete, bitcoi...|(3646,[8,91,133,1...|(3646,[8,91,133,1...|[-16.329471855417...|[2.66781104098872...|       1.0|\n| 34|  1246208|The Complete Shor...|https://www.udemy...|   True|  200|           1041|         12|          28|        All Levels|       1.5 hours|2017-06-11T19:02:03Z|Business Finance|Complete Short Co...|  1.0|[the, complete, s...|[complete, short,...|(3646,[7,8,827,97...|(3646,[7,8,827,97...|[-2.4093919339860...|[4.66614333527370...|       1.0|\n| 35|   434774|Options Trading S...|https://www.udemy...|   True|  195|           7884|        118|          68|Intermediate Level|        10 hours|2015-05-19T23:25:41Z|Business Finance|Options Trading S...|  1.0|[options, trading...|[options, trading...|(3646,[2,13,26,29...|(3646,[2,13,26,29...|[-16.578848706169...|[1.51021450633577...|       1.0|\n| 39|   965832|The Complete Inve...|https://www.udemy...|   True|  195|           8575|        809|         110|        All Levels|       5.5 hours|2016-10-10T16:16:26Z|Business Finance|Complete Investme...|  1.0|[the, complete, i...|[complete, invest...|(3646,[7,8,104,13...|(3646,[7,8,104,13...|[-4.7883211380303...|[3.56773500785267...|       1.0|\n| 42|  1154754|Financial Modelin...|https://www.udemy...|   True|  195|           4991|        137|          79|    Beginner Level|      11.5 hours|2017-03-29T22:36:05Z|Business Finance|Financial Modelin...|  1.0|[financial, model...|[financial, model...|(3646,[4,13,156,3...|(3646,[4,13,156,3...|[-16.066204853058...|[2.81722754094574...|       1.0|\n| 43|   627540|Options Trading -...|https://www.udemy...|   True|  115|           7489|       1190|          25|Intermediate Level|          1 hour|2015-10-22T21:54:28Z|Business Finance|Options Trading  ...|  1.0|[options, trading...|[options, trading...|(3646,[0,2,26,367...|(3646,[0,2,26,367...|[-14.271705933332...|[6.03389344767401...|       1.0|\n+---+---------+--------------------+--------------------+-------+-----+---------------+-----------+------------+------------------+----------------+--------------------+----------------+--------------------+-----+--------------------+--------------------+--------------------+--------------------+--------------------+--------------------+----------+\nonly showing top 20 rows\n\n"
     ]
    }
   ],
   "source": [
    "predictions.show()"
   ]
  },
  {
   "cell_type": "code",
   "execution_count": 0,
   "metadata": {
    "application/vnd.databricks.v1+cell": {
     "cellMetadata": {
      "byteLimit": 2048000,
      "rowLimit": 10000
     },
     "inputWidgets": {},
     "nuid": "3ea2c5a8-e7e0-4206-92fb-cc48417274ea",
     "showTitle": false,
     "title": ""
    }
   },
   "outputs": [
    {
     "output_type": "stream",
     "name": "stdout",
     "output_type": "stream",
     "text": [
      "Out[33]: ['_c0',\n 'course_id',\n 'course_title',\n 'url',\n 'is_paid',\n 'price',\n 'num_subscribers',\n 'num_reviews',\n 'num_lectures',\n 'level',\n 'content_duration',\n 'published_timestamp',\n 'subject',\n 'clean_course_title',\n 'label',\n 'mytokens',\n 'filtered_tokens',\n 'rawFeatures',\n 'vectorizedFeatures',\n 'rawPrediction',\n 'probability',\n 'prediction']"
     ]
    }
   ],
   "source": [
    "# Select Columns\n",
    "predictions.columns"
   ]
  },
  {
   "cell_type": "code",
   "execution_count": 0,
   "metadata": {
    "application/vnd.databricks.v1+cell": {
     "cellMetadata": {
      "byteLimit": 2048000,
      "rowLimit": 10000
     },
     "inputWidgets": {},
     "nuid": "ad874ba1-a694-493b-9831-c94be7a63580",
     "showTitle": false,
     "title": ""
    }
   },
   "outputs": [
    {
     "output_type": "stream",
     "name": "stdout",
     "output_type": "stream",
     "text": [
      "+--------------------+--------------------+----------------+-----+----------+\n|       rawPrediction|         probability|         subject|label|prediction|\n+--------------------+--------------------+----------------+-----+----------+\n|[-9.9845923594106...|[3.87286496530790...|Business Finance|  1.0|       1.0|\n|[-1.7142493553573...|[1.70245438750334...|Business Finance|  1.0|       1.0|\n|[-10.002346844648...|[2.49300696150881...|Business Finance|  1.0|       1.0|\n|[-7.7426349008405...|[1.21836186984019...|Business Finance|  1.0|       1.0|\n|[-6.0189609499583...|[5.53315134062156...|Business Finance|  1.0|       1.0|\n|[-7.5152871791802...|[1.06995589061127...|Business Finance|  1.0|       1.0|\n|[-6.5000978586735...|[8.04169376792544...|Business Finance|  1.0|       1.0|\n|[-7.5038435300226...|[1.49848868712117...|Business Finance|  1.0|       1.0|\n|[-1.8900968806876...|[3.27924411340737...|Business Finance|  1.0|       1.0|\n|[-6.6161495293550...|[4.61374986523477...|Business Finance|  1.0|       1.0|\n+--------------------+--------------------+----------------+-----+----------+\nonly showing top 10 rows\n\n"
     ]
    }
   ],
   "source": [
    "predictions.select('rawPrediction','probability','subject','label','prediction').show(10)"
   ]
  },
  {
   "cell_type": "markdown",
   "metadata": {
    "application/vnd.databricks.v1+cell": {
     "cellMetadata": {},
     "inputWidgets": {},
     "nuid": "10b2ebfb-a40e-4fe2-a01c-ac685036ab3e",
     "showTitle": false,
     "title": ""
    }
   },
   "source": [
    "### Model Evaluation\n",
    "+ Accuracy\n",
    "+ Precision\n",
    "+ F1score\n",
    "+ etc"
   ]
  },
  {
   "cell_type": "code",
   "execution_count": 0,
   "metadata": {
    "application/vnd.databricks.v1+cell": {
     "cellMetadata": {
      "byteLimit": 2048000,
      "rowLimit": 10000
     },
     "inputWidgets": {},
     "nuid": "c61a274e-a193-4e70-8dd8-b7fde120b34e",
     "showTitle": false,
     "title": ""
    }
   },
   "outputs": [],
   "source": [
    "from pyspark.ml.evaluation import MulticlassClassificationEvaluator"
   ]
  },
  {
   "cell_type": "code",
   "execution_count": 0,
   "metadata": {
    "application/vnd.databricks.v1+cell": {
     "cellMetadata": {
      "byteLimit": 2048000,
      "rowLimit": 10000
     },
     "inputWidgets": {},
     "nuid": "75977325-f5dc-4f44-8a79-450d025e6eb8",
     "showTitle": false,
     "title": ""
    }
   },
   "outputs": [],
   "source": [
    "evaluator = MulticlassClassificationEvaluator(labelCol='label',predictionCol='prediction',metricName='accuracy')"
   ]
  },
  {
   "cell_type": "code",
   "execution_count": 0,
   "metadata": {
    "application/vnd.databricks.v1+cell": {
     "cellMetadata": {
      "byteLimit": 2048000,
      "rowLimit": 10000
     },
     "inputWidgets": {},
     "nuid": "d37b2b50-b06b-4b3a-8e49-a99dfc879305",
     "showTitle": false,
     "title": ""
    }
   },
   "outputs": [],
   "source": [
    "accuracy = evaluator.evaluate(predictions)"
   ]
  },
  {
   "cell_type": "code",
   "execution_count": 0,
   "metadata": {
    "application/vnd.databricks.v1+cell": {
     "cellMetadata": {
      "byteLimit": 2048000,
      "rowLimit": 10000
     },
     "inputWidgets": {},
     "nuid": "e49b8552-bce0-4a25-9c39-117c05985250",
     "showTitle": false,
     "title": ""
    }
   },
   "outputs": [
    {
     "output_type": "stream",
     "name": "stdout",
     "output_type": "stream",
     "text": [
      "Out[38]: 0.9380362249761678"
     ]
    }
   ],
   "source": [
    "accuracy"
   ]
  },
  {
   "cell_type": "code",
   "execution_count": 0,
   "metadata": {
    "application/vnd.databricks.v1+cell": {
     "cellMetadata": {
      "byteLimit": 2048000,
      "rowLimit": 10000
     },
     "inputWidgets": {},
     "nuid": "f03aef3b-d581-4c2a-b111-b2557d477065",
     "showTitle": false,
     "title": ""
    }
   },
   "outputs": [],
   "source": [
    "#### Method 2: Precision. F1Score (Classification Report)\n",
    "from pyspark.mllib.evaluation import MulticlassMetrics"
   ]
  },
  {
   "cell_type": "code",
   "execution_count": 0,
   "metadata": {
    "application/vnd.databricks.v1+cell": {
     "cellMetadata": {
      "byteLimit": 2048000,
      "rowLimit": 10000
     },
     "inputWidgets": {},
     "nuid": "d981f379-499d-4936-97af-0eb227553791",
     "showTitle": false,
     "title": ""
    }
   },
   "outputs": [
    {
     "output_type": "stream",
     "name": "stderr",
     "output_type": "stream",
     "text": [
      "/databricks/spark/python/pyspark/sql/context.py:165: FutureWarning: Deprecated in 3.0.0. Use SparkSession.builder.getOrCreate() instead.\n  warnings.warn(\n"
     ]
    }
   ],
   "source": [
    "lr_metric = MulticlassMetrics(predictions['label','prediction'].rdd)"
   ]
  },
  {
   "cell_type": "code",
   "execution_count": 0,
   "metadata": {
    "application/vnd.databricks.v1+cell": {
     "cellMetadata": {
      "byteLimit": 2048000,
      "rowLimit": 10000
     },
     "inputWidgets": {},
     "nuid": "40bc2d1f-17e2-4409-899d-fbf6405f5a0a",
     "showTitle": false,
     "title": ""
    }
   },
   "outputs": [
    {
     "output_type": "stream",
     "name": "stdout",
     "output_type": "stream",
     "text": [
      "Accuracy: 0.9380362249761678\nPrecision: 0.987220447284345\nRecall: 0.8853868194842407\nF1Score: 0.9335347432024168\n"
     ]
    }
   ],
   "source": [
    "print(\"Accuracy:\",lr_metric.accuracy)\n",
    "print(\"Precision:\",lr_metric.precision(1.0))\n",
    "print(\"Recall:\",lr_metric.recall(1.0))\n",
    "print(\"F1Score:\",lr_metric.fMeasure(1.0))"
   ]
  },
  {
   "cell_type": "markdown",
   "metadata": {
    "application/vnd.databricks.v1+cell": {
     "cellMetadata": {},
     "inputWidgets": {},
     "nuid": "cde07504-bc4a-408e-81be-7a82f845c0b0",
     "showTitle": false,
     "title": ""
    }
   },
   "source": [
    "### Confusion Matrix\n",
    "+ convert to pandas\n",
    "+ sklearn"
   ]
  },
  {
   "cell_type": "code",
   "execution_count": 0,
   "metadata": {
    "application/vnd.databricks.v1+cell": {
     "cellMetadata": {
      "byteLimit": 2048000,
      "rowLimit": 10000
     },
     "inputWidgets": {},
     "nuid": "26c1b771-8f06-4778-ad09-da5b9fe2fdd8",
     "showTitle": false,
     "title": ""
    }
   },
   "outputs": [],
   "source": [
    "y_true = predictions.select('label')\n",
    "y_true = y_true.toPandas()\n",
    "y_pred = predictions.select('prediction')\n",
    "y_pred = y_pred.toPandas()"
   ]
  },
  {
   "cell_type": "code",
   "execution_count": 0,
   "metadata": {
    "application/vnd.databricks.v1+cell": {
     "cellMetadata": {
      "byteLimit": 2048000,
      "rowLimit": 10000
     },
     "inputWidgets": {},
     "nuid": "9774be3c-744b-41f0-a5d7-8b1af7f19880",
     "showTitle": false,
     "title": ""
    }
   },
   "outputs": [],
   "source": [
    "from sklearn.metrics import confusion_matrix,classification_report"
   ]
  },
  {
   "cell_type": "code",
   "execution_count": 0,
   "metadata": {
    "application/vnd.databricks.v1+cell": {
     "cellMetadata": {
      "byteLimit": 2048000,
      "rowLimit": 10000
     },
     "inputWidgets": {},
     "nuid": "10bad821-fef3-4920-8495-249acbb62145",
     "showTitle": false,
     "title": ""
    }
   },
   "outputs": [],
   "source": [
    "cm = confusion_matrix(y_true,y_pred)"
   ]
  },
  {
   "cell_type": "code",
   "execution_count": 0,
   "metadata": {
    "application/vnd.databricks.v1+cell": {
     "cellMetadata": {
      "byteLimit": 2048000,
      "rowLimit": 10000
     },
     "inputWidgets": {},
     "nuid": "d1236cc4-00df-4200-b8de-95ab775195d9",
     "showTitle": false,
     "title": ""
    }
   },
   "outputs": [
    {
     "output_type": "stream",
     "name": "stdout",
     "output_type": "stream",
     "text": [
      "Out[45]: array([[345,  11,   2,   6],\n       [  3, 309,   0,   1],\n       [  4,  10, 178,   3],\n       [  5,  19,   1, 152]])"
     ]
    }
   ],
   "source": [
    "cm"
   ]
  },
  {
   "cell_type": "code",
   "execution_count": 0,
   "metadata": {
    "application/vnd.databricks.v1+cell": {
     "cellMetadata": {
      "byteLimit": 2048000,
      "rowLimit": 10000
     },
     "inputWidgets": {},
     "nuid": "71baddef-c7a4-4ee7-93cd-73dd3f89dc10",
     "showTitle": false,
     "title": ""
    }
   },
   "outputs": [],
   "source": [
    "import matplotlib.pyplot as plt\n",
    "import numpy as np\n",
    "import itertools\n",
    "\n",
    "def plot_confusion_matrix(cm, classes,\n",
    "                          normalize=False,\n",
    "                          title='Confusion matrix',\n",
    "                          cmap=plt.cm.Blues):\n",
    "    \"\"\"\n",
    "    This function prints and plots the confusion matrix.\n",
    "    Normalization can be applied by setting `normalize=True`.\n",
    "    \"\"\"\n",
    "    if normalize:\n",
    "        cm = cm.astype('float') / cm.sum(axis=1)[:, np.newaxis]\n",
    "        print(\"Normalized confusion matrix\")\n",
    "    else:\n",
    "        print('Confusion matrix, without normalization')\n",
    "\n",
    "    print(cm)\n",
    "\n",
    "    plt.imshow(cm, interpolation='nearest', cmap=cmap)\n",
    "    plt.title(title)\n",
    "    plt.colorbar()\n",
    "    tick_marks = np.arange(len(classes))\n",
    "    plt.xticks(tick_marks, classes, rotation=45)\n",
    "    plt.yticks(tick_marks, classes)\n",
    "\n",
    "    fmt = '.2f' if normalize else 'd'\n",
    "    thresh = cm.max() / 2.\n",
    "    for i, j in itertools.product(range(cm.shape[0]), range(cm.shape[1])):\n",
    "        plt.text(j, i, format(cm[i, j], fmt),\n",
    "                 horizontalalignment=\"center\",\n",
    "                 color=\"white\" if cm[i, j] > thresh else \"black\")\n",
    "\n",
    "    plt.tight_layout()\n",
    "    plt.ylabel('True label')\n",
    "    plt.xlabel('Predicted label')\n"
   ]
  },
  {
   "cell_type": "code",
   "execution_count": 0,
   "metadata": {
    "application/vnd.databricks.v1+cell": {
     "cellMetadata": {
      "byteLimit": 2048000,
      "rowLimit": 10000
     },
     "inputWidgets": {},
     "nuid": "db452f0b-2018-40cd-9e12-df828e8d3e5b",
     "showTitle": false,
     "title": ""
    }
   },
   "outputs": [
    {
     "output_type": "stream",
     "name": "stdout",
     "output_type": "stream",
     "text": [
      "Out[47]: dict_keys(['Web Development', 'Business Finance', 'Musical Instruments', 'Graphic Design'])"
     ]
    }
   ],
   "source": [
    "label_dict.keys()"
   ]
  },
  {
   "cell_type": "code",
   "execution_count": 0,
   "metadata": {
    "application/vnd.databricks.v1+cell": {
     "cellMetadata": {
      "byteLimit": 2048000,
      "rowLimit": 10000
     },
     "inputWidgets": {},
     "nuid": "27fb45ad-ca7e-4771-a6ec-99fa262cc87c",
     "showTitle": false,
     "title": ""
    }
   },
   "outputs": [],
   "source": [
    "class_names = ['Web Development', 'Business Finance', 'Musical Instruments', 'Graphic Design']"
   ]
  },
  {
   "cell_type": "code",
   "execution_count": 0,
   "metadata": {
    "application/vnd.databricks.v1+cell": {
     "cellMetadata": {
      "byteLimit": 2048000,
      "rowLimit": 10000
     },
     "inputWidgets": {},
     "nuid": "cd38e4eb-0526-4daa-9ccb-332446126580",
     "showTitle": false,
     "title": ""
    }
   },
   "outputs": [
    {
     "output_type": "stream",
     "name": "stdout",
     "output_type": "stream",
     "text": [
      "Confusion matrix, without normalization\n[[345  11   2   6]\n [  3 309   0   1]\n [  4  10 178   3]\n [  5  19   1 152]]\n"
     ]
    },
    {
     "output_type": "display_data",
     "data": {
      "image/png": "[encoded data removed]"
     },
     "metadata": {
      "application/vnd.databricks.v1+output": {
       "addedWidgets": {},
       "arguments": {},
       "data": "data:image/png;base64,iVBORw0KGgoAAAANSUhEUgAAAWEAAAEmCAYAAACzoiEDAAAAOXRFWHRTb2Z0d2FyZQBNYXRwbG90bGliIHZlcnNpb24zLjUuMSwgaHR0cHM6Ly9tYXRwbG90bGliLm9yZy/YYfK9AAAACXBIWXMAAAsTAAALEwEAmpwYAABPKElEQVR4nO2dd5gUVdaH398QJUiQIBLECGJCRFRUYM2KilkwgaIYcU2r7n6ucc0554w5o6LiGhFBkKACJlRcgiiIICBxON8f97Y0w4QGerp6hvP61DPdt25VnW7sU6fOPUFmhuM4jpMMBUkL4DiOszbjSthxHCdBXAk7juMkiCthx3GcBHEl7DiOkyCuhB3HcRLElbBTqZG0jqTXJM2R9PwanOcYSYOzKVtSSNpN0jdJy+EE5HHCTj4g6WjgXKAtMBcYC1xlZh+v4XmPA/oDnc1s6ZrKme9IMmAzM5uYtCxOZrgl7CSOpHOBW4GrgaZAK+BuoEcWTr8h8O3aoIAzQVLVpGVwimBmvvmW2AbUA+YBR5QypwZBSU+L261AjbivGzAFOA/4FfgZOCHuuxxYDCyJ1+gLXAYMSDt3a8CAqvF9H+AHgjX+I3BM2vjHacd1BkYCc+Lfzmn7PgCuBIbG8wwGGpXw2VLyX5Am/8HA/sC3wCzgX2nzOwHDgNlx7p1A9bjvo/hZ5sfPe1Ta+S8EpgNPpMbiMZvEa3SI7zcAZgDdkv5/Y23Z3BJ2kmZnoCbwcilz/g/YCWgPbEtQRBen7V+foMybExTtXZIamNmlBOv6WTOrY2YPlSaIpNrA7cB+ZlaXoGjHFjOvIfBGnLsecDPwhqT10qYdDZwANAGqA+eXcun1Cd9Bc+AS4AHgWGB7YDfg35I2inMLgXOARoTvbg/gdAAz6xLnbBs/77Np529IeCrol35hM/ueoKAHSKoFPAI8ZmYflCKvk0VcCTtJsx4w00p3FxwDXGFmv5rZDIKFe1za/iVx/xIzG0SwAtuspjzLgK0krWNmP5vZ+GLmdAe+M7MnzGypmT0NfA0cmDbnETP71swWAM8RbiAlsYTg/14CPENQsLeZ2dx4/QmEmw9mNsrMhsfrTgLuA7pm8JkuNbNFUZ4VMLMHgInAp0Azwk3PyRGuhJ2k+Q1oVIavcgPgp7T3P8Wxv85RRIn/CdRZVUHMbD7hEf5U4GdJb0hqm4E8KZmap72fvgry/GZmhfF1Skn+krZ/Qep4SZtLel3SdEl/ECz9RqWcG2CGmS0sY84DwFbAHWa2qIy5ThZxJewkzTBgEcEPWhLTCI/SKVrFsdVhPlAr7f366TvN7G0z24tgEX5NUE5lyZOSaepqyrQq3EOQazMzWxf4F6Ayjik1BEpSHYKf/SHgsuhucXKEK2EnUcxsDsEPepekgyXVklRN0n6Sro/TngYultRYUqM4f8BqXnIs0EVSK0n1gH+mdkhqKqlH9A0vIrg1lhVzjkHA5pKOllRV0lFAO+D11ZRpVagL/AHMi1b6aUX2/wJsvIrnvA34zMxOIvi6711jKZ2McSXsJI6Z3USIEb6YsDI/GTgTeCVO+Q/wGfAF8CUwOo6tzrXeAZ6N5xrFioqzIMoxjRAx0JWVlRxm9htwACEi4zdCZMMBZjZzdWRaRc4nLPrNJVjpzxbZfxnwmKTZko4s62SSegD7svxzngt0kHRM1iR2SsWTNRzHcRLELWHHcZwEcSXsOI6TIK6EHcdxEsSVsOM4ToJ4MQ8HVV3HVL1u0mKUyrZtWyUtQpmorGhdJ2PGjB4108war+l5qqy7odnSlZIE/8IWzHjbzPZd0+usCa6EHVS9LjXalBnNlCgfDL0taRHKpHrVivFgWbgs/yOi6tasUjQjcbWwpQup0bZnifsXjrmjrGzDcseVsOM4lRcBBVWSlqJUXAk7jlO5yXM/kSthx3EqMXJL2HEcJzEEKL999a6EHcepxLgl7DiOkyCuhB3HcZJD+MKc4zhOcggK8lvN5bd0juM4a0qBW8KO4zjJ4MkajuM4SSIPUXMcx0mUPLeE8/sW4eQlNapXZcgT5/Ppsxcx6oX/4+JT919h/00XHM6MoTf99f7YA3fkf+9dw/BnLmL4MxfR55Cdcy0yZ5xyEptu2IydO27719grL73ATttvQ4Pa1Rgz6rOcy1QaUyZPZt+9dqfDNluy/bZbcdcd+VnAaPbs2Rzb6wg6bNOO7bfdkk+HD0tapBWRSt/yALeEnVVm0eKl7NvvduYvWEzVqgW89/C5DB46gRFfTqJDu1bUr1trpWNefHs051z3fALSBo4+7nhOPvV0Tjv5hL/Gtmi3JU88/Txn91+pl2fiVKlalWuuv5HttuvA3Llz2WXHjuy+x15s0a5d0qKtwAXnnc2ee+3DgKefZ/Hixfz5559Ji7Qybgk7lZH5CxYDUK1qFapWrYKZUVAgrj77YP7vtleSFa4Ydtm1Cw0aNlxhrE3bLdhs8zYJSVQ6zZo1Y7vtOgBQt25d2rTdgmnTpiYs1YrMmTOHTz4eQu8T+gJQvXp16tevn6xQKxF9wiVteUB+SOFUOAoKxPBnLuJ/717Le8O/ZuS4nzjtqK688eGXTJ/5x0rze+zRnhHP/pOnbuhLi6b1cy9wBeanSZP4/PMx7NBpx6RFWYGfJv1Io8aNOfXkE9llx+0549STmT9/ftJirUgqOqKkLQ9ITAlLukXS2Wnv35b0YNr7mySdW8rxH0jqWMY1ukmaI2mMpG8kfSTpgKx8gBWv00fSndk+75ogqbWko8vr/MuWGTv1vJZN97mYjlttyC4dNuHQvbbj7mc+XGnuoI/G0bb7pXQ66hreHf41D1xxXHmJVemYN28evY46nOtvvIV11103aXFWYOnSpYwdM5qT+p3K0E9HUbt2bW6+4bqkxSqCXAmXwlCgM4CkAqARsGXa/s7AJ1m4zhAz287M2gBnAXdK2iML5813WgPlpoRTzJm3gA8/+5auHTdn45aNGT/wUr5+43Jq1azGuFcvBWDWnPksXrIUgEde/oTttsj/VkX5wJIlSzj6qMPp2etoDj7k0KTFWYnmzVvQvHmLvyz0HoccxtixoxOWqhjWwB0hqaakEZI+lzRe0uVxfCNJn0qaKOlZSdXjeI34fmLc37qsaySphD8BUsvkWwLjgLmSGkiqAWwBjJa0vaQPJY2K1nKztHMcJ2mspHGSOpV1QTMbC1wBnAkgqbGkFyWNjNsukgokTZJUP3WcpO8kNS1uftFrRAv0PUlfSHpXUqs4/qikeyV9JunblEUerehXJL0Tr3umpHOj9T5cUsM4bxNJb8XvYYiktmnnvV3SJ5J+kHR4FOVaYLf4/ZyT8b9KBjRqUId6ddYBoGaNauyxY1vGfDWZjfb6F227X0rb7pfy58IlbNXjcgDWb7Tcgjug69Z88+P0bIpTKTEzTut3Em3atuWss0t8IEyUpuuvT/MWLfn2228A+PD992i7RX4tHKI1toQXAbub2bZAe2BfSTsB1wG3mNmmwO9A3zi/L/B7HL8lziuVxKIjzGyapKVRSXUGhgHNCYp5DvAlYMAdQA8zmyHpKOAq4MR4mlpm1l5SF+BhYKsMLj0a+Ed8fRvhi/w4yvG2mW0h6VXgEOARSTsCP5nZL5KeKjqfcLNI5w7gMTN7TNKJwO3AwXFfa6ATsAnwvqRN4/hWwHZATWAicKGZbSfpFuB44FbgfuBUM/suynQ3sHs8vhmwK9AWGAi8AFwEnG9mxbpfJPUD+gFQrU4GX9ty1m+0Lg9ccRxVCgooKBAvvjOaN4eMK3H+6b260b3r1iwtLOT3OX9y8qUDVul62aBv72P4+KMP+e23mbTbdEMuuvhSGjRoyIXn/Z2ZM2dw5GEHsfU22/LSwDdzLltxDPtkKE89+QRbbbU1O3bcDoDLr7yKfffbv4wjc8uNt9zGSX2OY/HixbTeaCPuuf/hpEVamTUIRTMzA+bFt9XiZoTfXupJ8zHgMuAeoEd8DeF3eKckxfMUS9Ihap8QFHBn4GaCEu5MUMJDgTYEBfWOwhdZBfg57finAczsI0nrSqpvZrPLuGb6v8ieQDst/0daV1Id4FngEuARoGd8X9r8dHYGUs+OTwDXp+17zsyWAd9J+oGgNAHeN7O5hCeBOcBrcfxLYJt4jc7A82nXrpF23lfieSdIalrG5wfAzO4nKHYKajVZpc6P476bxs69Sr/BN97lvL9eX3LHQC65Y+CqXCLrPPTYk8WOH9jj4NwKkiGdd9mVPxcvS1qMMtlm2/Z89MmIpMUoEQEFBaU+8DeSlB4kfn/8bSw/h1QFGAVsCtwFfA/MNrOlccoUgu4i/p0MYGZL4+95PWBmSQIkrYRTfuGtCe6IycB5wB8EBShgvJmVFN1fVHlkoky2A76KrwuAncxsYfoEScOATSU1Jlix/yljfgaXLVXeRWljy9LeLyP8GxUQ/tHbl3De9OPzIwLdcfIBUdYvYqaZlbrAb2aFQPvoonyZ5cZTVkg6RO0T4ABglpkVmtksoD7BmvwE+AZoLGlnAEnVJKUv3h0Vx3cF5pjZnNIuJmkb4N+EuxnAYKB/2v728NcjyMsE6/wrM/uttPnFfKZUj+1jgCFp+46IPudNgI3j5ysTM/sD+FHSEfG6krRtGYfNBepmcn7HqbyIgoKCErdVIT5lv0/QT/UlpYzYFkAqiHsq0BIg7q8H/EYpJK2EvyRERQwvMjbHzGaa2WLgcOA6SZ8DY4kRFZGFksYA97LcMV6U3eIi1zcE5XuWmb0b950FdIyLaBOAU9OOexY4luWuiLLmp+gPnCDpC+A44O9p+/4HjADeJPh3FxZzfEkcA/SN38N4gu+pNL4AChVWdbO6MOc4FQlJJW4ZHNs4tUgvaR1gL8KT9PsE3QTQG3g1vh4Y3xP3v1eaPxhAZex3soSkR4HXzeyFpGUpSkGtJlajzZFJi1Eq0z/Jz9oJ6VSvmrRNkxmFy/L/N1+3ZpVRZbkJMqHKehtZnX2uKHH/H08fX+p14tPzY4T1qALCus4VkjYGngEaAmOAY81skaSahLWg7YBZQE8z+6E0GZP2CTuO45Qbiu6I1cXMviAo1KLjPxAinYqOLwSOWJVruBLOEWbWJ2kZHGdtZBUWzhPBlbDjOJUXgby9keM4TnK4Jew4jpMQa+oTzgWuhB3HqdzktyHsSthxnEqMykxbThxXwo7jVGrcJ+w4jpMQQh4d4TiOkxjujnAcx0kWd0c4juMkiLsjHMdxEiLTamlJ4krYcZxKjfuEnbyn/Rat+HjYHUmLUSrrHXJn0iKUye+v9i97Uh5QtUp+W4ZZJ88/rithx3EqLxUgOiK/pXMcx1kDRGi2XNJW5vFSS0nvS5ogabykv8fxyyRNlTQ2bvunHfNPSRMlfSNpn7Ku4Zaw4ziVGFGwZtERS4HzzGy0pLrAKEnvxH23mNmNK1xNakfoMbklsAHwX0mbx2ahxeKWsOM4lZo16TFnZj+b2ej4ei6hv1zzUg7pATxjZovM7EdgIsV04EjHlbDjOJUWCapUUYkb0EjSZ2lbv5LPpdaEVkefxqEzY9PfhyU1iGPNgclph02hdKXt7gjHcSo3ZbgjZmbSUFRSHeBF4Gwz+0PSPcCVgMW/NwEnrpZ8q3OQ4zhOhaCURblMczgkVSMo4CfN7CUAM/vFzArNbBnwAMtdDlOBlmmHt4hjJeJK2HGcSkuqs0ZJW5nHB8fxQ8BXZnZz2niztGmHAOPi64FAT0k1JG0EbAaMKO0a7o5wHKdSs4ZZy7sAxwFfShobx/4F9JLUnuCOmAScAmBm4yU9B0wgRFacUVpkBLgSdhynMqMyfcKlYmYfU3zO3aBSjrkKuCrTa7gSdhyn0hKSNfI7b9mVsOM4lZo1TNYod1wJO45TqclzQ9ijI5zssXDhQrrssiM7dmxPx/Zb8Z8rLk1MlhrVqjDk5iP59I5ejLr7aC4+ZkcANmy6Lh/dfATjHjiOJy7cl2pVw0+gVeO6DLrqYEbc2Yu3rzmE5uvVTkz2FIPffotttmzDlm035Ybrr01anJU45aQTabVBE7Zvv1XSopSIok+4pC0fcCXsZI0aNWow6O13+fSzsQwbOYZ3Br/NiE+HJyLLoiWF7Puvl9mx/9Ps2P8Z9t6+FZ3aNOWqEzpzxytj2erkJ/h93kL67N0OgGtO2oUn3/uaTmc+zdVPj+SKPp0TkTtFYWEhZ591Bq++9iZjvpjA8888zVcTJiQqU1GO692HV19/K2kxyqBkBexK2Kl0SKJOnToALFmyhCVLliS6KDJ/4RIAqlUtoGqVAgzouk0LXvp4IgBPvvs1B+60MQBtWzbkw8+nAPDhF1M4II4nxcgRI9hkk03ZaOONqV69Okcc1ZPXX3s1UZmKsutuXWjYsGHSYpTJmtSOyAWuhJ2sUlhYyE47bEfrFk3ZfY892aHTjonJUlAght/Rk/892Zf3xk7mh5/nMGf+IgqXGQBTZ85jg/XCTePLH2fSo/MmAPTovAnr1qpOw7o1E5N92rSptGixPPGqefMWTJ1aauKVUwzujlhNJBXGGp2fSxotabWeDSWdKun4bMtXxjWL1hm9Ngk5kqJKlSoMHzmGb3+YzKjPRjJ+/LiyDyonli0zdur/DJv2foSOmzelTYsGJc7950ND2W3r5gy7vSe7bbUBU2fOo3DZshxK65QX+W4J52t0xAIzaw8QiyJfA3Rd1ZOY2b1ZlitTVqozurZRv359unTtxjtvv8WWWya7cDNn/mI+/GIKO7Zdn3q1a1ClQBQuM5o3qsO03+YB8POs+fS8KsTf165ZjYN32ZQ58xcnJvMGGzRnypTlxbimTp1C8+alFuNySiBfLN6SKNESlnSHpNtL2nIo47rA71GmbpJeT5PxTkl94utrY/X7LyTdGMcuk3R+fP2BpOskjZD0raTd4ngVSTdIGhmPPSWON5P0UbRmx0naLc59NL7/UtI5mXyADOVoLWlItPz/sv7jZ/5A0guSvpb0ZMxnR9IOkj6JTwwjJNUt6fPkghkzZjB79mwAFixYwHvv/pc2bdrm6vIr0GjdmtSrXR2AmtWrsEf7Vnw9+Xc++nIKh+66KQDH7NGW1z/9EYD11q35VyjTP47cnsfeSXYRrOMOOzBx4ndM+vFHFi9ezPPPPkP3Aw5KVKYKSRYK+JQ3pVnCn+VMipVZJ+Zp1wSaAbuXNlnSeoQiGm3NzCTVL2FqVTPrpNCK5FJgT6AvMMfMdpBUAxgqaTBwKPC2mV0lqQpQC2gPNDezreJ1S7rOOZKOja8vzFCOX4G9zGyhpM2Ap4FUib3tCJX6pwFDgV0kjQCeBY4ys5GS1gUWlPR5YoHp9O+sH9APoGWrViV8jFVj+vSf6de3D4WFhSxbtozDDj+C/bofkJVzryrrN6zNA+fuRZUCUSDx4sff8ebISXw1eRZPXLAvlx63E5//MINH3x4PQJetm3NF784YxsfjpnH23R8kIneKqlWrcsttd3Jg930oLCykd58TabfllonKVJTjj+3FkA8/YObMmWzSugX/vuRy+pzYN2mxVkBr3lmj3ClRCZvZY+nvJdUysz/LXyRgRXfEzsDjkkp7pp0DLAQeipby6yXMeyn+HQW0jq/3BraRdHh8X49Q+Wgk8LBCGbtXzGyspB+AjSXdAbwBDC7hOiu4I+JnKEuOasCdCkVBCoHN0+aPMLMp8Vxj4zFzgJ/NbCSAmf0R95f0eVZQwmZ2P3A/QIftO1oJn2OV2HrrbRg2YnQ2TrXGjJv0Gzuf9cxK45Om/8Fu5z630vjLQ7/n5aHf50K0jNl3v/3Zd7/9y56YEI8PeDppETKiIF9M3hIoc2FO0s6SJgBfx/fbSrq73CWLmNkwoBHQmFCVKF3mmnHOUkI9zxeAA4CSghcXxb+FLL8BCehvZu3jtpGZDTazj4AuhFqgj0o63sx+B7YFPgBOBR5czY9VnBznAL/E83cEqhczv+gxxVHs51lNOR2nQlNZoiNuBfYBfgMws88JyiknSGoLVInX/wlop1Crsz6wR5xTB6hnZoMIymzbVbjE28Bp0eJF0uaSakvaEPjFzB4gKNsOkhoBBWb2InAx0CErHzJQj2DZLiOUzqtSxvxvgGaSdohy15VUtaTPk0U5HadCUaVAJW75QEbREWY2uUg4R6n1MbNAyicMwbLrHWtyTlao1TmO8Hg9Js6pC7wqqWacf+4qXOtBwuP96LjgNQM4GOgG/EPSEmAecDyhV9QjklI3r3+uzocrgbuBFxVC2d4C5pc22cwWSzoKuEPSOgR/8J6lfB7HWSvJc28EMivdHSjpBeBm4E5gR+DvQEcz61n+4jm5oMP2He3jYSOTFqNU1jvkzqRFKJPfX+2ftAiVhnWqaVQmvd/Kov6GW1iX/3u8xP2vndKp1OtIagk8DjQlFHC/38xuk9SQsDDemlDU/Ugz+z0aPrcB+wN/An1S3ZpLIhN3xKnAGQQrcBohQuCMDI5zHMdJllISNZSZibwUOM/M2gE7AWdIagdcBLxrZpsB78b3APsRFsI3I0Qf3VPWBcp0R5jZTOCYTKR1HMfJJwRr5Ps1s5+Bn+PruZK+IhikPQguS4DHCIv1F8bxxy24GIZLqi+pWTxPsWQSHbGxpNckzZD0q6RXJSVb3cRxHCdDykjWaCTps7StX8nnUWtCzP6nQNM0xTqd4K6AoKAnpx02JY6VSCYLc08BdxGSIQB6EhIJkqvM4jiOkwGpELVSmJmJ7zlGYL0InG1mf6S7MmKC2GrH2mfiE65lZk+Y2dK4DSDG5zqO4+Q7BVKJWybEcM8XgSfNLJVo9Yti2/v499c4PhVomXZ4izhWsnylXLhhXAF8U9JFsbbBhpIuoJROo47jOPnEmijhGO3wEPCVmd2ctmsg0Du+7g28mjZ+vAI7EUoIlOgPhtLdEaMIIRkpSdMLwRjZjZF1HMfJOgLWMCdjF0Ly1JdpuQv/Aq4FnpPUl5BEdmTcN4gQnjaREKJ2QlkXKK12xEarLbbjOE4+oDVLTzazj1luiBZlj2LmG6sYwptRxlwsntOONF+wmZUcAe04jpMHrGmIWi4oUwlLupQQD9eOYGrvB3xMyCJxHMfJazJMykiMTKIjDieY3dPN7ARCcZx65SqV4zhOFpCgilTilg9k4o5YYGbLJC2NhcN/ZcUQDMdxnLwlT3RtiWSihD+LZSMfIERMzAOGladQjuM42SJf6gaXRCa1I06PL++V9Bawrpl9Ub5iOY7jrDki86SMpChRCUsqsWC5pA5llWdznGzyy4v5X7jvrJfHJS1CRtzaI7961ZUrZactJ05plvBNpewzymi+6TiOkw9kEn2QJKUla/wtl4I4juNkm0oRJ+w4jlNRkVwJO47jJEqe62BXwo7jVF4qgjsik84aknSspEvi+1aSOpW/aI7jOGtOQSlbPpCJHHcDOwO94vu5hE4bjuM4eY0kqhSUvOUDmSjhHc3sDGAhgJn9DlQvV6kcx3GyRBk95so4Vg/H3prj0sYukzRV0ti47Z+275+SJkr6RtI+mciXiU94iaQqhNhgJDUGlmVycsdxnCQRUHXNLN5HgTtZuWrkLWZ24wrXktoRenBuCWwA/FfS5mZWWNoFMrGEbwdeBppIuopQxvLqjMR3HMdJmDWxhM3sI2BWhpfqATxjZovM7EdCd40y188yqR3xpKRRhHKWAg42s68yFMpxHCc5YinLcuBMSccDnwHnRTdtc2B42pwy291DZtERrQi9kl4jNLGbH8ccx3HymlSPuZI2oJGkz9K2fhmc9h5gE6A98DOll3gok0x8wm+wvOFnTWAj4BuC38NxHCevKSMKYqaZdVyV85nZL6nXkh4AXo9vV7ndPWTmjtg6/X2srnZ6CdMdh8LCQnbdeQc22KA5L77yWtLiAHDGKX156803aNy4CcNHhUqss2bN4oTjevK/n36i1YYb8uiAZ2nQoEFO5erdsTlbN6vL3EVLuXzwRABO3qkl69cNAUjrVKvCgiWFXPnO91QRHNexORs2WIcCwbCfZvPW1zNzKm86CxcuZO89urJo0SIKly7l4EMP4+JLLk9MnuIIacvZPqeapbWxPwRIRU4MBJ6SdDNhYW4zYERZ51tl8WIJyx1X9Thn7eGuO26jTdstkhZjBY4+rjcvvjpohbFbbryOrt32YMy4b+jabQ9uufG6nMv1yaTfuX3IpBXGHhg+mSvf+Z4r3/me0VP+YPSUPwDYvkU9qhWIywdP5Kr/fk+XjRuyXq1qOZc5RY0aNRj09rt8+tlYho0cwzuD32bEp8PLPjDHFEglbmUh6WlCE4s2kqbEFvfXS/pS0hfA34BzAMxsPPAcMAF4CzijrMgIyMwnfG7adr6kp4BpZUrvrJVMnTKFt94cRJ8T+iYtygrssmsXGjRsuMLYoNcHcvSxxwNw9LHH88Zrr+Zcru9m/sn8xSX/Tju2rMfIyXOA4BOsXrWAAkG1KgUULjMWLEkuWlQSderUAWDJkiUsWbIk75pqhrTlkreyMLNeZtbMzKqZWQsze8jMjjOzrc1sGzM7KM0qxsyuMrNNzKyNmb2ZiYyZWMJ107YaBB9xj0xO7qx9XHD+OVx1zXUUFORLUmjJzPj1F9Zv1gyApuuvz4xffynjiNyyWaNa/LFwKb/OWwzA6ClzWLx0GTcc2JZru7dh8Dcz+XNJmYZWuVJYWMhOO2xH6xZN2X2PPdmhU749JIuCUrZ8oNRfSkzSqGtml8ftKjN70swWlnViSSZpQNr7qpJmSHq9tONKOd+DMRh6VY/rVtw1SxrP8JxnS6q1OseWB5Lap2ftJMWbb7xO48aN2a7D9kmLssoo08DRHLJDq3qMnDz7r/etG9ZimcEFr33NvwZ9w15tGtGodnLuCIAqVaowfOQYvv1hMqM+G8n48fnVXSTlE15dSzgXlCiGpKrRn7HLap57PrCVpHXi+73IYKWwJMzsJDObsLrHZ5mzgWKVcLxx5Zr2QOJKeNiwobzxxmtssflG9D6uFx9+8B4n9jkuabFKpHGTpkz/OTxJTv/5Zxo3bpKwRMspEHRovtwVAdCpVT3GT59HocHcRYV8P/NPNmywTilnyR3169enS9duvPP2W0mLshJr4hPOBaXdC1KremMlDZR0nKRDU1uG5x8EdI+vewFPp3bE/Ovz096Pk9RaUm1Jb0j6PI4dFfd/IKljfL2vpNFxzrtxrJOkYZLGSPpEUpsMZUzJ8nC8xg+SzorjK8kS920AvC/p/ThvnqSbJH0O7CxpkqRGcV9HSR+kXecxSUMk/RS/y5ST/y1J1eK87SV9KGmUpLclNUv7Dq6TNELSt5J2k1QduAI4KuaxHyWpq5bntY+RVDfT72JNuOI/1/DdD5P56tsfeeyJp+nabXcefvSJXFx6tdiv+4E8NSBkoz414HH2P+CghCVazhZN6jB97iJmL1j619isP5fQpkltAKpXERuttw7T5y5KSkRmzJjB7NmzAViwYAHvvftf2rRpm5g8xZEqZZnPBXwyiROuCfxG6CmXihc24KUMjn0GuCQ+9m8DPAzsVsYx+wLTzKw7gKR66Ttj7YoHgC5m9qOk1GrL18BuZrZU0p6E1OrDMpAxRVvCSmdd4BtJ9xQni5nNkXQu8DczS8UH1QY+NbPz4rzSrrNJvE47wqrrYWZ2gaSXge6S3gDuAHqY2Yx4E7oKODEeX9XMOkX3w6VmtqdCmdGOZnZmvP5rhJXZoZLqEIsvrc2cePzRfDzkQ36bOZMtNmnFP/99KeeefyG9j+3JE489TMtWG/LogGdyLtdJO7agTePa1KlRleu6t2Hg+F8ZOul3dmhVjxH/m73C3A8mzqLPDs25bO9NQfDJj7OZOic5JTx9+s/069uHwsJCli1bxmGHH8F+3Q9ITJ6SyBODt0RKU8JNorIZx3Llm8IyObmZfSGpNcEKHlTG9BRfAjdJug543cyGFNm/E/BRzM3GzFJ53fWAxyRtFuVbVWfZG2a2CFgk6VegaQaypCgEXszwOm+a2RJJXwJVCKEsxGu1BtoAWwHvRGVehZCVkyJ18xsV5xfHUOBmSU8CL5nZlKITFDKD+gG0bJX9BMguXbvRpWu3rJ93dXn48aeKHX/tzXdyLMmKPPjpSv80ADw6cmXP3aLCZdw3fHJ5i5QxW2+9DcNG5HfTdZVf2nLWKM0dUQWoE7e6aa9TW6YMBG4kzRURWVrk+jUBzOxboANBKf0nWnmZcCXwvpltBRyYOt8qkG5SFBIszkxlWVgkHjD9sxWVYxGAmS0DlphZ6oa2jHBTFDDezNrHbWsz27sYOQsp4SZqZtcCJwHrAEMlrfSMaGb3m1lHM+vYqFHjEj6W41RsRFDCJW35QGmW8M9mdkUWrvEwMNvMvpTULW18EnAA/JWFt1F8vQEwy8wGSJpNUCbpDAfulrRRyh0RreF6LF/465MFuUuTZS7hxlRSutIkYHvgTVbNJQIhJbyxpJ3NbFj0E28eA8FLIiVPSu5NzOxL4EtJOxBcLV+vohyOUynID1VbMqVZwlmR3cymmNntxex6EWgoaTxwJvBtHN8aGCFpLHAp8J8i55tBeIx+KS6EPRt3XQ9cI2kM2eudV5Is9wNvpRbmiuFy4DZJnxEs1owxs8XA4cB18fONBTqXcdj7QLvUwhxwdlxI/AJYQrgZOM5aiCgoKHnLB7T8abjIjuUWplPJ6bB9R/t42MikxSiVpcsyWoZIlPNfy5cIytK5tUf+196qXaNg1KoW1imOTdpta1c/WfJyVM8OLbJynTWhRIvRFbDjOJWBfIkHLglvee84TuVFZYaMJo4rYcdxKi2p6Ih8xpWw4ziVmvxWwa6EHcepxFQESzhP6gg5juOUByUX78mwqPvDkn6VNC5trKGkdyR9F/82iOOSdLukiZK+iPkPZeJK2HGcSs2atLwHHiXUkEnnIuBdM9sMeDe+B9iP0NJoM0Iuwz2ZXMCVsOM4lZZU7YjVTVs2s4+AouG6PYDH4uvHgIPTxh+3wHCgfqoCYmm4EnYcp1KzhpZwcTRNa2k0nVDsC6A5kF5haUocKxVfmHMcp9KSwcJco1heIMX9ZnZ/puc3M5O0RumcroQdx6nUqPQgtZmrkbb8i2Lb++hu+DWOTwVaps1rQQbdhNwd4ThOpaYc2hsNBHrH172BV9PGj49REjsBc9I7MZeEW8KO41RaROjXt9rHS08D3QhuiymEaorXAs9J6gv8BBwZpw8i9HqcCPwJnJDJNVwJO45TeVnDhp5m1quEXXsUM9eAM1b1Gq6EHcep1OR3vpwrYSeS79V6lyxdlrQIZXL7IVslLUJG3PjBxKRFyBkVIW3ZlbDjOJUaL2XpOI6TIHmug10JO45TuXEl7DiOkxCizGSNxHEl7DhO5UVrFiecC1wJO45TuXEl7DiOkxRrlqyRC1wJO45TaRF5bwi7EnYcp3LjccKO4zgJ4gtzjuM4SVEB/BGuhB3HqbSEUpb5rYVdCTuOU6nJbxXsStjJMu0234g6depSpUoVqlatypBhI5MWCYCzTjuJwW8NolHjJnw8YiwA4778nPP/fgbz58+jZavW3PfQ49Rdd91kBY2cctKJvDnodRo3acKoseMSleXlGy/im0/fp3b99ej/wCAA3nv8dj4b9By16zUAYK8Tz2PzHbsxcdTHvPPQjSxdsoSq1aqxz8kXsvF2Oycp/hovzEmaBMwFCoGlZtZRUkPgWaA1MAk40sx+X53ze3sjJ+sMGvwew0aOyRsFDNDzmN48+/LrK4ydfeYp/PuKqxny6Vi6H9iDO2+7KSHpVua43n149fW3khYDgO32PpTjr354pfHOh/XhjPte44z7XmPzHbsBUKteA4654j76P/AGh/7jel647h85lnZlstRt+W9m1j6tH91FwLtmthnwbny/WrgSdtYKOu+6Gw0aNFxh7PuJ39F5l90A6Lb7nrz26stJiFYsu+7WhYYNG5Y9MQe03qYT69Stl9HcDTbdknUbhQ7wTVpvxtLFC1m6eFF5ilcm5dDyHqAH8Fh8/Rhw8OqeyJWwk1WE6NF9H3bdqSMPP5hx5/BEaNu2HW++PhCAV19+galTJycsUcXi01cHcGe/A3j5xotYMHfOSvvHD3mLZptuSdXqNRKQLpAq4FPSf8SW92lbv2JOY8BgSaPS9jdNa+I5HWi6ujJWWCUsqamkpyT9EL+cYZIOyeL5J0lqVMz4QZIyfvSI5/kybhMk/UdSzdWU6UFJ7Vbn2FzxzvtDGPrpKF4aOIj7772bj4d8lLRIJXL73Q/w8IP3svtunZg3bx7Vq1VPWqQKQ6cDj+acx97l9HsHUqdhE96675oV9v8y6TsGP3gDPc6+IiEJI7GAT0kbseV92lac5bCrmXUA9gPOkNQlfWfsLbfazWkqpBJW8LS/AnxkZhub2fZAT6BFMXOzuvhoZgPN7NpVPOxvZrY10AnYGLhvNa99kplNWJ1jc8UGzZsD0KRJEw7scTCjRo5IWKKS2axNW1549U3eGzKCQw8/itYbb5y0SBWGOg0aUVClCgUFBXTc/0imfPPFX/vmzPiZpy87ncMuuIGGG2yYoJQAQip5ywQzmxr//gq8TPgd/yKpGUD8++vqSlghlTCwO7DYzO5NDZjZT2Z2B4CkPpIGSnoPeFdSHUnvShodLdIecV5rSV9LelLSV5JekFQr7Tr9045pm3buO+PrppJelvR53DqXJrSZzQNOBQ6Oq6tI+oekkZK+kHR5HKst6Y14znGSjorjH0jqGF/3lfStpBGSHkiT6VFJt0v6JD4lHJ6F7zsj5s+fz9y5c/96/d5/36Hdlvnbd23GjPC7WbZsGTffcDV9TizuSdQpjrm/Ldc5Xw19hyatNwdgwbw/eOLifuzV93w23Gr7pMRbgTXxCcffYt3Ua2BvYBwwEOgdp/UGXl1d+SpqiNqWwOgy5nQAtjGzWdEaPsTM/oguhuGSBsZ5bYC+ZjZU0sPA6cCNcd9MM+sg6XTgfOCkIte4HfjQzA6RVAWoU5bgUYYfgc0k1QM2I9xZBQyMjzqNgWlm1h0gzvsLSRsA/46fcS7wHvB52pRmwK5AW8L/LC8UlSP6tvoBtGzVqiyxM+LXX36h15GHArB06VKO7NmLvfbZNyvnXlNOPuFYhg75kFm/zWTrNq258F+XMH/+PB66P9zHDzjoYI4+rk+yQqZx/LG9GPLhB8ycOZNNWrfg35dcTp8T+yYiy3NXnc2PX4zgzzm/c0OvXdn9+L/z4+ef8vP3XyGJ+k2b0+PsKwH49NUnmDXtJz4YcCcfDLgTgN7XPkqdBuslIrtY4wW4psDL0WquCjxlZm9JGgk8J6kv8BNw5OpeoKIq4RWQdBdB6Sw2sx3i8DtmNis1Bbg6KrhlQHOWO9Inm9nQ+HoAcBbLlfBL8e8o4NBiLr07cDyAmRUCK69OlCBy/Lt33MbE93UISnkIcJOk64DXzWxIkeM7EZT/LABJzwObp+1/xcyWARMkFbtgEH1f9wN02L5jVpotb7Txxgz/bGw2TpV1HnhkQLHjp5x+Vo4lyYzHBzydtAh/ceT/3brS2Pb7HVHs3G7HnEG3Y84oZ4lWjTXprGFmPwDbFjP+G7DHGoj1FxVVCY8HDku9MbMzooX7Wdqc+WmvjyFYl9ub2ZIYfJ1aHCuqgNLfp2JrCsnSdxUfbVoD3xKU8TVmtpKPWFIHYH/gP5LeNbNVWeFIjwnK94QhxylX8r2AT0X1Cb8H1JR0WtpYrZImA/WAX6MC/huQvlrQSlIqpedo4ONVkONd4DQASVWKug2KIqkOcDfBUv0deBs4MY4jqbmkJtHd8KeZDQBuILgd0hkJdJXUILpaDsNxnJUpxR+cLyUlKqQlbGYm6WDgFkkXADMIlu+FJRzyJPCapC8J1vLXafu+IYSdPAxMAO5ZBVH+Dtwf/UKFBIU8rJh578eIjgLC6uqV8XMMlrQFMCz6nOYBxwKbAjdIWgYsiedN//xTJV0NjABmxc+TqSvEcdYagk84T7RtCSiEuK2dSGpN8Lnm7xJ+CUiqY2bzoiX8MvCwma1WyleH7TtaPqUYF8fCxYVJi1AmtWtWDJvmxg8mJi1Cmfx7r81GpaUIrzbbbre9vfl+cXZRoHmDGlm5zppQMf6vcYrjMkl7Enzbgwlx047jFMFLWeYxZjYJqHBWMICZnZ+0DI5TIchvHbx2K2HHcSo3Uv5HR7gSdhynUpPvC3OuhB3HqdTktwp2Jew4TqVGvjDnOI6TFFmoHVHuuBJ2HKdS40rYcRwnQdakgE8ucCXsOE6lxUPUHMdxkibPlXBFraLmOI6TEQVSiVsmSNpX0jeSJmoV+ktmLF+2T+g4jpNPrGF7oyrAXYQmn+2AXtlututK2HGcSk0ZLe/LohMw0cx+MLPFwDNAj2zK5z5hhzGjR82sU6PgpyyfthEwM8vnzDYuY3YoDxmz0qZ5zOhRb9eqrkalTKkpKb0jz/1F2t43ByanvZ8C7JgN2VK4EnYws8bZPqekz5Ku01oWLmN2yGcZzSw/Os2WgrsjHMdxSmYq0DLtfYs4ljVcCTuO45TMSGAzSRtJqg70BAZm8wLujnDKi/vLnpI4LmN2qAgyrhZmtlTSmYSmvFUIbcTGZ/Maa3WPOcdxnKRxd4TjOE6CuBJ2HMdJEFfCTqVA+d7DxnFKwJWwU6GRVBPAzExS1uOd11aK3tT8Jld+uBJ2KiySCoDdJJ0haW/g/yQ1TFquFBVVcUmSxRV7SUdKWt/yYAU//ntXOirlh3LWDsxsGTAOOAp4EnjezGbFoiuJUkSR7SZpH0n1K4JiTpO7P3AJsG6uZUh9T5K2ldRV0npmtqwyKuJK94GctY4/gNnAGGCvqPwKkxVpBUV2DnA1cAgwGGifoFgZI2lLoDewu5l9GxXh9pJyopCje2kv4E2gHzBWUsvKqIgr1Ydx1g7SrKSWhFj3g4A+wCbADXFfK0mdEhMyyLAt0NXMdgO+JtwsPk/bnzdWcbTSN4qvtwYaAKOB0yTdDVwJ3ArskCN5tgCOAA4zs2OAR4HhklpUNkVcaT6Is/YQraQDgf8CgyTdaWbTgOuA5pJeB14BcurHLEapTgdGS7qPUI+2e1QgR0qqng9+VvirZm4boI+ke4B/A58BEwlZtY+aWRfgY2DnHMnTH9ge2ADAzP4NPARMSFnE5S1HrvC0ZafCIWkz4HjgaIKiGBkV8ZmSTgdOBUaa2cgcypTuAz4Z+Bb4jmCdbwgcZWZLJPUGzgE+IijpxDGzQknfAx0JZRrPNbOFwPWpOZJ6At2Bw8tTlugGqQtcBFwBdJD0vZmNNbNLJFUDNmfF8pIVGk9bdioM0dJcH7gdqAf0MbNpkuoAI4ARZtYnfX6urU1JZwAnAceY2QRJewBnAr8QLPNdgZ7Zrj+wOkgqSLcoJR0JbE34bt80szfj+H5AX+AyMxtXDnIoPt3sSPD/tgAuBCYR/Om/Aa+a2WdFj8m2LEngStjJe4r+4OKCTX/gWeC/ZvaLpLoEf2sPYHwSj6uSGhA6L5xqZj+mlJyk7Qg3j/WBD8zsx1zLVhqSDgaWAF+b2feSzgPaAvcBdYAmwPtmNqMcZdiX4HN+kGCNzyUUBvoauIXw1HC1mc0tLxmSwpWwk9ekWUn7A38DlgK3EaIMjiasnr9vZtMlVcllZEQxN4f1gTeAI8zsh+j3XRx9mHnz+FzEddIHuBx4EdiXYPGOIFjv3YEtgL+Z2cQsy9CMoH+mxUW264DhZvaipE3itbtE2aYB6+fD00N54AtzTl4TFfA+wGXAS8BOwK1m9hZB4R0O7BlrvebMoiiiyDaLsk6PMl0vqXFUwH2ApyTVyZdoiDS59yHczP5mZucSHv2fBDqZ2W3AKUDnbCvgSD9gXUlV41PLEuCY+P574EPCotxpQP3KqoDBlbBTMdiBELPaBKhGWLTBzJ4FBgDjzGxxrlwQRRRwf+AlSa9J6h7l+YIQTnU9YRHuNDObl7QPMy20ryBGIJwI7A60jMpvACE5401J3czsx/Ky4M3sckKM90OSWgH3Aj8RfMEAi4DfgaYEa7zS4u4IJ+8o5jH/GoLFVg3oFx/1DwGamdndCYmZ8qUeBfwdOIYQCfEJ8BzQFSgE/mdmPyQlY4oiN47mZjY1ugFuJURJXZNSuHGBbnR5WMBp7qU6wHzgKYKyvY2wIHcisDHQEDgAOBIoNLNrsy1LvuBK2MlLJO1E6GTwDVCdEKM6IIYpdQEeAE43s3cTkq8Vweqdama94lg/oAMwHHgxHxeRYvTGQYQQuukEX+xjwCzgJjObVI7XTingA4C9gH8CC4GHgQXAdWY2KSaLzCAsDt4PHGhm35SXXEnj7ggn75DUmWBNpvyUbQiLRodKGgDcRIhlzZkCLiER4w6gnaS+ABZapY8HtgXywv+bjqQjCD70PoR6EO3NbClhMa4F0F9SueUORAW8B3AN8LSZ/RldSCcAi4HrJG1oZl8CtQmhfodWZgUMbgk7eUKalVQPOI6QMvtZfN0ZeISwal8HqJfLMK8ij/KHEtwMM8zsE0k9CMriZTN7OM6pb2azcyVfpkQXzkyCj/VwQgbfEkmtCR2EG1vIPCyPa6fC9e4iWOH3A4cSIl4mmNnNkh4BbjGzL+Ix65rZH+UhTz7hlrCTF0QF3IPgZjgNaGFmiwkhaEOB04GDzGxWruNs0xTwmcAFhGSGQZL2NbNXo8x9JB0X58/OpXzFUUIkxhJgECGRZO+ogE8mPHGoPBRwmhypynZvEcLPPiA84YwBtpRU08xOMLMvoq+atUEBg6ctO3mCpO0JC1yXAAcCF0kaGZMe3iL8v5rYY6mkjsRwOEJ41ffAQElHmtkrkpYCXyYlX1HSbhwnERY1XyXczK4A9pfUnlAH4hTg2HjDyyppTzd7ECrcjQX+R7ihLosLrB0J32eTuC9VonStwd0RTuLEwP1rgQYWKqKlIiL2BI42s+9SiQ85lKloSm91YD1C2vGZZtZV0gVR7n3M7J1cyVYaRVwn+wL/At4HWhFuEm8SXAC7E8LAri7PGNyogO8EziNkvj1PuNECdCOEpp1rZq+Xlwz5jrsjnEQo8rg8F3gPqBcjDDCzfxIiIl6StA7hUTpnsqUUsKT2ktrEOOSfgUZRVgh+1IeJFlzSFFHAmxAU78VmdimhqlwLwgLn42Z2OHBcOSvgdQiKtg+hdsZ84J743TYlLA6eujYrYHBL2EkQSX8DNgXmEB6XjyAswn2WtsjVJper40UU2VnA2cAowm/l8JiQcTwwL8q6l5lNyZV8mSDpbMIj/yJgupntFccPIBSXH0OwQAuzmUAiqREhvrcRMCy6IvoQEm3qAj1ifPLhhOiRl2N0xlqN+4SdRJC0K6FQ953A+QRl/AIh8qC7Qh2IBwjlIHMl0zpmtiC+3gXYCtiNkEzwuKTnzewISbMI8cA35aEC3o3gatiBUGdjlKRHzayPmb0efddjsq38JLUj1Pv9hZBuXE3S8YS6D4sJFvBUhWJGVwDnuAIOuCXs5JwYjH8m8KGZPRV9wncTsrSujFEGY6wcyiaWItNmBMv2aYLv9y1CzdoTzezXmOb7LKGOwZ65kmtVUKjidhNhIe54Mxun0I16BPCdmR1WTtdtQ0j4uMvMnohjtxMy3/4NbEf4bjcnJN5cE6NKHNwn7OSQND/wzoSuCTsqFLr5mVBjoYek2oRA/lwq4A4EX+krQGuCq6EfISZ5D0m1LFRn6wlMVWirlFdEV0MtQhuiEcABkrawUJx9R0LHkQ1KCF1bk+s2JnQ4edjMnkgle5jZWYQIkrsITzz9CUkhR5rZq9mWoyLjStgpd9J+cBvEKIf7CSvkjYCuMUGjLsFPWDOXj6kKBcvvIVTtWgr8gxAqNy7KeApwsKTaZrbUzHpbHpWlBJBUg2BpPkpIA76NULu4h6StzWyBme1kZtOy6QMGsFBj+FNg79R3lKaI/06ID94/yvCdmaXC0PwRPOJK2ClXYqiXxXCpgYSqWW8TlN4LhFZEzxIadF5uZr/lULZ9gJuBv8csrUXAu4RkjLMIGXsXExI0uudKrlXFzBYR3BAfEvyyvxMKsm9KiM+tXh6WZ3TRECMtlgAvpCnimnHaJODXbF+7MuFK2CkXJNWCEHgffYY3EFwOpxI6YIwg+F3vIoSoPWNmA3MoXwNCxa5PzGy4pKbA64TIgTcIIVRnEtKnTydYe4mTrkwl9ZJ0LUC8ed1FuHHcRWgJdCPwZAyvy7rlaaE3XUoR9yJ0k35BUl0zW6jQ7XozQslKpwRcCTtZR1J94D8xnAuCkv3MzD4C/jSzCwiVxk40s5cJPsXukrorR63Mzex34AngV0lXEpIYXjezb8zsA0LI3ObAKWb2iZn9lAu5SiP1VBFf70uweA+VdBn89ZkGE/zatwHfmtkv5SlTVMQp90NKET8SkzTuITzdfF2eMlR0PETNKQ9qE6qMHSBpMTAM6CjpWAuFwwEmxHmY2X2SlhAiIso9ZTUVCxxDtgoJRYImER7hiTK9H/flTQWvtASSLsC/zKyLpK7A2/EzXQq0JNzUbiuP7zItFXljYI6Z/RbdD1XMrNDMekl6nuB6OsLMBqXHXjsr4yFqTrmgUG+3ByE86WbCU9e7hCLiPxN8rueb2X8Tkq8gTantRYiOmAo8n28Lb+nE+OoPgJPN7JE41pLQlmgyIa16PzObUA7XTing7oQSo0cTmoMWxv1V0l5vYWZfZVuGyogrYSdrpP1Iq1mo0FWT4APellA8vJCQPVUbeNtCn7icylZkLF0R7w/sQXjEfyiGzSVO9FXXslDI6IBovb8CtDWztmnz1iXENy/MtuwKrY+WxtdbEaIwTjezEaXNje/dCi4DV8JOVpF0EKHVT1VCicdPCY/7WwGPmdnQtLk5+YGmXyfKN9fM3o/v0xXxwUAn4EYzm1XecmWCpG0IvtWxhDC03cxsnqRBhMSRznFeuXyXCqnIvQmJGAtjok1/M+sXb7JLol+4ruVhJ5GKgC/MOVlDUjdC1a4LCItxl8fFopcIhbxPktQ4tcKfKwspTQGfSwg5m5K2b5mkavH1K8BV+aCA076jLwhV0E4ipEnPi+P7A79I+ia+L6/vsjHwMtBAoSjQfGBnSa3MbGFUwLsSOiVXKycZKjW+MOdkkxYEJdyBEFnQM47/QbCKG8Tg/pyjULPgCEK2nhRqLGxuZg9F10mBmS0zs/lJyJdOEct9K0Id4B+BSyT9ZmZvApjZIZLulrSRlVOhezP7SqEa2sWE5JpzCAuYQ+NNrSbwf8B5ZpazSneVCXdHOGuMpB2ArwkNJM8kWEu9LRRsOQjYHzjbQgptrmRKV2QFQH1CIsOfhKaWzQhW3iAzuy5Xcq0Kks4nFBDqb2b/k3QMIS35eIJ7Z3MzO7ecrl20nvLWQC+C0r2IUI1tZ6AB8JSZvZ3+nTuZ40rYWWMkPUWI/z1J0n8JnXL7EhTILQQr6c0cypOugM8kpEM/Tuit1ptQ0esLSScS/Ko350q2TFFoO/93QqnMPyW1IESV7EEokF6DcGMbm+Xr1jOzOfH1fsAuhBoQTxOqo51CSEW+0cymp0dEOKuHK2FnlSlq8UhqQugwcSmhkeQLhFTV5sCtZjYoITlPIyjdnlaklbtC258zCK19yq2weaYU850eDexEKGy/JaE4+kLCIqcBi1PKMosy1IzXu5dQuP5Vgj+/GbAOoajR+oTwwqrAhYRojLWqHVG2cSXsrBYKBdkXA1+Z2SxJdwCTzex6LW+bvm4Si1xxUasW8AyhpsIXhMfnNoSW9J8QUnovttBePVGKWO4NzOz3GGd9HqEs5Y3AD4QbylPZtn6LyNKV4PMdTYiZfjla4f8guB5OJSjialbJW9HnClfCzmoRH+WPJviCPyaEog0E+pjZqDgnZz7Coj7gGPVwEeHxfREh8+1PghV5KSH2Nt8W4c4lyGuE1kO/p+JuJR0GXAYcYOWQQp0esSJpJ4L75i0zOyvu24DwvdUDern1mz1cCTsZkZaIsSNhceZ/hFCvXQl+30EEa/Ne4PZcLtAUUWQ9CQpjFCHxog7wvZn9olAsvjdwoMUOGvlCTBY5n1BU6HKCtdmP0JliP0KGWk8rhzrLaf+2WxDcCz9KaksoaHSdhQ4nSGoO1LNyyMZbm/E4YScj4o90X+ARoC1hsaZzTHrYlZBM8B0wMdcr5GkK+BSCv3IyQYG0MbNPgN8knUDwYf49HxSwpA4K6dLEG9tJwFAzm2RmvQmW+z2EsL+xwN7lrID3IhS1v1PSk4TIke7AuZLOADCzqa6As48rYadMFGhKaHrZA5hI8K1+Ex/955nZc4RGjm+kHm1zLF9jwkLWQQRL/VPCohKEdN56hIIy+bAIV5UQS/2vGK/8HeGmtmV8n+pM8QuhBOg0M5tWHrJEBdyZ8IRwBCGq5VnCDUuETskXRL+wUw64O8IpFknVCaFIi215UZZ/ExIvehLigL+V1IvQGy6nizTF+ZslXUxo5VMd2DcqmHOBd4Dx+eTHVKhnfDBB8V1OuKldRIg6eMPMhsR565vZ9HKUoyrBhXQksGH0Q9cHzgVmmtntqcXC8pJhbcctYWclom/wYcIj/aOSroi7mgPXAHtGBdyBsGpeJ8fypfuAt1BIp4VQyHwD4MKogI8ATgAW5IsC1vIi6L8T0oFfIrRRakeI5FgEHCVp5zgv6wo4/UnFQrGdswhPDo/HsdkEf/q2MdHFa0KUI24JOyug0AXjaeB+wuJWS8Ji0TQLRVs+JCwWTSO0Vr/Mctg5VysW3DmbEOs7HvhfXMm/PspcF2hCKByfs6ahJREXur6JN4f0ko/1gcMJi5qXEULRTgUeMLOstwVK8wHvQ4g/XmZmt0qqQ+iYvBnBBXIKcK2ZvZ5tGZwVcSXs/EWMTf2UkIn1bNp4S0Lth/cJP9CjCRbbFDMblqtQNIUmoYvj652BkwlW5ELCjeNbMzsj+oc3IijmcnuUz5So4G4FlhE6dRSniA8l3OzOAsaWp+WuUA/4OkLbpleApwjZeTUIiTabEJJYRiqWJS0vWRx3Rzgr0oRQ7axJaiBanpMJCQMdCWs5A8zseTMbBrmphiapHXCEpKqSNiTcFNYF/jCzmQRLclNJL5vZDDMbkQ8KOPIncCehnvKt8aaV3p9tNkEZ3gfMKGcFXJMQ+nY0IaHlO0L5zgGEm1kv4CNCTDCugMsfV8JOOmMJq+KdJaV+hCmFMIVgXTZKRjTWIzQG3ZBQQ+Fcws2iq6QaFko8Hg5YjGdNnLQEiGWErL27CP7z4hTxLEJTznLr6hEt4H2AYwndka8kFOHZk7Awd4OFVOh/ANM8IiI3uBJ2/iIu0nwG3A60kXRJ2u4NCO1/FuVSprgwRIwWMIL74WxCbYMbCKm9+0qqaaGo+GFmNjWXMhZHkcXDDQgZeuOA6wn+6uIUcXlawB0JdZ5/seXF1ycTniY2JrRHeiXKMZvgNpmy8pmcbONK2FmBqIhHAncAW0jqr1CL91bgQTPLWfvyqKRSi3CdCCv2zxEKyvQndEi+gbCgtUeUPy8WOdIU8FmEqINbJf0jhvJdS3AFPJhSxNm+vqS6khrG180Ivub5ZjY8TllEeLq5h5Bu/qiZDUmz3vPie1wbcCW8FlM0qSImPShNEd9GyJoaClxkZq/lMhEjTZGdQ4il3cDM3iC0dd+MEBnxNiG+NvEIiKIo1Nc4guB/NUL22Y1m9i0h1XsBaf73LF63DcGyPU3SpgSF+wGhO8YJAGb2A3A34amnp5m9F8dd+eYYj45YC4kB+oVxlb4DIUHgz6KhXHFeJwAL6b85J/ox/w3sYWbzo793JiGu9hxguJndnYRsRSkaJSLpUMIiVy9gb4Kv9VVgoJn9ozwiD+IC5mOEBIyXUkkWCq2HegJdgQ/N7IlsXtdZfby90VqGpPUJi1rXRTfDE4SkgUMk9TezF9IeSZcSyj6mjk2ic0I9YBLQUdLehLq6zQgxro8CeVHLoIgP+CjC08NAwkLc7sD5ZvaNpI+B3SU1tiy3epJUl+BGutfMHkobP54QRfKEpGXA/jHq5bFsXt9ZPVwJr338TijAczXhMfUYM3tPoY36fZIWxEf+lcilAlaooVCdYDkeRojaeJBgFT8AbJ16hM4H0hRwf0KW3rFmNkWSEdwOWyoUyakJ7BPD6rLNAoKf94XUgKQ+BAu8lqQWZnZnfMIZXQ7Xd1YD9wmvRcQEgUWEcKRqBAutcUyCGEyIDT1Jy4uy51I2xb8F8dH5AILy3cbMDjOz/c3sJUI8cGdCxl7iKDTBTL3emOB62M9itbEY8vUhwR1xDHB9eSjg+P3VIRQG2iVtrDahyt3OhI7IDQmhcIkXs3cCroTXAtIW3AolNbLQcPMkQpjXnoQ0XwhVuxKpsZBmZTeOftKrojw9Je0pqaakAwgW/BH5ED6l0PzygrSbVjXC0+WvcX+qBfxDZnYqwa/9eXnIYoHZhKSQwyV1iN/pvdEvvCGhtkaV6GZy8gRfmFuLUGjc+A9gBKEoyzWERZwmhPoLnYCbo8WZS7lS9Qy2A24mtB0aKmldQuRDW8JK/higZj7EAadQ6K/XEphtZt9LeoxQC/i6eNM7mXCjOxZYWt4uHYWU7bMJyS3PERYGdyJEulxsOWy46mSGK+FKTFQQm5vZxwq1Fu4h1I09GtjFzHZVKFl5H0GRnGVmE3K1ABdvCvsRrO9rgNmEegZdCY/tn0iqTQiXe4FQUObP8parLIrG0koaQHiq/D9CVmEPQm+4NwjKt5flsI6xQu3nI4HTgM+jTNea2Su5ksHJHFfClZT4iPxPoI6ZXShpT8Ki0HxC8ZYjzWySQtGen4G2ufQTxkWqGwlxqtsSEgn+qVDb4FSC9XgVwc95JnB6PljARaIg9iNURvtB0v2Em8ktBDfKscA8YJgl1BAzKuNCoIaZTU0ousUpA1fClZC0x/sdCO6G/yMU5vmQoHB3NrN5knYnWEznW6i9kCv5didEPWxnZhMlHUlYiPuUYD1OIRSZOYkQwdEv3xaSJP0dOJ5g5X4bx+4m3OiuNLMfk5TPqTj4wlwlQ6Hs5AWS1jOzkQQFfAXBSruaEKK2vkK/uNsIXRxypoAjMwlpu5vG9/8i+Kg3Ad4FNo0JGPsD++ehAt4FOA7Y1UJx+10ldTOz0wktgf6RRISJUzFxS7iSIek/hGSMQQR3xAxCndq6hMSMIwiVtH4HHrbYEy7Xj6nRSh9MeFw+3UKPOhSKsjcD+lg51FTIBjFr7zKCwp1DcKcsItRfeF5SMzP7OUERnQqE360rCZKqxtCjSwkr41sTip5/Ryg/WQtYx8yuk3QXoXfc4qT8hBYKhnchrN5XS9v1P0Jx8bxoR5ROzITbkJASPJCwADeA8LRxBqFNPa6AnVXBlXAlIKYiHy5pdIwouJ8QYTCZUDf2b4QohK0I/eH+cj8kuVBjZl/GVOTBkpYS4mv7EKzgxB/RlNZKKfIjwQKeY2b3Aa/FeccREjGOybmQToXHlXDlIOVfPVTSw8CLBCttgpkNljSWkDm1s6RtzOyL5ERdkWgR70WIXZ4BdDOzrxIWC1he31fSlsB0Mxsh6VhCCcpaZnaLQonNowjdp/NCbqdi4T7hSkKM992d0KDzZsIj/sHAqdHibAg0NLOJyUlZMgrVvwqTCucqIsuehAiSKxUKsl9FKHb/tJnNUiiQ/l/CQufdQIHlsM6yU7lwJVzJUOjq2x+YTqhjMB4408x+SVSwCkBMwqhKSHBoCdxoZpdLOphQNP5L4EUz+y2Go20P7OUK2FkTXAlXQiStR/D/nk2IhGhnZpOSlKkioVDD+Mj4doaZnS/pQEIRnj8INRh2IsRX/y8hMZ1KgscJV0LM7Dcz+9DMDgE6uwIum5hdluInQu+1F4Flkq43s9eAp4GlwL7AFa6AnWzglnAlpejKvqeslkz0AT8NPEwoij6V4Mo5iJBW3Rf41cz+GeevY2YLEhLXqWS4JVxJKRJa5b3DSudXQoRJX0JPvQcIySxfEqziG4FNJF0b5y9MQkincuIhas5aj5l9ESMePiAkXKQiTLYEZprZfZIuB2bF+X5Dc7KGK2HHAczsK0n7E2pXfBHLfO4CLI77c1aK0lm7cCXsOBEzG5WWwdfQ0pplOk554UrYcdKIWXF7ACMlLTOzR5KWyanceHSE4xRDbLX0Zz5k8DmVG1fCjuM4CeIhao7jOAniSthxHCdBXAk7juMkiCthx3GcBHEl7DiOkyCuhJ0Ki6RCSWMljZP0vKRaa3CuRyUdHl8/GIvMlzS3m6TOq3GNSZIaZTpeZM4qdcSWdJmk81dVRif3uBJ2KjILzKy9mW1FSC8+NX3n6radN7OTzGxCKVO6AaushB2nOFwJO5WFIcCm0UodImkgMEFSFUk3SBop6QtJp0Ao7SnpTknfSPov0CR1IkkfxII+SNpX0mhJn0t6V1JrgrI/J1rhu0lqLOnFeI2RseYEktaTNFjSeEkPAirrQ0h6RdKoeEy/IvtuiePvSmocxzaR9FY8ZkjsrOJUIDxt2anwRIt3P+CtONQB2MrMfoyKbI6Z7SCpBjBU0mBgO6AN0A5oCkwg1BNOP29jQlnLLvFcDWOPuXuBeWZ2Y5z3FHCLmX0sqRXwNrAFcCnwsZldEbt19M3g45wYr7EOIXX6RTP7jdCo9TMzO0fSJfHcZxIqvp1qZt9J2pHQ82731fganYRwJexUZNaJnaQhWMIPEdwEI8zsxzi+N7BNyt8L1AM2A7oQGncWAtMkvVfM+XcCPkqdy8xmlSDHnkC70KIOgHUl1YnXODQe+4ak3zP4TGdJOiS+bhll/Q1YBjwbxwcAL8VrdAaeT7t2jQyu4eQRroSdiswCM2ufPhCV0fz0IaC/mb1dZN7+WZSjANjJzFYo9p6mGDNCUjeCQt/ZzP6U9AFQs4TpFq87u+h34FQs3CfsVHbeBk6TVA1A0uaSagMfAUdFn3Ez4G/FHDsc6CJpo3hswzg+F6ibNm8wocM1cV77+PIj4Og4th/QoAxZ6wG/RwXclmCJpygAUtb80QQ3xx/Aj5KOiNeQpG3LuIaTZ7gSdio7DxL8vaMljQPuIzwBvgx8F/c9DgwreqCZzQD6ER79P2e5O+A14JDUwhxwFtAxLvxNYHmUxuUEJT6e4JYoqzHoW0BVSV8B1xJuAinmA53iZ9gduCKOHwP0jfKNB3pk8J04eYRXUXMcx0kQt4Qdx3ESxJWw4zhOgrgSdhzHSRBXwo7jOAniSthxHCdBXAk7juMkiCthx3GcBPl/w2vfZKhHrhYAAAAASUVORK5CYII=\n",
       "datasetInfos": [],
       "metadata": {},
       "removedWidgets": [],
       "type": "image"
      }
     },
     "output_type": "display_data"
    }
   ],
   "source": [
    "plot_confusion_matrix(cm,class_names)"
   ]
  },
  {
   "cell_type": "code",
   "execution_count": 0,
   "metadata": {
    "application/vnd.databricks.v1+cell": {
     "cellMetadata": {
      "byteLimit": 2048000,
      "rowLimit": 10000
     },
     "inputWidgets": {},
     "nuid": "36df34c9-5cfd-4aa9-9087-64066df9822c",
     "showTitle": false,
     "title": ""
    }
   },
   "outputs": [
    {
     "output_type": "stream",
     "name": "stdout",
     "output_type": "stream",
     "text": [
      "              precision    recall  f1-score   support\n\n         0.0       0.97      0.95      0.96       364\n         1.0       0.89      0.99      0.93       313\n         2.0       0.98      0.91      0.95       195\n         3.0       0.94      0.86      0.90       177\n\n    accuracy                           0.94      1049\n   macro avg       0.94      0.93      0.93      1049\nweighted avg       0.94      0.94      0.94      1049\n\n"
     ]
    }
   ],
   "source": [
    "# Classication Report\n",
    "print(classification_report(y_true,y_pred))"
   ]
  },
  {
   "cell_type": "code",
   "execution_count": 0,
   "metadata": {
    "application/vnd.databricks.v1+cell": {
     "cellMetadata": {
      "byteLimit": 2048000,
      "rowLimit": 10000
     },
     "inputWidgets": {},
     "nuid": "ca21c5e5-7c2e-4c28-a009-9b86554bd4f6",
     "showTitle": false,
     "title": ""
    }
   },
   "outputs": [],
   "source": [
    "# Just as we did in jupyter notebook likewise it can be coded, the main thing is connection to big data sources like S3 and other sources and the implementation of clusters, free version gives only one but paid gives many. "
   ]
  }
 ],
 "metadata": {
  "application/vnd.databricks.v1+notebook": {
   "dashboards": [],
   "environmentMetadata": null,
   "language": "python",
   "notebookMetadata": {
    "pythonIndentUnit": 4
   },
   "notebookName": "2024-10-02 - DBFS Example",
   "widgets": {}
  }
 },
 "nbformat": 4,
 "nbformat_minor": 0
}
